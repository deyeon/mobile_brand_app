{
 "cells": [
  {
   "cell_type": "code",
   "execution_count": 1,
   "id": "8ca307b5",
   "metadata": {},
   "outputs": [],
   "source": [
    "import pandas as pd\n",
    "import numpy as np\n",
    "import matplotlib.pyplot as plt\n",
    "import seaborn as sb"
   ]
  },
  {
   "cell_type": "code",
   "execution_count": 63,
   "id": "30da2ba3",
   "metadata": {},
   "outputs": [],
   "source": [
    "df=pd.read_csv('data/Amazon_top5_mobilephones.csv')"
   ]
  },
  {
   "cell_type": "code",
   "execution_count": 64,
   "id": "5db21e19",
   "metadata": {},
   "outputs": [
    {
     "data": {
      "text/plain": [
       "Description     0\n",
       "Price           0\n",
       "Rating         22\n",
       "ReviewCount     0\n",
       "Url             0\n",
       "dtype: int64"
      ]
     },
     "execution_count": 64,
     "metadata": {},
     "output_type": "execute_result"
    }
   ],
   "source": [
    "df.isna().sum()"
   ]
  },
  {
   "cell_type": "code",
   "execution_count": 65,
   "id": "c2e5a310",
   "metadata": {},
   "outputs": [],
   "source": [
    "df=df.dropna(axis=0)"
   ]
  },
  {
   "cell_type": "code",
   "execution_count": 66,
   "id": "e7d3f88d",
   "metadata": {},
   "outputs": [],
   "source": [
    "Rating_split=df['Rating'].str.split(\" out of 5 stars\")"
   ]
  },
  {
   "cell_type": "code",
   "execution_count": 67,
   "id": "9822e757",
   "metadata": {},
   "outputs": [],
   "source": [
    "df['Rating']=Rating_split.str.get(0)"
   ]
  },
  {
   "cell_type": "code",
   "execution_count": 68,
   "id": "f5964f8f",
   "metadata": {},
   "outputs": [],
   "source": [
    "df[\"Rating\"] = pd.to_numeric(df[\"Rating\"])"
   ]
  },
  {
   "cell_type": "code",
   "execution_count": 69,
   "id": "082ac439",
   "metadata": {},
   "outputs": [
    {
     "data": {
      "text/plain": [
       "0       4.6\n",
       "1       4.5\n",
       "2       4.5\n",
       "3       4.6\n",
       "4       4.6\n",
       "       ... \n",
       "1898    4.1\n",
       "1899    3.6\n",
       "1900    4.2\n",
       "1901    4.1\n",
       "1902    4.0\n",
       "Name: Rating, Length: 1881, dtype: float64"
      ]
     },
     "execution_count": 69,
     "metadata": {},
     "output_type": "execute_result"
    }
   ],
   "source": [
    "df[\"Rating\"]"
   ]
  },
  {
   "cell_type": "code",
   "execution_count": 70,
   "id": "0645a67c",
   "metadata": {},
   "outputs": [],
   "source": [
    "df['ReviewCount']=df['ReviewCount'].str.replace(\",\",\"\")"
   ]
  },
  {
   "cell_type": "code",
   "execution_count": 83,
   "id": "99a77d8e",
   "metadata": {},
   "outputs": [],
   "source": [
    "df['ReviewCount']=df['ReviewCount'].replace('No reviews',np.NaN)"
   ]
  },
  {
   "cell_type": "code",
   "execution_count": 84,
   "id": "854746c7",
   "metadata": {},
   "outputs": [
    {
     "data": {
      "text/plain": [
       "Description     0\n",
       "Price           0\n",
       "Rating          0\n",
       "ReviewCount    20\n",
       "Url             0\n",
       "dtype: int64"
      ]
     },
     "execution_count": 84,
     "metadata": {},
     "output_type": "execute_result"
    }
   ],
   "source": [
    "df.isna().sum()"
   ]
  },
  {
   "cell_type": "code",
   "execution_count": 85,
   "id": "8d365708",
   "metadata": {},
   "outputs": [],
   "source": [
    "df=df.dropna(axis=0)"
   ]
  },
  {
   "cell_type": "code",
   "execution_count": 86,
   "id": "13164174",
   "metadata": {},
   "outputs": [
    {
     "name": "stderr",
     "output_type": "stream",
     "text": [
      "C:\\Users\\5-16\\AppData\\Local\\Temp\\ipykernel_8616\\3092281316.py:1: SettingWithCopyWarning: \n",
      "A value is trying to be set on a copy of a slice from a DataFrame.\n",
      "Try using .loc[row_indexer,col_indexer] = value instead\n",
      "\n",
      "See the caveats in the documentation: https://pandas.pydata.org/pandas-docs/stable/user_guide/indexing.html#returning-a-view-versus-a-copy\n",
      "  df[\"ReviewCount\"] = pd.to_numeric(df[\"ReviewCount\"])\n"
     ]
    }
   ],
   "source": [
    "df[\"ReviewCount\"] = pd.to_numeric(df[\"ReviewCount\"])"
   ]
  },
  {
   "cell_type": "code",
   "execution_count": 89,
   "id": "9ad0d07d",
   "metadata": {},
   "outputs": [
    {
     "data": {
      "text/plain": [
       "Description     object\n",
       "Price            int64\n",
       "Rating         float64\n",
       "ReviewCount      int64\n",
       "Url             object\n",
       "dtype: object"
      ]
     },
     "execution_count": 89,
     "metadata": {},
     "output_type": "execute_result"
    }
   ],
   "source": [
    "df.dtypes"
   ]
  },
  {
   "cell_type": "code",
   "execution_count": null,
   "id": "8185bd05",
   "metadata": {},
   "outputs": [],
   "source": []
  }
 ],
 "metadata": {
  "kernelspec": {
   "display_name": "Python 3 (ipykernel)",
   "language": "python",
   "name": "python3"
  },
  "language_info": {
   "codemirror_mode": {
    "name": "ipython",
    "version": 3
   },
   "file_extension": ".py",
   "mimetype": "text/x-python",
   "name": "python",
   "nbconvert_exporter": "python",
   "pygments_lexer": "ipython3",
   "version": "3.8.13"
  }
 },
 "nbformat": 4,
 "nbformat_minor": 5
}
