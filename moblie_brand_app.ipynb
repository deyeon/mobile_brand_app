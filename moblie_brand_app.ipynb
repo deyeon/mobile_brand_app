{
 "cells": [
  {
   "cell_type": "code",
   "execution_count": 1,
   "id": "b3b3742b",
   "metadata": {},
   "outputs": [],
   "source": [
    "import pandas as pd\n",
    "import numpy as np\n",
    "import matplotlib.pyplot as plt\n",
    "import seaborn as sb"
   ]
  },
  {
   "cell_type": "code",
   "execution_count": 63,
   "id": "a82b3e50",
   "metadata": {},
   "outputs": [],
   "source": [
    "df=pd.read_csv('data/Amazon_top5_mobilephones.csv')"
   ]
  },
  {
   "cell_type": "code",
   "execution_count": 64,
   "id": "c163fc87",
   "metadata": {},
   "outputs": [
    {
     "data": {
      "text/plain": [
       "Description     0\n",
       "Price           0\n",
       "Rating         22\n",
       "ReviewCount     0\n",
       "Url             0\n",
       "dtype: int64"
      ]
     },
     "execution_count": 64,
     "metadata": {},
     "output_type": "execute_result"
    }
   ],
   "source": [
    "df.isna().sum()"
   ]
  },
  {
   "cell_type": "code",
   "execution_count": 65,
   "id": "7afa31a7",
   "metadata": {},
   "outputs": [],
   "source": [
    "df=df.dropna(axis=0)"
   ]
  },
  {
   "cell_type": "code",
   "execution_count": 66,
   "id": "51197d9e",
   "metadata": {},
   "outputs": [],
   "source": [
    "Rating_split=df['Rating'].str.split(\" out of 5 stars\")"
   ]
  },
  {
   "cell_type": "code",
   "execution_count": 67,
   "id": "7b1b4699",
   "metadata": {},
   "outputs": [],
   "source": [
    "df['Rating']=Rating_split.str.get(0)"
   ]
  },
  {
   "cell_type": "code",
   "execution_count": 68,
   "id": "38c3c499",
   "metadata": {},
   "outputs": [],
   "source": [
    "df[\"Rating\"] = pd.to_numeric(df[\"Rating\"])"
   ]
  },
  {
   "cell_type": "code",
   "execution_count": 69,
   "id": "e3762387",
   "metadata": {},
   "outputs": [
    {
     "data": {
      "text/plain": [
       "0       4.6\n",
       "1       4.5\n",
       "2       4.5\n",
       "3       4.6\n",
       "4       4.6\n",
       "       ... \n",
       "1898    4.1\n",
       "1899    3.6\n",
       "1900    4.2\n",
       "1901    4.1\n",
       "1902    4.0\n",
       "Name: Rating, Length: 1881, dtype: float64"
      ]
     },
     "execution_count": 69,
     "metadata": {},
     "output_type": "execute_result"
    }
   ],
   "source": [
    "df[\"Rating\"]"
   ]
  },
  {
   "cell_type": "code",
   "execution_count": 70,
   "id": "9448bbc1",
   "metadata": {},
   "outputs": [],
   "source": [
    "df['ReviewCount']=df['ReviewCount'].str.replace(\",\",\"\")"
   ]
  },
  {
   "cell_type": "code",
   "execution_count": 83,
   "id": "9d68330d",
   "metadata": {},
   "outputs": [],
   "source": [
    "df['ReviewCount']=df['ReviewCount'].replace('No reviews',np.NaN)"
   ]
  },
  {
   "cell_type": "code",
   "execution_count": 84,
   "id": "4137f82f",
   "metadata": {},
   "outputs": [
    {
     "data": {
      "text/plain": [
       "Description     0\n",
       "Price           0\n",
       "Rating          0\n",
       "ReviewCount    20\n",
       "Url             0\n",
       "dtype: int64"
      ]
     },
     "execution_count": 84,
     "metadata": {},
     "output_type": "execute_result"
    }
   ],
   "source": [
    "df.isna().sum()"
   ]
  },
  {
   "cell_type": "code",
   "execution_count": 85,
   "id": "9352c334",
   "metadata": {},
   "outputs": [],
   "source": [
    "df=df.dropna(axis=0)"
   ]
  },
  {
   "cell_type": "code",
   "execution_count": 86,
   "id": "c56ab691",
   "metadata": {},
   "outputs": [
    {
     "name": "stderr",
     "output_type": "stream",
     "text": [
      "C:\\Users\\5-16\\AppData\\Local\\Temp\\ipykernel_8616\\3092281316.py:1: SettingWithCopyWarning: \n",
      "A value is trying to be set on a copy of a slice from a DataFrame.\n",
      "Try using .loc[row_indexer,col_indexer] = value instead\n",
      "\n",
      "See the caveats in the documentation: https://pandas.pydata.org/pandas-docs/stable/user_guide/indexing.html#returning-a-view-versus-a-copy\n",
      "  df[\"ReviewCount\"] = pd.to_numeric(df[\"ReviewCount\"])\n"
     ]
    }
   ],
   "source": [
    "df[\"ReviewCount\"] = pd.to_numeric(df[\"ReviewCount\"])"
   ]
  },
  {
   "cell_type": "code",
   "execution_count": 89,
   "id": "f86fac7c",
   "metadata": {},
   "outputs": [
    {
     "data": {
      "text/plain": [
       "Description     object\n",
       "Price            int64\n",
       "Rating         float64\n",
       "ReviewCount      int64\n",
       "Url             object\n",
       "dtype: object"
      ]
     },
     "execution_count": 89,
     "metadata": {},
     "output_type": "execute_result"
    }
   ],
   "source": [
    "df.dtypes"
   ]
  },
  {
   "cell_type": "code",
   "execution_count": 90,
   "id": "0b553efd",
   "metadata": {},
   "outputs": [
    {
     "data": {
      "text/html": [
       "<div>\n",
       "<style scoped>\n",
       "    .dataframe tbody tr th:only-of-type {\n",
       "        vertical-align: middle;\n",
       "    }\n",
       "\n",
       "    .dataframe tbody tr th {\n",
       "        vertical-align: top;\n",
       "    }\n",
       "\n",
       "    .dataframe thead th {\n",
       "        text-align: right;\n",
       "    }\n",
       "</style>\n",
       "<table border=\"1\" class=\"dataframe\">\n",
       "  <thead>\n",
       "    <tr style=\"text-align: right;\">\n",
       "      <th></th>\n",
       "      <th>Price</th>\n",
       "      <th>Rating</th>\n",
       "      <th>ReviewCount</th>\n",
       "    </tr>\n",
       "  </thead>\n",
       "  <tbody>\n",
       "    <tr>\n",
       "      <th>count</th>\n",
       "      <td>1861.000000</td>\n",
       "      <td>1861.000000</td>\n",
       "      <td>1861.000000</td>\n",
       "    </tr>\n",
       "    <tr>\n",
       "      <th>mean</th>\n",
       "      <td>28060.612037</td>\n",
       "      <td>4.071467</td>\n",
       "      <td>14912.221924</td>\n",
       "    </tr>\n",
       "    <tr>\n",
       "      <th>std</th>\n",
       "      <td>23116.577628</td>\n",
       "      <td>0.442315</td>\n",
       "      <td>35418.405403</td>\n",
       "    </tr>\n",
       "    <tr>\n",
       "      <th>min</th>\n",
       "      <td>5224.000000</td>\n",
       "      <td>2.000000</td>\n",
       "      <td>1.000000</td>\n",
       "    </tr>\n",
       "    <tr>\n",
       "      <th>25%</th>\n",
       "      <td>12660.000000</td>\n",
       "      <td>4.000000</td>\n",
       "      <td>82.000000</td>\n",
       "    </tr>\n",
       "    <tr>\n",
       "      <th>50%</th>\n",
       "      <td>18999.000000</td>\n",
       "      <td>4.100000</td>\n",
       "      <td>3354.000000</td>\n",
       "    </tr>\n",
       "    <tr>\n",
       "      <th>75%</th>\n",
       "      <td>32999.000000</td>\n",
       "      <td>4.300000</td>\n",
       "      <td>12588.000000</td>\n",
       "    </tr>\n",
       "    <tr>\n",
       "      <th>max</th>\n",
       "      <td>111900.000000</td>\n",
       "      <td>5.000000</td>\n",
       "      <td>304898.000000</td>\n",
       "    </tr>\n",
       "  </tbody>\n",
       "</table>\n",
       "</div>"
      ],
      "text/plain": [
       "               Price       Rating    ReviewCount\n",
       "count    1861.000000  1861.000000    1861.000000\n",
       "mean    28060.612037     4.071467   14912.221924\n",
       "std     23116.577628     0.442315   35418.405403\n",
       "min      5224.000000     2.000000       1.000000\n",
       "25%     12660.000000     4.000000      82.000000\n",
       "50%     18999.000000     4.100000    3354.000000\n",
       "75%     32999.000000     4.300000   12588.000000\n",
       "max    111900.000000     5.000000  304898.000000"
      ]
     },
     "execution_count": 90,
     "metadata": {},
     "output_type": "execute_result"
    }
   ],
   "source": [
    "df.describe()"
   ]
  },
  {
   "cell_type": "code",
   "execution_count": 104,
   "id": "bbcdf3bc",
   "metadata": {},
   "outputs": [
    {
     "data": {
      "text/html": [
       "<div>\n",
       "<style scoped>\n",
       "    .dataframe tbody tr th:only-of-type {\n",
       "        vertical-align: middle;\n",
       "    }\n",
       "\n",
       "    .dataframe tbody tr th {\n",
       "        vertical-align: top;\n",
       "    }\n",
       "\n",
       "    .dataframe thead th {\n",
       "        text-align: right;\n",
       "    }\n",
       "</style>\n",
       "<table border=\"1\" class=\"dataframe\">\n",
       "  <thead>\n",
       "    <tr style=\"text-align: right;\">\n",
       "      <th></th>\n",
       "      <th>Description</th>\n",
       "      <th>Price</th>\n",
       "      <th>Rating</th>\n",
       "      <th>ReviewCount</th>\n",
       "      <th>Url</th>\n",
       "    </tr>\n",
       "  </thead>\n",
       "  <tbody>\n",
       "    <tr>\n",
       "      <th>2</th>\n",
       "      <td>Apple iPhone 12 (128GB) - Green</td>\n",
       "      <td>55999</td>\n",
       "      <td>4.5</td>\n",
       "      <td>4941</td>\n",
       "      <td>https://www.amazon.in//New-Apple-iPhone-12-128...</td>\n",
       "    </tr>\n",
       "    <tr>\n",
       "      <th>3</th>\n",
       "      <td>Apple iPhone 12 (64GB) - Green</td>\n",
       "      <td>48900</td>\n",
       "      <td>4.6</td>\n",
       "      <td>1299</td>\n",
       "      <td>https://www.amazon.in//New-Apple-iPhone-12-64G...</td>\n",
       "    </tr>\n",
       "    <tr>\n",
       "      <th>4</th>\n",
       "      <td>Apple iPhone 13 (128GB) - Green</td>\n",
       "      <td>65999</td>\n",
       "      <td>4.6</td>\n",
       "      <td>7507</td>\n",
       "      <td>https://www.amazon.in//Apple-iPhone-13-128GB-G...</td>\n",
       "    </tr>\n",
       "    <tr>\n",
       "      <th>20</th>\n",
       "      <td>Apple iPhone 12 (128GB) - Green</td>\n",
       "      <td>55999</td>\n",
       "      <td>4.5</td>\n",
       "      <td>4941</td>\n",
       "      <td>https://www.amazon.in//New-Apple-iPhone-12-128...</td>\n",
       "    </tr>\n",
       "    <tr>\n",
       "      <th>21</th>\n",
       "      <td>Apple iPhone 12 (64GB) - Green</td>\n",
       "      <td>48900</td>\n",
       "      <td>4.6</td>\n",
       "      <td>1299</td>\n",
       "      <td>https://www.amazon.in//New-Apple-iPhone-12-64G...</td>\n",
       "    </tr>\n",
       "    <tr>\n",
       "      <th>...</th>\n",
       "      <td>...</td>\n",
       "      <td>...</td>\n",
       "      <td>...</td>\n",
       "      <td>...</td>\n",
       "      <td>...</td>\n",
       "    </tr>\n",
       "    <tr>\n",
       "      <th>1863</th>\n",
       "      <td>vivo Y22 (Metaverse Green, 6GB RAM, 128GB Stor...</td>\n",
       "      <td>16499</td>\n",
       "      <td>3.6</td>\n",
       "      <td>28</td>\n",
       "      <td>https://www.amazon.in//Y22-Metaverse-Storage-A...</td>\n",
       "    </tr>\n",
       "    <tr>\n",
       "      <th>1868</th>\n",
       "      <td>vivo Y22 (Metaverse Green, 4GB RAM, 64GB Stora...</td>\n",
       "      <td>14499</td>\n",
       "      <td>3.6</td>\n",
       "      <td>28</td>\n",
       "      <td>https://www.amazon.in//Metaverse-Storage-Addit...</td>\n",
       "    </tr>\n",
       "    <tr>\n",
       "      <th>1881</th>\n",
       "      <td>vivo Y22 (Metaverse Green, 6GB RAM, 128GB Stor...</td>\n",
       "      <td>16499</td>\n",
       "      <td>3.6</td>\n",
       "      <td>28</td>\n",
       "      <td>https://www.amazon.in//Y22-Metaverse-Storage-A...</td>\n",
       "    </tr>\n",
       "    <tr>\n",
       "      <th>1886</th>\n",
       "      <td>vivo Y22 (Metaverse Green, 4GB RAM, 64GB Stora...</td>\n",
       "      <td>14499</td>\n",
       "      <td>3.6</td>\n",
       "      <td>28</td>\n",
       "      <td>https://www.amazon.in//Metaverse-Storage-Addit...</td>\n",
       "    </tr>\n",
       "    <tr>\n",
       "      <th>1899</th>\n",
       "      <td>vivo Y22 (Metaverse Green, 6GB RAM, 128GB Stor...</td>\n",
       "      <td>16499</td>\n",
       "      <td>3.6</td>\n",
       "      <td>28</td>\n",
       "      <td>https://www.amazon.in//Y22-Metaverse-Storage-A...</td>\n",
       "    </tr>\n",
       "  </tbody>\n",
       "</table>\n",
       "<p>281 rows × 5 columns</p>\n",
       "</div>"
      ],
      "text/plain": [
       "                                            Description  Price  Rating  \\\n",
       "2                       Apple iPhone 12 (128GB) - Green  55999     4.5   \n",
       "3                        Apple iPhone 12 (64GB) - Green  48900     4.6   \n",
       "4                       Apple iPhone 13 (128GB) - Green  65999     4.6   \n",
       "20                      Apple iPhone 12 (128GB) - Green  55999     4.5   \n",
       "21                       Apple iPhone 12 (64GB) - Green  48900     4.6   \n",
       "...                                                 ...    ...     ...   \n",
       "1863  vivo Y22 (Metaverse Green, 6GB RAM, 128GB Stor...  16499     3.6   \n",
       "1868  vivo Y22 (Metaverse Green, 4GB RAM, 64GB Stora...  14499     3.6   \n",
       "1881  vivo Y22 (Metaverse Green, 6GB RAM, 128GB Stor...  16499     3.6   \n",
       "1886  vivo Y22 (Metaverse Green, 4GB RAM, 64GB Stora...  14499     3.6   \n",
       "1899  vivo Y22 (Metaverse Green, 6GB RAM, 128GB Stor...  16499     3.6   \n",
       "\n",
       "      ReviewCount                                                Url  \n",
       "2            4941  https://www.amazon.in//New-Apple-iPhone-12-128...  \n",
       "3            1299  https://www.amazon.in//New-Apple-iPhone-12-64G...  \n",
       "4            7507  https://www.amazon.in//Apple-iPhone-13-128GB-G...  \n",
       "20           4941  https://www.amazon.in//New-Apple-iPhone-12-128...  \n",
       "21           1299  https://www.amazon.in//New-Apple-iPhone-12-64G...  \n",
       "...           ...                                                ...  \n",
       "1863           28  https://www.amazon.in//Y22-Metaverse-Storage-A...  \n",
       "1868           28  https://www.amazon.in//Metaverse-Storage-Addit...  \n",
       "1881           28  https://www.amazon.in//Y22-Metaverse-Storage-A...  \n",
       "1886           28  https://www.amazon.in//Metaverse-Storage-Addit...  \n",
       "1899           28  https://www.amazon.in//Y22-Metaverse-Storage-A...  \n",
       "\n",
       "[281 rows x 5 columns]"
      ]
     },
     "execution_count": 104,
     "metadata": {},
     "output_type": "execute_result"
    }
   ],
   "source": [
    "df[df['Description'].str.contains('green',case=False)]"
   ]
  },
  {
   "cell_type": "code",
   "execution_count": 105,
   "id": "f524fa3c",
   "metadata": {},
   "outputs": [
    {
     "name": "stderr",
     "output_type": "stream",
     "text": [
      "C:\\Users\\5-16\\AppData\\Local\\Temp\\ipykernel_8616\\173084191.py:1: SettingWithCopyWarning:\n",
      "\n",
      "\n",
      "A value is trying to be set on a copy of a slice from a DataFrame\n",
      "\n",
      "See the caveats in the documentation: https://pandas.pydata.org/pandas-docs/stable/user_guide/indexing.html#returning-a-view-versus-a-copy\n",
      "\n"
     ]
    }
   ],
   "source": [
    "df.rename(columns = {'Description':'product name'},inplace=True)"
   ]
  },
  {
   "cell_type": "code",
   "execution_count": 106,
   "id": "e607d2bc",
   "metadata": {},
   "outputs": [
    {
     "data": {
      "text/html": [
       "<div>\n",
       "<style scoped>\n",
       "    .dataframe tbody tr th:only-of-type {\n",
       "        vertical-align: middle;\n",
       "    }\n",
       "\n",
       "    .dataframe tbody tr th {\n",
       "        vertical-align: top;\n",
       "    }\n",
       "\n",
       "    .dataframe thead th {\n",
       "        text-align: right;\n",
       "    }\n",
       "</style>\n",
       "<table border=\"1\" class=\"dataframe\">\n",
       "  <thead>\n",
       "    <tr style=\"text-align: right;\">\n",
       "      <th></th>\n",
       "      <th>product name</th>\n",
       "      <th>Price</th>\n",
       "      <th>Rating</th>\n",
       "      <th>ReviewCount</th>\n",
       "      <th>Url</th>\n",
       "    </tr>\n",
       "  </thead>\n",
       "  <tbody>\n",
       "    <tr>\n",
       "      <th>0</th>\n",
       "      <td>Apple iPhone 13 (128GB) - Pink</td>\n",
       "      <td>65999</td>\n",
       "      <td>4.6</td>\n",
       "      <td>7507</td>\n",
       "      <td>https://www.amazon.in//sspa/click?ie=UTF8&amp;spc=...</td>\n",
       "    </tr>\n",
       "    <tr>\n",
       "      <th>1</th>\n",
       "      <td>Apple iPhone 13 Mini (128GB) - Pink</td>\n",
       "      <td>64900</td>\n",
       "      <td>4.5</td>\n",
       "      <td>1341</td>\n",
       "      <td>https://www.amazon.in//sspa/click?ie=UTF8&amp;spc=...</td>\n",
       "    </tr>\n",
       "    <tr>\n",
       "      <th>2</th>\n",
       "      <td>Apple iPhone 12 (128GB) - Green</td>\n",
       "      <td>55999</td>\n",
       "      <td>4.5</td>\n",
       "      <td>4941</td>\n",
       "      <td>https://www.amazon.in//New-Apple-iPhone-12-128...</td>\n",
       "    </tr>\n",
       "    <tr>\n",
       "      <th>3</th>\n",
       "      <td>Apple iPhone 12 (64GB) - Green</td>\n",
       "      <td>48900</td>\n",
       "      <td>4.6</td>\n",
       "      <td>1299</td>\n",
       "      <td>https://www.amazon.in//New-Apple-iPhone-12-64G...</td>\n",
       "    </tr>\n",
       "    <tr>\n",
       "      <th>4</th>\n",
       "      <td>Apple iPhone 13 (128GB) - Green</td>\n",
       "      <td>65999</td>\n",
       "      <td>4.6</td>\n",
       "      <td>7507</td>\n",
       "      <td>https://www.amazon.in//Apple-iPhone-13-128GB-G...</td>\n",
       "    </tr>\n",
       "    <tr>\n",
       "      <th>...</th>\n",
       "      <td>...</td>\n",
       "      <td>...</td>\n",
       "      <td>...</td>\n",
       "      <td>...</td>\n",
       "      <td>...</td>\n",
       "    </tr>\n",
       "    <tr>\n",
       "      <th>1898</th>\n",
       "      <td>Vivo Y21 (Midnight Blue, 4GB RAM, 64GB Storage...</td>\n",
       "      <td>12660</td>\n",
       "      <td>4.1</td>\n",
       "      <td>4302</td>\n",
       "      <td>https://www.amazon.in//Vivo-Y21-Midnight-Stora...</td>\n",
       "    </tr>\n",
       "    <tr>\n",
       "      <th>1899</th>\n",
       "      <td>vivo Y22 (Metaverse Green, 6GB RAM, 128GB Stor...</td>\n",
       "      <td>16499</td>\n",
       "      <td>3.6</td>\n",
       "      <td>28</td>\n",
       "      <td>https://www.amazon.in//Y22-Metaverse-Storage-A...</td>\n",
       "    </tr>\n",
       "    <tr>\n",
       "      <th>1900</th>\n",
       "      <td>Vivo Y33s (Mirror Black, 8GB RAM, 128GB Storag...</td>\n",
       "      <td>17900</td>\n",
       "      <td>4.2</td>\n",
       "      <td>923</td>\n",
       "      <td>https://www.amazon.in//Vivo-Y33s-Mirror-Storag...</td>\n",
       "    </tr>\n",
       "    <tr>\n",
       "      <th>1901</th>\n",
       "      <td>vivo Y35 (Agate Black, 8GB RAM, 128GB Storage)...</td>\n",
       "      <td>18499</td>\n",
       "      <td>4.1</td>\n",
       "      <td>92</td>\n",
       "      <td>https://www.amazon.in//Agate-Storage-Additiona...</td>\n",
       "    </tr>\n",
       "    <tr>\n",
       "      <th>1902</th>\n",
       "      <td>vivo Y16 (Stellar Black, 3GB RAM, 32GB Storage...</td>\n",
       "      <td>9999</td>\n",
       "      <td>4.0</td>\n",
       "      <td>1</td>\n",
       "      <td>https://www.amazon.in//Stellar-Storage-Additio...</td>\n",
       "    </tr>\n",
       "  </tbody>\n",
       "</table>\n",
       "<p>1861 rows × 5 columns</p>\n",
       "</div>"
      ],
      "text/plain": [
       "                                           product name  Price  Rating  \\\n",
       "0                        Apple iPhone 13 (128GB) - Pink  65999     4.6   \n",
       "1                   Apple iPhone 13 Mini (128GB) - Pink  64900     4.5   \n",
       "2                       Apple iPhone 12 (128GB) - Green  55999     4.5   \n",
       "3                        Apple iPhone 12 (64GB) - Green  48900     4.6   \n",
       "4                       Apple iPhone 13 (128GB) - Green  65999     4.6   \n",
       "...                                                 ...    ...     ...   \n",
       "1898  Vivo Y21 (Midnight Blue, 4GB RAM, 64GB Storage...  12660     4.1   \n",
       "1899  vivo Y22 (Metaverse Green, 6GB RAM, 128GB Stor...  16499     3.6   \n",
       "1900  Vivo Y33s (Mirror Black, 8GB RAM, 128GB Storag...  17900     4.2   \n",
       "1901  vivo Y35 (Agate Black, 8GB RAM, 128GB Storage)...  18499     4.1   \n",
       "1902  vivo Y16 (Stellar Black, 3GB RAM, 32GB Storage...   9999     4.0   \n",
       "\n",
       "      ReviewCount                                                Url  \n",
       "0            7507  https://www.amazon.in//sspa/click?ie=UTF8&spc=...  \n",
       "1            1341  https://www.amazon.in//sspa/click?ie=UTF8&spc=...  \n",
       "2            4941  https://www.amazon.in//New-Apple-iPhone-12-128...  \n",
       "3            1299  https://www.amazon.in//New-Apple-iPhone-12-64G...  \n",
       "4            7507  https://www.amazon.in//Apple-iPhone-13-128GB-G...  \n",
       "...           ...                                                ...  \n",
       "1898         4302  https://www.amazon.in//Vivo-Y21-Midnight-Stora...  \n",
       "1899           28  https://www.amazon.in//Y22-Metaverse-Storage-A...  \n",
       "1900          923  https://www.amazon.in//Vivo-Y33s-Mirror-Storag...  \n",
       "1901           92  https://www.amazon.in//Agate-Storage-Additiona...  \n",
       "1902            1  https://www.amazon.in//Stellar-Storage-Additio...  \n",
       "\n",
       "[1861 rows x 5 columns]"
      ]
     },
     "execution_count": 106,
     "metadata": {},
     "output_type": "execute_result"
    }
   ],
   "source": [
    "df"
   ]
  },
  {
   "cell_type": "code",
   "execution_count": 115,
   "id": "191cb204",
   "metadata": {},
   "outputs": [
    {
     "data": {
      "application/vnd.plotly.v1+json": {
       "config": {
        "plotlyServerURL": "https://plot.ly"
       },
       "data": [
        {
         "alignmentgroup": "True",
         "bingroup": "x",
         "hovertemplate": "Price=%{x}<br>count=%{y}<extra></extra>",
         "legendgroup": "",
         "marker": {
          "color": "#636efa",
          "pattern": {
           "shape": ""
          }
         },
         "name": "",
         "offsetgroup": "",
         "orientation": "v",
         "showlegend": false,
         "type": "histogram",
         "x": [
          65999,
          64900,
          55999,
          48900,
          65999,
          79900,
          55999,
          48900,
          40999,
          40999,
          50999,
          88400,
          111900,
          99900,
          88400,
          55999,
          79900,
          65900,
          65999,
          64900,
          55999,
          48900,
          65999,
          79900,
          55999,
          48900,
          40999,
          40999,
          50999,
          88400,
          111900,
          99900,
          88400,
          55999,
          79900,
          65900,
          65999,
          64900,
          55999,
          48900,
          65999,
          79900,
          55999,
          48900,
          40999,
          40999,
          50999,
          88400,
          111900,
          99900,
          88400,
          55999,
          79900,
          65900,
          65999,
          64900,
          55999,
          48900,
          65999,
          79900,
          55999,
          48900,
          40999,
          40999,
          50999,
          88400,
          111900,
          99900,
          88400,
          55999,
          79900,
          65900,
          65999,
          64900,
          55999,
          48900,
          65999,
          79900,
          55999,
          48900,
          40999,
          40999,
          50999,
          88400,
          111900,
          99900,
          88400,
          55999,
          79900,
          65900,
          65999,
          64900,
          55999,
          48900,
          65999,
          79900,
          55999,
          48900,
          40999,
          40999,
          50999,
          88400,
          111900,
          99900,
          88400,
          55999,
          79900,
          65900,
          65999,
          64900,
          55999,
          48900,
          65999,
          79900,
          55999,
          48900,
          40999,
          40999,
          50999,
          88400,
          111900,
          99900,
          88400,
          55999,
          79900,
          65900,
          65999,
          64900,
          55999,
          48900,
          65999,
          79900,
          55999,
          48900,
          40999,
          40999,
          50999,
          88400,
          111900,
          99900,
          88400,
          55999,
          79900,
          65900,
          65999,
          64900,
          55999,
          48900,
          65999,
          79900,
          55999,
          48900,
          40999,
          40999,
          50999,
          88400,
          111900,
          99900,
          88400,
          55999,
          79900,
          65900,
          65999,
          64900,
          55999,
          48900,
          65999,
          79900,
          55999,
          48900,
          40999,
          40999,
          50999,
          88400,
          111900,
          99900,
          88400,
          55999,
          79900,
          65900,
          65999,
          64900,
          55999,
          48900,
          65999,
          79900,
          55999,
          48900,
          40999,
          40999,
          50999,
          88400,
          111900,
          99900,
          88400,
          55999,
          79900,
          65900,
          65999,
          64900,
          55999,
          48900,
          65999,
          79900,
          55999,
          48900,
          40999,
          40999,
          50999,
          88400,
          111900,
          99900,
          88400,
          55999,
          79900,
          65900,
          65999,
          64900,
          55999,
          48900,
          65999,
          79900,
          55999,
          48900,
          40999,
          40999,
          50999,
          88400,
          111900,
          99900,
          88400,
          55999,
          79900,
          65900,
          65999,
          64900,
          55999,
          48900,
          65999,
          79900,
          55999,
          48900,
          40999,
          40999,
          50999,
          88400,
          111900,
          99900,
          88400,
          55999,
          79900,
          65900,
          65999,
          64900,
          55999,
          48900,
          65999,
          79900,
          55999,
          48900,
          40999,
          40999,
          50999,
          88400,
          111900,
          99900,
          88400,
          55999,
          79900,
          65900,
          65999,
          64900,
          55999,
          48900,
          65999,
          79900,
          55999,
          48900,
          40999,
          40999,
          50999,
          88400,
          111900,
          99900,
          88400,
          55999,
          79900,
          65900,
          65999,
          64900,
          55999,
          48900,
          65999,
          79900,
          55999,
          48900,
          40999,
          40999,
          50999,
          88400,
          111900,
          99900,
          88400,
          55999,
          79900,
          65900,
          65999,
          64900,
          55999,
          48900,
          65999,
          79900,
          55999,
          48900,
          40999,
          40999,
          50999,
          88400,
          111900,
          99900,
          88400,
          55999,
          79900,
          65900,
          65999,
          64900,
          55999,
          48900,
          65999,
          79900,
          55999,
          48900,
          40999,
          40999,
          50999,
          88400,
          111900,
          99900,
          88400,
          55999,
          79900,
          65900,
          65999,
          64900,
          55999,
          48900,
          65999,
          79900,
          55999,
          48900,
          40999,
          40999,
          50999,
          88400,
          111900,
          99900,
          88400,
          55999,
          79900,
          65900,
          13999,
          62999,
          13999,
          11999,
          11999,
          20499,
          20499,
          18999,
          11240,
          20499,
          26499,
          13499,
          8500,
          31079,
          13999,
          15499,
          15499,
          11230,
          7880,
          10999,
          13999,
          62999,
          13999,
          11999,
          11999,
          20499,
          20499,
          18999,
          11240,
          20499,
          26499,
          13499,
          8500,
          31079,
          13999,
          15499,
          15499,
          11230,
          7880,
          10999,
          13999,
          62999,
          13999,
          11999,
          11999,
          20499,
          20499,
          18999,
          11240,
          20499,
          26499,
          13499,
          8500,
          31079,
          13999,
          15499,
          15499,
          11230,
          7880,
          10999,
          13999,
          62999,
          13999,
          11999,
          11999,
          20499,
          20499,
          18999,
          11240,
          20499,
          26499,
          13499,
          8500,
          31079,
          13999,
          15499,
          15499,
          11230,
          7880,
          10999,
          13999,
          62999,
          13999,
          11999,
          11999,
          20499,
          20499,
          18999,
          11240,
          20499,
          26499,
          13499,
          8500,
          31079,
          13999,
          15499,
          15499,
          11230,
          7880,
          10999,
          13999,
          62999,
          13999,
          11999,
          11999,
          20499,
          20499,
          18999,
          11240,
          20499,
          26499,
          13499,
          8500,
          31079,
          13999,
          15499,
          15499,
          11230,
          7880,
          10999,
          13999,
          62999,
          13999,
          11999,
          11999,
          20499,
          20499,
          18999,
          11240,
          20499,
          26499,
          13499,
          8500,
          31079,
          13999,
          15499,
          15499,
          11230,
          7880,
          10999,
          13999,
          62999,
          13999,
          11999,
          11999,
          20499,
          20499,
          18999,
          11240,
          20499,
          26499,
          13499,
          8500,
          31079,
          13999,
          15499,
          15499,
          11230,
          7880,
          10999,
          13999,
          62999,
          13999,
          11999,
          11999,
          20499,
          20499,
          18999,
          11240,
          20499,
          26499,
          13499,
          8500,
          31079,
          13999,
          15499,
          15499,
          11230,
          7880,
          10999,
          13999,
          62999,
          13999,
          11999,
          11999,
          20499,
          20499,
          18999,
          11240,
          20499,
          26499,
          13499,
          8500,
          31079,
          13999,
          15499,
          15499,
          11230,
          7880,
          10999,
          13999,
          62999,
          13999,
          11999,
          11999,
          20499,
          20499,
          18999,
          11240,
          20499,
          26499,
          13499,
          8500,
          31079,
          13999,
          15499,
          15499,
          11230,
          7880,
          10999,
          13999,
          62999,
          13999,
          11999,
          11999,
          20499,
          20499,
          18999,
          11240,
          20499,
          26499,
          13499,
          8500,
          31079,
          13999,
          15499,
          15499,
          11230,
          7880,
          10999,
          13999,
          62999,
          13999,
          11999,
          11999,
          20499,
          20499,
          18999,
          11240,
          20499,
          26499,
          13499,
          8500,
          31079,
          13999,
          15499,
          15499,
          11230,
          7880,
          10999,
          13999,
          62999,
          13999,
          11999,
          11999,
          20499,
          20499,
          18999,
          11240,
          20499,
          26499,
          13499,
          8500,
          31079,
          13999,
          15499,
          15499,
          11230,
          7880,
          10999,
          13999,
          62999,
          13999,
          11999,
          11999,
          20499,
          20499,
          18999,
          11240,
          20499,
          26499,
          13499,
          8500,
          31079,
          13999,
          15499,
          15499,
          11230,
          7880,
          10999,
          13999,
          62999,
          13999,
          11999,
          11999,
          20499,
          20499,
          18999,
          11240,
          20499,
          26499,
          13499,
          8500,
          31079,
          13999,
          15499,
          15499,
          11230,
          7880,
          10999,
          13999,
          62999,
          13999,
          11999,
          11999,
          20499,
          20499,
          18999,
          11240,
          20499,
          26499,
          13499,
          8500,
          31079,
          13999,
          15499,
          15499,
          11230,
          7880,
          10999,
          13999,
          62999,
          13999,
          11999,
          11999,
          20499,
          20499,
          18999,
          11240,
          20499,
          26499,
          13499,
          8500,
          31079,
          13999,
          15499,
          15499,
          11230,
          7880,
          10999,
          13999,
          62999,
          13999,
          11999,
          11999,
          20499,
          20499,
          18999,
          11240,
          20499,
          26499,
          13499,
          8500,
          31079,
          13999,
          15499,
          15499,
          11230,
          7880,
          10999,
          13999,
          62999,
          13999,
          11999,
          11999,
          20499,
          20499,
          18999,
          11240,
          20499,
          26499,
          13499,
          8500,
          31079,
          13999,
          15499,
          15499,
          11230,
          7880,
          10999,
          13999,
          12999,
          24999,
          14999,
          24999,
          34999,
          12999,
          19999,
          21499,
          32999,
          8899,
          54999,
          12499,
          26999,
          58999,
          12999,
          36999,
          10990,
          13999,
          12999,
          24999,
          14999,
          24999,
          34999,
          12999,
          19999,
          21499,
          32999,
          8899,
          54999,
          12499,
          26999,
          58999,
          12999,
          36999,
          10990,
          13999,
          12999,
          24999,
          14999,
          24999,
          34999,
          12999,
          19999,
          21499,
          32999,
          8899,
          54999,
          12499,
          26999,
          58999,
          12999,
          36999,
          10990,
          13999,
          12999,
          24999,
          14999,
          24999,
          34999,
          12999,
          19999,
          21499,
          32999,
          8899,
          54999,
          12499,
          26999,
          58999,
          12999,
          36999,
          10990,
          13999,
          12999,
          24999,
          14999,
          24999,
          34999,
          12999,
          19999,
          21499,
          32999,
          8899,
          54999,
          12499,
          26999,
          58999,
          12999,
          36999,
          10990,
          13999,
          12999,
          24999,
          14999,
          24999,
          34999,
          12999,
          19999,
          21499,
          32999,
          8899,
          54999,
          12499,
          26999,
          58999,
          12999,
          36999,
          10990,
          13999,
          12999,
          24999,
          14999,
          24999,
          34999,
          12999,
          19999,
          21499,
          32999,
          8899,
          54999,
          12499,
          26999,
          58999,
          12999,
          36999,
          10990,
          13999,
          12999,
          24999,
          14999,
          24999,
          34999,
          12999,
          19999,
          21499,
          32999,
          8899,
          54999,
          12499,
          26999,
          58999,
          12999,
          36999,
          10990,
          13999,
          12999,
          24999,
          14999,
          24999,
          34999,
          12999,
          19999,
          21499,
          32999,
          8899,
          54999,
          12499,
          26999,
          58999,
          12999,
          36999,
          10990,
          13999,
          12999,
          24999,
          14999,
          24999,
          34999,
          12999,
          19999,
          21499,
          32999,
          8899,
          54999,
          12499,
          26999,
          58999,
          12999,
          36999,
          10990,
          13999,
          12999,
          24999,
          14999,
          24999,
          34999,
          12999,
          19999,
          21499,
          32999,
          8899,
          54999,
          12499,
          26999,
          58999,
          12999,
          36999,
          10990,
          13999,
          12999,
          24999,
          14999,
          24999,
          34999,
          12999,
          19999,
          21499,
          32999,
          8899,
          54999,
          12499,
          26999,
          58999,
          12999,
          36999,
          10990,
          13999,
          12999,
          24999,
          14999,
          24999,
          34999,
          12999,
          19999,
          21499,
          32999,
          8899,
          54999,
          12499,
          26999,
          58999,
          12999,
          36999,
          10990,
          13999,
          12999,
          24999,
          14999,
          24999,
          34999,
          12999,
          19999,
          21499,
          32999,
          8899,
          54999,
          12499,
          26999,
          58999,
          12999,
          36999,
          10990,
          13999,
          12999,
          24999,
          14999,
          24999,
          34999,
          12999,
          19999,
          21499,
          32999,
          8899,
          54999,
          12499,
          26999,
          58999,
          12999,
          36999,
          10990,
          13999,
          12999,
          24999,
          14999,
          24999,
          34999,
          12999,
          19999,
          21499,
          32999,
          8899,
          54999,
          12499,
          26999,
          58999,
          12999,
          36999,
          10990,
          13999,
          12999,
          24999,
          14999,
          24999,
          34999,
          12999,
          19999,
          21499,
          32999,
          8899,
          54999,
          12499,
          26999,
          58999,
          12999,
          36999,
          10990,
          13999,
          12999,
          24999,
          14999,
          24999,
          34999,
          12999,
          19999,
          21499,
          32999,
          8899,
          54999,
          12499,
          26999,
          58999,
          12999,
          36999,
          10990,
          13999,
          12999,
          24999,
          14999,
          24999,
          34999,
          12999,
          19999,
          21499,
          32999,
          8899,
          54999,
          12499,
          26999,
          58999,
          12999,
          36999,
          10990,
          13999,
          12999,
          24999,
          14999,
          24999,
          34999,
          12999,
          19999,
          21499,
          32999,
          8899,
          54999,
          12499,
          26999,
          58999,
          12999,
          36999,
          10990,
          11999,
          18999,
          14990,
          11990,
          14990,
          10990,
          21999,
          25999,
          25999,
          10990,
          19999,
          10999,
          11490,
          9990,
          21999,
          11490,
          15499,
          19899,
          27990,
          11999,
          18999,
          14990,
          11990,
          14990,
          10990,
          21999,
          25999,
          25999,
          10990,
          19999,
          10999,
          11490,
          9990,
          21999,
          11490,
          15499,
          19899,
          27990,
          11999,
          18999,
          14990,
          11990,
          14990,
          10990,
          21999,
          25999,
          25999,
          10990,
          19999,
          10999,
          11490,
          9990,
          21999,
          11490,
          15499,
          19899,
          27990,
          11999,
          18999,
          14990,
          11990,
          14990,
          10990,
          21999,
          25999,
          25999,
          10990,
          19999,
          10999,
          11490,
          9990,
          21999,
          11490,
          15499,
          19899,
          27990,
          11999,
          18999,
          14990,
          11990,
          14990,
          10990,
          21999,
          25999,
          25999,
          10990,
          19999,
          10999,
          11490,
          9990,
          21999,
          11490,
          15499,
          19899,
          27990,
          11999,
          18999,
          14990,
          11990,
          14990,
          10990,
          21999,
          25999,
          25999,
          10990,
          19999,
          10999,
          11490,
          9990,
          21999,
          11490,
          15499,
          19899,
          27990,
          11999,
          18999,
          14990,
          11990,
          14990,
          10990,
          21999,
          25999,
          25999,
          10990,
          19999,
          10999,
          11490,
          9990,
          21999,
          11490,
          15499,
          19899,
          27990,
          11999,
          18999,
          14990,
          11990,
          14990,
          10990,
          21999,
          25999,
          25999,
          10990,
          19999,
          10999,
          11490,
          9990,
          21999,
          11490,
          15499,
          19899,
          27990,
          11999,
          18999,
          14990,
          11990,
          14990,
          10990,
          21999,
          25999,
          25999,
          10990,
          19999,
          10999,
          11490,
          9990,
          21999,
          11490,
          15499,
          19899,
          27990,
          11999,
          18999,
          14990,
          11990,
          14990,
          10990,
          21999,
          25999,
          25999,
          10990,
          19999,
          10999,
          11490,
          9990,
          21999,
          11490,
          15499,
          19899,
          27990,
          11999,
          18999,
          14990,
          11990,
          14990,
          10990,
          21999,
          25999,
          25999,
          10990,
          19999,
          10999,
          11490,
          9990,
          21999,
          11490,
          15499,
          19899,
          27990,
          11999,
          18999,
          14990,
          11990,
          14990,
          10990,
          21999,
          25999,
          25999,
          10990,
          19999,
          10999,
          11490,
          9990,
          21999,
          11490,
          15499,
          19899,
          27990,
          11999,
          18999,
          14990,
          11990,
          14990,
          10990,
          21999,
          25999,
          25999,
          10990,
          19999,
          10999,
          11490,
          9990,
          21999,
          11490,
          15499,
          19899,
          27990,
          11999,
          18999,
          14990,
          11990,
          14990,
          10990,
          21999,
          25999,
          25999,
          10990,
          19999,
          10999,
          11490,
          9990,
          21999,
          11490,
          15499,
          19899,
          27990,
          11999,
          18999,
          14990,
          11990,
          14990,
          10990,
          21999,
          25999,
          25999,
          10990,
          19999,
          10999,
          11490,
          9990,
          21999,
          11490,
          15499,
          19899,
          27990,
          11999,
          18999,
          14990,
          11990,
          14990,
          10990,
          21999,
          25999,
          25999,
          10990,
          19999,
          10999,
          11490,
          9990,
          21999,
          11490,
          15499,
          19899,
          27990,
          11999,
          18999,
          14990,
          11990,
          14990,
          10990,
          21999,
          25999,
          25999,
          10990,
          19999,
          10999,
          11490,
          9990,
          21999,
          11490,
          15499,
          19899,
          27990,
          11999,
          18999,
          14990,
          11990,
          14990,
          10990,
          21999,
          25999,
          25999,
          10990,
          19999,
          10999,
          11490,
          9990,
          21999,
          11490,
          15499,
          19899,
          27990,
          11999,
          18999,
          14990,
          11990,
          14990,
          10990,
          21999,
          25999,
          25999,
          10990,
          19999,
          10999,
          11490,
          9990,
          21999,
          11490,
          15499,
          19899,
          27990,
          11999,
          18999,
          14990,
          11990,
          14990,
          10990,
          21999,
          25999,
          25999,
          10990,
          19999,
          10999,
          11490,
          9990,
          21999,
          11490,
          15499,
          19899,
          27990,
          16499,
          14499,
          21940,
          18499,
          21708,
          10499,
          15599,
          21990,
          14499,
          9499,
          7499,
          10999,
          29400,
          12660,
          16499,
          17900,
          18499,
          9999,
          5224,
          16499,
          14499,
          21940,
          18499,
          21708,
          10499,
          15599,
          21990,
          14499,
          9499,
          7499,
          5224,
          29400,
          12660,
          16499,
          17900,
          18499,
          9999,
          16499,
          14499,
          21940,
          18499,
          21708,
          10499,
          15599,
          21990,
          14499,
          9499,
          7499,
          5224,
          29400,
          12660,
          16499,
          17900,
          18499,
          9999,
          16499,
          14499,
          21940,
          18499,
          21708,
          10499,
          15599,
          21990,
          14499,
          9499,
          7499,
          5224,
          29400,
          12660,
          16499,
          17900,
          18499,
          9999,
          16499,
          14499,
          21940,
          18499,
          21708,
          10499,
          15599,
          21990,
          14499,
          9499,
          7499,
          5224,
          29400,
          12660,
          16499,
          17900,
          18499,
          9999,
          16499,
          14499,
          21940,
          18499,
          21708,
          10499,
          15599,
          21990,
          14499,
          9499,
          7499,
          5224,
          29400,
          12660,
          16499,
          17900,
          18499,
          9999,
          16499,
          14499,
          21940,
          18499,
          21708,
          10499,
          15599,
          21990,
          14499,
          9499,
          7499,
          5224,
          29400,
          12660,
          16499,
          17900,
          18499,
          9999,
          16499,
          14499,
          21940,
          18499,
          21708,
          10499,
          15599,
          21990,
          14499,
          9499,
          7499,
          5224,
          29400,
          12660,
          16499,
          17900,
          18499,
          9999,
          16499,
          14499,
          21940,
          18499,
          21708,
          10499,
          15599,
          21990,
          14499,
          9499,
          7499,
          5224,
          29400,
          12660,
          16499,
          17900,
          18499,
          9999,
          16499,
          14499,
          21940,
          18499,
          21708,
          10499,
          15599,
          21990,
          14499,
          9499,
          7499,
          5224,
          29400,
          12660,
          16499,
          17900,
          18499,
          9999,
          16499,
          14499,
          21940,
          18499,
          21708,
          10499,
          15599,
          21990,
          14499,
          9499,
          7499,
          5224,
          29400,
          12660,
          16499,
          17900,
          18499,
          9999,
          16499,
          14499,
          21940,
          18499,
          21708,
          10499,
          15599,
          21990,
          14499,
          9499,
          7499,
          5224,
          29400,
          12660,
          16499,
          17900,
          18499,
          9999,
          16499,
          14499,
          21940,
          18499,
          21708,
          10499,
          15599,
          21990,
          14499,
          9499,
          7499,
          5224,
          29400,
          12660,
          16499,
          17900,
          18499,
          9999,
          16499,
          14499,
          21940,
          18499,
          21708,
          10499,
          15599,
          21990,
          14499,
          9499,
          7499,
          5224,
          29400,
          12660,
          16499,
          17900,
          18499,
          9999,
          16499,
          14499,
          21940,
          18499,
          21708,
          10499,
          15599,
          21990,
          14499,
          9499,
          7499,
          5224,
          29400,
          12660,
          16499,
          17900,
          18499,
          9999,
          16499,
          14499,
          21940,
          18499,
          21708,
          10499,
          15599,
          21990,
          14499,
          9499,
          7499,
          5224,
          29400,
          12660,
          16499,
          17900,
          18499,
          9999,
          16499,
          14499,
          21940,
          18499,
          21708,
          10499,
          15599,
          21990,
          14499,
          9499,
          7499,
          5224,
          29400,
          12660,
          16499,
          17900,
          18499,
          9999,
          16499,
          14499,
          21940,
          18499,
          21708,
          10499,
          15599,
          21990,
          14499,
          9499,
          7499,
          5224,
          29400,
          12660,
          16499,
          17900,
          18499,
          9999,
          16499,
          14499,
          21940,
          18499,
          21708,
          10499,
          15599,
          21990,
          14499,
          9499,
          7499,
          5224,
          29400,
          12660,
          16499,
          17900,
          18499,
          9999,
          16499,
          14499,
          21940,
          18499,
          21708,
          10499,
          15599,
          21990,
          14499,
          9499,
          7499,
          5224,
          29400,
          12660,
          16499,
          17900,
          18499,
          9999
         ],
         "xaxis": "x",
         "yaxis": "y"
        }
       ],
       "layout": {
        "bargap": 0.2,
        "barmode": "relative",
        "height": 600,
        "legend": {
         "tracegroupgap": 0
        },
        "margin": {
         "t": 60
        },
        "template": {
         "data": {
          "bar": [
           {
            "error_x": {
             "color": "#2a3f5f"
            },
            "error_y": {
             "color": "#2a3f5f"
            },
            "marker": {
             "line": {
              "color": "#E5ECF6",
              "width": 0.5
             },
             "pattern": {
              "fillmode": "overlay",
              "size": 10,
              "solidity": 0.2
             }
            },
            "type": "bar"
           }
          ],
          "barpolar": [
           {
            "marker": {
             "line": {
              "color": "#E5ECF6",
              "width": 0.5
             },
             "pattern": {
              "fillmode": "overlay",
              "size": 10,
              "solidity": 0.2
             }
            },
            "type": "barpolar"
           }
          ],
          "carpet": [
           {
            "aaxis": {
             "endlinecolor": "#2a3f5f",
             "gridcolor": "white",
             "linecolor": "white",
             "minorgridcolor": "white",
             "startlinecolor": "#2a3f5f"
            },
            "baxis": {
             "endlinecolor": "#2a3f5f",
             "gridcolor": "white",
             "linecolor": "white",
             "minorgridcolor": "white",
             "startlinecolor": "#2a3f5f"
            },
            "type": "carpet"
           }
          ],
          "choropleth": [
           {
            "colorbar": {
             "outlinewidth": 0,
             "ticks": ""
            },
            "type": "choropleth"
           }
          ],
          "contour": [
           {
            "colorbar": {
             "outlinewidth": 0,
             "ticks": ""
            },
            "colorscale": [
             [
              0,
              "#0d0887"
             ],
             [
              0.1111111111111111,
              "#46039f"
             ],
             [
              0.2222222222222222,
              "#7201a8"
             ],
             [
              0.3333333333333333,
              "#9c179e"
             ],
             [
              0.4444444444444444,
              "#bd3786"
             ],
             [
              0.5555555555555556,
              "#d8576b"
             ],
             [
              0.6666666666666666,
              "#ed7953"
             ],
             [
              0.7777777777777778,
              "#fb9f3a"
             ],
             [
              0.8888888888888888,
              "#fdca26"
             ],
             [
              1,
              "#f0f921"
             ]
            ],
            "type": "contour"
           }
          ],
          "contourcarpet": [
           {
            "colorbar": {
             "outlinewidth": 0,
             "ticks": ""
            },
            "type": "contourcarpet"
           }
          ],
          "heatmap": [
           {
            "colorbar": {
             "outlinewidth": 0,
             "ticks": ""
            },
            "colorscale": [
             [
              0,
              "#0d0887"
             ],
             [
              0.1111111111111111,
              "#46039f"
             ],
             [
              0.2222222222222222,
              "#7201a8"
             ],
             [
              0.3333333333333333,
              "#9c179e"
             ],
             [
              0.4444444444444444,
              "#bd3786"
             ],
             [
              0.5555555555555556,
              "#d8576b"
             ],
             [
              0.6666666666666666,
              "#ed7953"
             ],
             [
              0.7777777777777778,
              "#fb9f3a"
             ],
             [
              0.8888888888888888,
              "#fdca26"
             ],
             [
              1,
              "#f0f921"
             ]
            ],
            "type": "heatmap"
           }
          ],
          "heatmapgl": [
           {
            "colorbar": {
             "outlinewidth": 0,
             "ticks": ""
            },
            "colorscale": [
             [
              0,
              "#0d0887"
             ],
             [
              0.1111111111111111,
              "#46039f"
             ],
             [
              0.2222222222222222,
              "#7201a8"
             ],
             [
              0.3333333333333333,
              "#9c179e"
             ],
             [
              0.4444444444444444,
              "#bd3786"
             ],
             [
              0.5555555555555556,
              "#d8576b"
             ],
             [
              0.6666666666666666,
              "#ed7953"
             ],
             [
              0.7777777777777778,
              "#fb9f3a"
             ],
             [
              0.8888888888888888,
              "#fdca26"
             ],
             [
              1,
              "#f0f921"
             ]
            ],
            "type": "heatmapgl"
           }
          ],
          "histogram": [
           {
            "marker": {
             "pattern": {
              "fillmode": "overlay",
              "size": 10,
              "solidity": 0.2
             }
            },
            "type": "histogram"
           }
          ],
          "histogram2d": [
           {
            "colorbar": {
             "outlinewidth": 0,
             "ticks": ""
            },
            "colorscale": [
             [
              0,
              "#0d0887"
             ],
             [
              0.1111111111111111,
              "#46039f"
             ],
             [
              0.2222222222222222,
              "#7201a8"
             ],
             [
              0.3333333333333333,
              "#9c179e"
             ],
             [
              0.4444444444444444,
              "#bd3786"
             ],
             [
              0.5555555555555556,
              "#d8576b"
             ],
             [
              0.6666666666666666,
              "#ed7953"
             ],
             [
              0.7777777777777778,
              "#fb9f3a"
             ],
             [
              0.8888888888888888,
              "#fdca26"
             ],
             [
              1,
              "#f0f921"
             ]
            ],
            "type": "histogram2d"
           }
          ],
          "histogram2dcontour": [
           {
            "colorbar": {
             "outlinewidth": 0,
             "ticks": ""
            },
            "colorscale": [
             [
              0,
              "#0d0887"
             ],
             [
              0.1111111111111111,
              "#46039f"
             ],
             [
              0.2222222222222222,
              "#7201a8"
             ],
             [
              0.3333333333333333,
              "#9c179e"
             ],
             [
              0.4444444444444444,
              "#bd3786"
             ],
             [
              0.5555555555555556,
              "#d8576b"
             ],
             [
              0.6666666666666666,
              "#ed7953"
             ],
             [
              0.7777777777777778,
              "#fb9f3a"
             ],
             [
              0.8888888888888888,
              "#fdca26"
             ],
             [
              1,
              "#f0f921"
             ]
            ],
            "type": "histogram2dcontour"
           }
          ],
          "mesh3d": [
           {
            "colorbar": {
             "outlinewidth": 0,
             "ticks": ""
            },
            "type": "mesh3d"
           }
          ],
          "parcoords": [
           {
            "line": {
             "colorbar": {
              "outlinewidth": 0,
              "ticks": ""
             }
            },
            "type": "parcoords"
           }
          ],
          "pie": [
           {
            "automargin": true,
            "type": "pie"
           }
          ],
          "scatter": [
           {
            "fillpattern": {
             "fillmode": "overlay",
             "size": 10,
             "solidity": 0.2
            },
            "type": "scatter"
           }
          ],
          "scatter3d": [
           {
            "line": {
             "colorbar": {
              "outlinewidth": 0,
              "ticks": ""
             }
            },
            "marker": {
             "colorbar": {
              "outlinewidth": 0,
              "ticks": ""
             }
            },
            "type": "scatter3d"
           }
          ],
          "scattercarpet": [
           {
            "marker": {
             "colorbar": {
              "outlinewidth": 0,
              "ticks": ""
             }
            },
            "type": "scattercarpet"
           }
          ],
          "scattergeo": [
           {
            "marker": {
             "colorbar": {
              "outlinewidth": 0,
              "ticks": ""
             }
            },
            "type": "scattergeo"
           }
          ],
          "scattergl": [
           {
            "marker": {
             "colorbar": {
              "outlinewidth": 0,
              "ticks": ""
             }
            },
            "type": "scattergl"
           }
          ],
          "scattermapbox": [
           {
            "marker": {
             "colorbar": {
              "outlinewidth": 0,
              "ticks": ""
             }
            },
            "type": "scattermapbox"
           }
          ],
          "scatterpolar": [
           {
            "marker": {
             "colorbar": {
              "outlinewidth": 0,
              "ticks": ""
             }
            },
            "type": "scatterpolar"
           }
          ],
          "scatterpolargl": [
           {
            "marker": {
             "colorbar": {
              "outlinewidth": 0,
              "ticks": ""
             }
            },
            "type": "scatterpolargl"
           }
          ],
          "scatterternary": [
           {
            "marker": {
             "colorbar": {
              "outlinewidth": 0,
              "ticks": ""
             }
            },
            "type": "scatterternary"
           }
          ],
          "surface": [
           {
            "colorbar": {
             "outlinewidth": 0,
             "ticks": ""
            },
            "colorscale": [
             [
              0,
              "#0d0887"
             ],
             [
              0.1111111111111111,
              "#46039f"
             ],
             [
              0.2222222222222222,
              "#7201a8"
             ],
             [
              0.3333333333333333,
              "#9c179e"
             ],
             [
              0.4444444444444444,
              "#bd3786"
             ],
             [
              0.5555555555555556,
              "#d8576b"
             ],
             [
              0.6666666666666666,
              "#ed7953"
             ],
             [
              0.7777777777777778,
              "#fb9f3a"
             ],
             [
              0.8888888888888888,
              "#fdca26"
             ],
             [
              1,
              "#f0f921"
             ]
            ],
            "type": "surface"
           }
          ],
          "table": [
           {
            "cells": {
             "fill": {
              "color": "#EBF0F8"
             },
             "line": {
              "color": "white"
             }
            },
            "header": {
             "fill": {
              "color": "#C8D4E3"
             },
             "line": {
              "color": "white"
             }
            },
            "type": "table"
           }
          ]
         },
         "layout": {
          "annotationdefaults": {
           "arrowcolor": "#2a3f5f",
           "arrowhead": 0,
           "arrowwidth": 1
          },
          "autotypenumbers": "strict",
          "coloraxis": {
           "colorbar": {
            "outlinewidth": 0,
            "ticks": ""
           }
          },
          "colorscale": {
           "diverging": [
            [
             0,
             "#8e0152"
            ],
            [
             0.1,
             "#c51b7d"
            ],
            [
             0.2,
             "#de77ae"
            ],
            [
             0.3,
             "#f1b6da"
            ],
            [
             0.4,
             "#fde0ef"
            ],
            [
             0.5,
             "#f7f7f7"
            ],
            [
             0.6,
             "#e6f5d0"
            ],
            [
             0.7,
             "#b8e186"
            ],
            [
             0.8,
             "#7fbc41"
            ],
            [
             0.9,
             "#4d9221"
            ],
            [
             1,
             "#276419"
            ]
           ],
           "sequential": [
            [
             0,
             "#0d0887"
            ],
            [
             0.1111111111111111,
             "#46039f"
            ],
            [
             0.2222222222222222,
             "#7201a8"
            ],
            [
             0.3333333333333333,
             "#9c179e"
            ],
            [
             0.4444444444444444,
             "#bd3786"
            ],
            [
             0.5555555555555556,
             "#d8576b"
            ],
            [
             0.6666666666666666,
             "#ed7953"
            ],
            [
             0.7777777777777778,
             "#fb9f3a"
            ],
            [
             0.8888888888888888,
             "#fdca26"
            ],
            [
             1,
             "#f0f921"
            ]
           ],
           "sequentialminus": [
            [
             0,
             "#0d0887"
            ],
            [
             0.1111111111111111,
             "#46039f"
            ],
            [
             0.2222222222222222,
             "#7201a8"
            ],
            [
             0.3333333333333333,
             "#9c179e"
            ],
            [
             0.4444444444444444,
             "#bd3786"
            ],
            [
             0.5555555555555556,
             "#d8576b"
            ],
            [
             0.6666666666666666,
             "#ed7953"
            ],
            [
             0.7777777777777778,
             "#fb9f3a"
            ],
            [
             0.8888888888888888,
             "#fdca26"
            ],
            [
             1,
             "#f0f921"
            ]
           ]
          },
          "colorway": [
           "#636efa",
           "#EF553B",
           "#00cc96",
           "#ab63fa",
           "#FFA15A",
           "#19d3f3",
           "#FF6692",
           "#B6E880",
           "#FF97FF",
           "#FECB52"
          ],
          "font": {
           "color": "#2a3f5f"
          },
          "geo": {
           "bgcolor": "white",
           "lakecolor": "white",
           "landcolor": "#E5ECF6",
           "showlakes": true,
           "showland": true,
           "subunitcolor": "white"
          },
          "hoverlabel": {
           "align": "left"
          },
          "hovermode": "closest",
          "mapbox": {
           "style": "light"
          },
          "paper_bgcolor": "white",
          "plot_bgcolor": "#E5ECF6",
          "polar": {
           "angularaxis": {
            "gridcolor": "white",
            "linecolor": "white",
            "ticks": ""
           },
           "bgcolor": "#E5ECF6",
           "radialaxis": {
            "gridcolor": "white",
            "linecolor": "white",
            "ticks": ""
           }
          },
          "scene": {
           "xaxis": {
            "backgroundcolor": "#E5ECF6",
            "gridcolor": "white",
            "gridwidth": 2,
            "linecolor": "white",
            "showbackground": true,
            "ticks": "",
            "zerolinecolor": "white"
           },
           "yaxis": {
            "backgroundcolor": "#E5ECF6",
            "gridcolor": "white",
            "gridwidth": 2,
            "linecolor": "white",
            "showbackground": true,
            "ticks": "",
            "zerolinecolor": "white"
           },
           "zaxis": {
            "backgroundcolor": "#E5ECF6",
            "gridcolor": "white",
            "gridwidth": 2,
            "linecolor": "white",
            "showbackground": true,
            "ticks": "",
            "zerolinecolor": "white"
           }
          },
          "shapedefaults": {
           "line": {
            "color": "#2a3f5f"
           }
          },
          "ternary": {
           "aaxis": {
            "gridcolor": "white",
            "linecolor": "white",
            "ticks": ""
           },
           "baxis": {
            "gridcolor": "white",
            "linecolor": "white",
            "ticks": ""
           },
           "bgcolor": "#E5ECF6",
           "caxis": {
            "gridcolor": "white",
            "linecolor": "white",
            "ticks": ""
           }
          },
          "title": {
           "x": 0.05
          },
          "xaxis": {
           "automargin": true,
           "gridcolor": "white",
           "linecolor": "white",
           "ticks": "",
           "title": {
            "standoff": 15
           },
           "zerolinecolor": "white",
           "zerolinewidth": 2
          },
          "yaxis": {
           "automargin": true,
           "gridcolor": "white",
           "linecolor": "white",
           "ticks": "",
           "title": {
            "standoff": 15
           },
           "zerolinecolor": "white",
           "zerolinewidth": 2
          }
         }
        },
        "width": 900,
        "xaxis": {
         "anchor": "y",
         "domain": [
          0,
          1
         ],
         "dtick": 5000,
         "title": {
          "text": "Price"
         }
        },
        "yaxis": {
         "anchor": "x",
         "domain": [
          0,
          1
         ],
         "title": {
          "text": "count"
         }
        }
       }
      },
      "text/html": [
       "<div>                            <div id=\"2bd33dd2-fb53-4b54-8757-78231ed61c90\" class=\"plotly-graph-div\" style=\"height:600px; width:900px;\"></div>            <script type=\"text/javascript\">                require([\"plotly\"], function(Plotly) {                    window.PLOTLYENV=window.PLOTLYENV || {};                                    if (document.getElementById(\"2bd33dd2-fb53-4b54-8757-78231ed61c90\")) {                    Plotly.newPlot(                        \"2bd33dd2-fb53-4b54-8757-78231ed61c90\",                        [{\"alignmentgroup\":\"True\",\"bingroup\":\"x\",\"hovertemplate\":\"Price=%{x}<br>count=%{y}<extra></extra>\",\"legendgroup\":\"\",\"marker\":{\"color\":\"#636efa\",\"pattern\":{\"shape\":\"\"}},\"name\":\"\",\"offsetgroup\":\"\",\"orientation\":\"v\",\"showlegend\":false,\"x\":[65999,64900,55999,48900,65999,79900,55999,48900,40999,40999,50999,88400,111900,99900,88400,55999,79900,65900,65999,64900,55999,48900,65999,79900,55999,48900,40999,40999,50999,88400,111900,99900,88400,55999,79900,65900,65999,64900,55999,48900,65999,79900,55999,48900,40999,40999,50999,88400,111900,99900,88400,55999,79900,65900,65999,64900,55999,48900,65999,79900,55999,48900,40999,40999,50999,88400,111900,99900,88400,55999,79900,65900,65999,64900,55999,48900,65999,79900,55999,48900,40999,40999,50999,88400,111900,99900,88400,55999,79900,65900,65999,64900,55999,48900,65999,79900,55999,48900,40999,40999,50999,88400,111900,99900,88400,55999,79900,65900,65999,64900,55999,48900,65999,79900,55999,48900,40999,40999,50999,88400,111900,99900,88400,55999,79900,65900,65999,64900,55999,48900,65999,79900,55999,48900,40999,40999,50999,88400,111900,99900,88400,55999,79900,65900,65999,64900,55999,48900,65999,79900,55999,48900,40999,40999,50999,88400,111900,99900,88400,55999,79900,65900,65999,64900,55999,48900,65999,79900,55999,48900,40999,40999,50999,88400,111900,99900,88400,55999,79900,65900,65999,64900,55999,48900,65999,79900,55999,48900,40999,40999,50999,88400,111900,99900,88400,55999,79900,65900,65999,64900,55999,48900,65999,79900,55999,48900,40999,40999,50999,88400,111900,99900,88400,55999,79900,65900,65999,64900,55999,48900,65999,79900,55999,48900,40999,40999,50999,88400,111900,99900,88400,55999,79900,65900,65999,64900,55999,48900,65999,79900,55999,48900,40999,40999,50999,88400,111900,99900,88400,55999,79900,65900,65999,64900,55999,48900,65999,79900,55999,48900,40999,40999,50999,88400,111900,99900,88400,55999,79900,65900,65999,64900,55999,48900,65999,79900,55999,48900,40999,40999,50999,88400,111900,99900,88400,55999,79900,65900,65999,64900,55999,48900,65999,79900,55999,48900,40999,40999,50999,88400,111900,99900,88400,55999,79900,65900,65999,64900,55999,48900,65999,79900,55999,48900,40999,40999,50999,88400,111900,99900,88400,55999,79900,65900,65999,64900,55999,48900,65999,79900,55999,48900,40999,40999,50999,88400,111900,99900,88400,55999,79900,65900,65999,64900,55999,48900,65999,79900,55999,48900,40999,40999,50999,88400,111900,99900,88400,55999,79900,65900,13999,62999,13999,11999,11999,20499,20499,18999,11240,20499,26499,13499,8500,31079,13999,15499,15499,11230,7880,10999,13999,62999,13999,11999,11999,20499,20499,18999,11240,20499,26499,13499,8500,31079,13999,15499,15499,11230,7880,10999,13999,62999,13999,11999,11999,20499,20499,18999,11240,20499,26499,13499,8500,31079,13999,15499,15499,11230,7880,10999,13999,62999,13999,11999,11999,20499,20499,18999,11240,20499,26499,13499,8500,31079,13999,15499,15499,11230,7880,10999,13999,62999,13999,11999,11999,20499,20499,18999,11240,20499,26499,13499,8500,31079,13999,15499,15499,11230,7880,10999,13999,62999,13999,11999,11999,20499,20499,18999,11240,20499,26499,13499,8500,31079,13999,15499,15499,11230,7880,10999,13999,62999,13999,11999,11999,20499,20499,18999,11240,20499,26499,13499,8500,31079,13999,15499,15499,11230,7880,10999,13999,62999,13999,11999,11999,20499,20499,18999,11240,20499,26499,13499,8500,31079,13999,15499,15499,11230,7880,10999,13999,62999,13999,11999,11999,20499,20499,18999,11240,20499,26499,13499,8500,31079,13999,15499,15499,11230,7880,10999,13999,62999,13999,11999,11999,20499,20499,18999,11240,20499,26499,13499,8500,31079,13999,15499,15499,11230,7880,10999,13999,62999,13999,11999,11999,20499,20499,18999,11240,20499,26499,13499,8500,31079,13999,15499,15499,11230,7880,10999,13999,62999,13999,11999,11999,20499,20499,18999,11240,20499,26499,13499,8500,31079,13999,15499,15499,11230,7880,10999,13999,62999,13999,11999,11999,20499,20499,18999,11240,20499,26499,13499,8500,31079,13999,15499,15499,11230,7880,10999,13999,62999,13999,11999,11999,20499,20499,18999,11240,20499,26499,13499,8500,31079,13999,15499,15499,11230,7880,10999,13999,62999,13999,11999,11999,20499,20499,18999,11240,20499,26499,13499,8500,31079,13999,15499,15499,11230,7880,10999,13999,62999,13999,11999,11999,20499,20499,18999,11240,20499,26499,13499,8500,31079,13999,15499,15499,11230,7880,10999,13999,62999,13999,11999,11999,20499,20499,18999,11240,20499,26499,13499,8500,31079,13999,15499,15499,11230,7880,10999,13999,62999,13999,11999,11999,20499,20499,18999,11240,20499,26499,13499,8500,31079,13999,15499,15499,11230,7880,10999,13999,62999,13999,11999,11999,20499,20499,18999,11240,20499,26499,13499,8500,31079,13999,15499,15499,11230,7880,10999,13999,62999,13999,11999,11999,20499,20499,18999,11240,20499,26499,13499,8500,31079,13999,15499,15499,11230,7880,10999,13999,12999,24999,14999,24999,34999,12999,19999,21499,32999,8899,54999,12499,26999,58999,12999,36999,10990,13999,12999,24999,14999,24999,34999,12999,19999,21499,32999,8899,54999,12499,26999,58999,12999,36999,10990,13999,12999,24999,14999,24999,34999,12999,19999,21499,32999,8899,54999,12499,26999,58999,12999,36999,10990,13999,12999,24999,14999,24999,34999,12999,19999,21499,32999,8899,54999,12499,26999,58999,12999,36999,10990,13999,12999,24999,14999,24999,34999,12999,19999,21499,32999,8899,54999,12499,26999,58999,12999,36999,10990,13999,12999,24999,14999,24999,34999,12999,19999,21499,32999,8899,54999,12499,26999,58999,12999,36999,10990,13999,12999,24999,14999,24999,34999,12999,19999,21499,32999,8899,54999,12499,26999,58999,12999,36999,10990,13999,12999,24999,14999,24999,34999,12999,19999,21499,32999,8899,54999,12499,26999,58999,12999,36999,10990,13999,12999,24999,14999,24999,34999,12999,19999,21499,32999,8899,54999,12499,26999,58999,12999,36999,10990,13999,12999,24999,14999,24999,34999,12999,19999,21499,32999,8899,54999,12499,26999,58999,12999,36999,10990,13999,12999,24999,14999,24999,34999,12999,19999,21499,32999,8899,54999,12499,26999,58999,12999,36999,10990,13999,12999,24999,14999,24999,34999,12999,19999,21499,32999,8899,54999,12499,26999,58999,12999,36999,10990,13999,12999,24999,14999,24999,34999,12999,19999,21499,32999,8899,54999,12499,26999,58999,12999,36999,10990,13999,12999,24999,14999,24999,34999,12999,19999,21499,32999,8899,54999,12499,26999,58999,12999,36999,10990,13999,12999,24999,14999,24999,34999,12999,19999,21499,32999,8899,54999,12499,26999,58999,12999,36999,10990,13999,12999,24999,14999,24999,34999,12999,19999,21499,32999,8899,54999,12499,26999,58999,12999,36999,10990,13999,12999,24999,14999,24999,34999,12999,19999,21499,32999,8899,54999,12499,26999,58999,12999,36999,10990,13999,12999,24999,14999,24999,34999,12999,19999,21499,32999,8899,54999,12499,26999,58999,12999,36999,10990,13999,12999,24999,14999,24999,34999,12999,19999,21499,32999,8899,54999,12499,26999,58999,12999,36999,10990,13999,12999,24999,14999,24999,34999,12999,19999,21499,32999,8899,54999,12499,26999,58999,12999,36999,10990,11999,18999,14990,11990,14990,10990,21999,25999,25999,10990,19999,10999,11490,9990,21999,11490,15499,19899,27990,11999,18999,14990,11990,14990,10990,21999,25999,25999,10990,19999,10999,11490,9990,21999,11490,15499,19899,27990,11999,18999,14990,11990,14990,10990,21999,25999,25999,10990,19999,10999,11490,9990,21999,11490,15499,19899,27990,11999,18999,14990,11990,14990,10990,21999,25999,25999,10990,19999,10999,11490,9990,21999,11490,15499,19899,27990,11999,18999,14990,11990,14990,10990,21999,25999,25999,10990,19999,10999,11490,9990,21999,11490,15499,19899,27990,11999,18999,14990,11990,14990,10990,21999,25999,25999,10990,19999,10999,11490,9990,21999,11490,15499,19899,27990,11999,18999,14990,11990,14990,10990,21999,25999,25999,10990,19999,10999,11490,9990,21999,11490,15499,19899,27990,11999,18999,14990,11990,14990,10990,21999,25999,25999,10990,19999,10999,11490,9990,21999,11490,15499,19899,27990,11999,18999,14990,11990,14990,10990,21999,25999,25999,10990,19999,10999,11490,9990,21999,11490,15499,19899,27990,11999,18999,14990,11990,14990,10990,21999,25999,25999,10990,19999,10999,11490,9990,21999,11490,15499,19899,27990,11999,18999,14990,11990,14990,10990,21999,25999,25999,10990,19999,10999,11490,9990,21999,11490,15499,19899,27990,11999,18999,14990,11990,14990,10990,21999,25999,25999,10990,19999,10999,11490,9990,21999,11490,15499,19899,27990,11999,18999,14990,11990,14990,10990,21999,25999,25999,10990,19999,10999,11490,9990,21999,11490,15499,19899,27990,11999,18999,14990,11990,14990,10990,21999,25999,25999,10990,19999,10999,11490,9990,21999,11490,15499,19899,27990,11999,18999,14990,11990,14990,10990,21999,25999,25999,10990,19999,10999,11490,9990,21999,11490,15499,19899,27990,11999,18999,14990,11990,14990,10990,21999,25999,25999,10990,19999,10999,11490,9990,21999,11490,15499,19899,27990,11999,18999,14990,11990,14990,10990,21999,25999,25999,10990,19999,10999,11490,9990,21999,11490,15499,19899,27990,11999,18999,14990,11990,14990,10990,21999,25999,25999,10990,19999,10999,11490,9990,21999,11490,15499,19899,27990,11999,18999,14990,11990,14990,10990,21999,25999,25999,10990,19999,10999,11490,9990,21999,11490,15499,19899,27990,11999,18999,14990,11990,14990,10990,21999,25999,25999,10990,19999,10999,11490,9990,21999,11490,15499,19899,27990,16499,14499,21940,18499,21708,10499,15599,21990,14499,9499,7499,10999,29400,12660,16499,17900,18499,9999,5224,16499,14499,21940,18499,21708,10499,15599,21990,14499,9499,7499,5224,29400,12660,16499,17900,18499,9999,16499,14499,21940,18499,21708,10499,15599,21990,14499,9499,7499,5224,29400,12660,16499,17900,18499,9999,16499,14499,21940,18499,21708,10499,15599,21990,14499,9499,7499,5224,29400,12660,16499,17900,18499,9999,16499,14499,21940,18499,21708,10499,15599,21990,14499,9499,7499,5224,29400,12660,16499,17900,18499,9999,16499,14499,21940,18499,21708,10499,15599,21990,14499,9499,7499,5224,29400,12660,16499,17900,18499,9999,16499,14499,21940,18499,21708,10499,15599,21990,14499,9499,7499,5224,29400,12660,16499,17900,18499,9999,16499,14499,21940,18499,21708,10499,15599,21990,14499,9499,7499,5224,29400,12660,16499,17900,18499,9999,16499,14499,21940,18499,21708,10499,15599,21990,14499,9499,7499,5224,29400,12660,16499,17900,18499,9999,16499,14499,21940,18499,21708,10499,15599,21990,14499,9499,7499,5224,29400,12660,16499,17900,18499,9999,16499,14499,21940,18499,21708,10499,15599,21990,14499,9499,7499,5224,29400,12660,16499,17900,18499,9999,16499,14499,21940,18499,21708,10499,15599,21990,14499,9499,7499,5224,29400,12660,16499,17900,18499,9999,16499,14499,21940,18499,21708,10499,15599,21990,14499,9499,7499,5224,29400,12660,16499,17900,18499,9999,16499,14499,21940,18499,21708,10499,15599,21990,14499,9499,7499,5224,29400,12660,16499,17900,18499,9999,16499,14499,21940,18499,21708,10499,15599,21990,14499,9499,7499,5224,29400,12660,16499,17900,18499,9999,16499,14499,21940,18499,21708,10499,15599,21990,14499,9499,7499,5224,29400,12660,16499,17900,18499,9999,16499,14499,21940,18499,21708,10499,15599,21990,14499,9499,7499,5224,29400,12660,16499,17900,18499,9999,16499,14499,21940,18499,21708,10499,15599,21990,14499,9499,7499,5224,29400,12660,16499,17900,18499,9999,16499,14499,21940,18499,21708,10499,15599,21990,14499,9499,7499,5224,29400,12660,16499,17900,18499,9999,16499,14499,21940,18499,21708,10499,15599,21990,14499,9499,7499,5224,29400,12660,16499,17900,18499,9999],\"xaxis\":\"x\",\"yaxis\":\"y\",\"type\":\"histogram\"}],                        {\"template\":{\"data\":{\"histogram2dcontour\":[{\"type\":\"histogram2dcontour\",\"colorbar\":{\"outlinewidth\":0,\"ticks\":\"\"},\"colorscale\":[[0.0,\"#0d0887\"],[0.1111111111111111,\"#46039f\"],[0.2222222222222222,\"#7201a8\"],[0.3333333333333333,\"#9c179e\"],[0.4444444444444444,\"#bd3786\"],[0.5555555555555556,\"#d8576b\"],[0.6666666666666666,\"#ed7953\"],[0.7777777777777778,\"#fb9f3a\"],[0.8888888888888888,\"#fdca26\"],[1.0,\"#f0f921\"]]}],\"choropleth\":[{\"type\":\"choropleth\",\"colorbar\":{\"outlinewidth\":0,\"ticks\":\"\"}}],\"histogram2d\":[{\"type\":\"histogram2d\",\"colorbar\":{\"outlinewidth\":0,\"ticks\":\"\"},\"colorscale\":[[0.0,\"#0d0887\"],[0.1111111111111111,\"#46039f\"],[0.2222222222222222,\"#7201a8\"],[0.3333333333333333,\"#9c179e\"],[0.4444444444444444,\"#bd3786\"],[0.5555555555555556,\"#d8576b\"],[0.6666666666666666,\"#ed7953\"],[0.7777777777777778,\"#fb9f3a\"],[0.8888888888888888,\"#fdca26\"],[1.0,\"#f0f921\"]]}],\"heatmap\":[{\"type\":\"heatmap\",\"colorbar\":{\"outlinewidth\":0,\"ticks\":\"\"},\"colorscale\":[[0.0,\"#0d0887\"],[0.1111111111111111,\"#46039f\"],[0.2222222222222222,\"#7201a8\"],[0.3333333333333333,\"#9c179e\"],[0.4444444444444444,\"#bd3786\"],[0.5555555555555556,\"#d8576b\"],[0.6666666666666666,\"#ed7953\"],[0.7777777777777778,\"#fb9f3a\"],[0.8888888888888888,\"#fdca26\"],[1.0,\"#f0f921\"]]}],\"heatmapgl\":[{\"type\":\"heatmapgl\",\"colorbar\":{\"outlinewidth\":0,\"ticks\":\"\"},\"colorscale\":[[0.0,\"#0d0887\"],[0.1111111111111111,\"#46039f\"],[0.2222222222222222,\"#7201a8\"],[0.3333333333333333,\"#9c179e\"],[0.4444444444444444,\"#bd3786\"],[0.5555555555555556,\"#d8576b\"],[0.6666666666666666,\"#ed7953\"],[0.7777777777777778,\"#fb9f3a\"],[0.8888888888888888,\"#fdca26\"],[1.0,\"#f0f921\"]]}],\"contourcarpet\":[{\"type\":\"contourcarpet\",\"colorbar\":{\"outlinewidth\":0,\"ticks\":\"\"}}],\"contour\":[{\"type\":\"contour\",\"colorbar\":{\"outlinewidth\":0,\"ticks\":\"\"},\"colorscale\":[[0.0,\"#0d0887\"],[0.1111111111111111,\"#46039f\"],[0.2222222222222222,\"#7201a8\"],[0.3333333333333333,\"#9c179e\"],[0.4444444444444444,\"#bd3786\"],[0.5555555555555556,\"#d8576b\"],[0.6666666666666666,\"#ed7953\"],[0.7777777777777778,\"#fb9f3a\"],[0.8888888888888888,\"#fdca26\"],[1.0,\"#f0f921\"]]}],\"surface\":[{\"type\":\"surface\",\"colorbar\":{\"outlinewidth\":0,\"ticks\":\"\"},\"colorscale\":[[0.0,\"#0d0887\"],[0.1111111111111111,\"#46039f\"],[0.2222222222222222,\"#7201a8\"],[0.3333333333333333,\"#9c179e\"],[0.4444444444444444,\"#bd3786\"],[0.5555555555555556,\"#d8576b\"],[0.6666666666666666,\"#ed7953\"],[0.7777777777777778,\"#fb9f3a\"],[0.8888888888888888,\"#fdca26\"],[1.0,\"#f0f921\"]]}],\"mesh3d\":[{\"type\":\"mesh3d\",\"colorbar\":{\"outlinewidth\":0,\"ticks\":\"\"}}],\"scatter\":[{\"fillpattern\":{\"fillmode\":\"overlay\",\"size\":10,\"solidity\":0.2},\"type\":\"scatter\"}],\"parcoords\":[{\"type\":\"parcoords\",\"line\":{\"colorbar\":{\"outlinewidth\":0,\"ticks\":\"\"}}}],\"scatterpolargl\":[{\"type\":\"scatterpolargl\",\"marker\":{\"colorbar\":{\"outlinewidth\":0,\"ticks\":\"\"}}}],\"bar\":[{\"error_x\":{\"color\":\"#2a3f5f\"},\"error_y\":{\"color\":\"#2a3f5f\"},\"marker\":{\"line\":{\"color\":\"#E5ECF6\",\"width\":0.5},\"pattern\":{\"fillmode\":\"overlay\",\"size\":10,\"solidity\":0.2}},\"type\":\"bar\"}],\"scattergeo\":[{\"type\":\"scattergeo\",\"marker\":{\"colorbar\":{\"outlinewidth\":0,\"ticks\":\"\"}}}],\"scatterpolar\":[{\"type\":\"scatterpolar\",\"marker\":{\"colorbar\":{\"outlinewidth\":0,\"ticks\":\"\"}}}],\"histogram\":[{\"marker\":{\"pattern\":{\"fillmode\":\"overlay\",\"size\":10,\"solidity\":0.2}},\"type\":\"histogram\"}],\"scattergl\":[{\"type\":\"scattergl\",\"marker\":{\"colorbar\":{\"outlinewidth\":0,\"ticks\":\"\"}}}],\"scatter3d\":[{\"type\":\"scatter3d\",\"line\":{\"colorbar\":{\"outlinewidth\":0,\"ticks\":\"\"}},\"marker\":{\"colorbar\":{\"outlinewidth\":0,\"ticks\":\"\"}}}],\"scattermapbox\":[{\"type\":\"scattermapbox\",\"marker\":{\"colorbar\":{\"outlinewidth\":0,\"ticks\":\"\"}}}],\"scatterternary\":[{\"type\":\"scatterternary\",\"marker\":{\"colorbar\":{\"outlinewidth\":0,\"ticks\":\"\"}}}],\"scattercarpet\":[{\"type\":\"scattercarpet\",\"marker\":{\"colorbar\":{\"outlinewidth\":0,\"ticks\":\"\"}}}],\"carpet\":[{\"aaxis\":{\"endlinecolor\":\"#2a3f5f\",\"gridcolor\":\"white\",\"linecolor\":\"white\",\"minorgridcolor\":\"white\",\"startlinecolor\":\"#2a3f5f\"},\"baxis\":{\"endlinecolor\":\"#2a3f5f\",\"gridcolor\":\"white\",\"linecolor\":\"white\",\"minorgridcolor\":\"white\",\"startlinecolor\":\"#2a3f5f\"},\"type\":\"carpet\"}],\"table\":[{\"cells\":{\"fill\":{\"color\":\"#EBF0F8\"},\"line\":{\"color\":\"white\"}},\"header\":{\"fill\":{\"color\":\"#C8D4E3\"},\"line\":{\"color\":\"white\"}},\"type\":\"table\"}],\"barpolar\":[{\"marker\":{\"line\":{\"color\":\"#E5ECF6\",\"width\":0.5},\"pattern\":{\"fillmode\":\"overlay\",\"size\":10,\"solidity\":0.2}},\"type\":\"barpolar\"}],\"pie\":[{\"automargin\":true,\"type\":\"pie\"}]},\"layout\":{\"autotypenumbers\":\"strict\",\"colorway\":[\"#636efa\",\"#EF553B\",\"#00cc96\",\"#ab63fa\",\"#FFA15A\",\"#19d3f3\",\"#FF6692\",\"#B6E880\",\"#FF97FF\",\"#FECB52\"],\"font\":{\"color\":\"#2a3f5f\"},\"hovermode\":\"closest\",\"hoverlabel\":{\"align\":\"left\"},\"paper_bgcolor\":\"white\",\"plot_bgcolor\":\"#E5ECF6\",\"polar\":{\"bgcolor\":\"#E5ECF6\",\"angularaxis\":{\"gridcolor\":\"white\",\"linecolor\":\"white\",\"ticks\":\"\"},\"radialaxis\":{\"gridcolor\":\"white\",\"linecolor\":\"white\",\"ticks\":\"\"}},\"ternary\":{\"bgcolor\":\"#E5ECF6\",\"aaxis\":{\"gridcolor\":\"white\",\"linecolor\":\"white\",\"ticks\":\"\"},\"baxis\":{\"gridcolor\":\"white\",\"linecolor\":\"white\",\"ticks\":\"\"},\"caxis\":{\"gridcolor\":\"white\",\"linecolor\":\"white\",\"ticks\":\"\"}},\"coloraxis\":{\"colorbar\":{\"outlinewidth\":0,\"ticks\":\"\"}},\"colorscale\":{\"sequential\":[[0.0,\"#0d0887\"],[0.1111111111111111,\"#46039f\"],[0.2222222222222222,\"#7201a8\"],[0.3333333333333333,\"#9c179e\"],[0.4444444444444444,\"#bd3786\"],[0.5555555555555556,\"#d8576b\"],[0.6666666666666666,\"#ed7953\"],[0.7777777777777778,\"#fb9f3a\"],[0.8888888888888888,\"#fdca26\"],[1.0,\"#f0f921\"]],\"sequentialminus\":[[0.0,\"#0d0887\"],[0.1111111111111111,\"#46039f\"],[0.2222222222222222,\"#7201a8\"],[0.3333333333333333,\"#9c179e\"],[0.4444444444444444,\"#bd3786\"],[0.5555555555555556,\"#d8576b\"],[0.6666666666666666,\"#ed7953\"],[0.7777777777777778,\"#fb9f3a\"],[0.8888888888888888,\"#fdca26\"],[1.0,\"#f0f921\"]],\"diverging\":[[0,\"#8e0152\"],[0.1,\"#c51b7d\"],[0.2,\"#de77ae\"],[0.3,\"#f1b6da\"],[0.4,\"#fde0ef\"],[0.5,\"#f7f7f7\"],[0.6,\"#e6f5d0\"],[0.7,\"#b8e186\"],[0.8,\"#7fbc41\"],[0.9,\"#4d9221\"],[1,\"#276419\"]]},\"xaxis\":{\"gridcolor\":\"white\",\"linecolor\":\"white\",\"ticks\":\"\",\"title\":{\"standoff\":15},\"zerolinecolor\":\"white\",\"automargin\":true,\"zerolinewidth\":2},\"yaxis\":{\"gridcolor\":\"white\",\"linecolor\":\"white\",\"ticks\":\"\",\"title\":{\"standoff\":15},\"zerolinecolor\":\"white\",\"automargin\":true,\"zerolinewidth\":2},\"scene\":{\"xaxis\":{\"backgroundcolor\":\"#E5ECF6\",\"gridcolor\":\"white\",\"linecolor\":\"white\",\"showbackground\":true,\"ticks\":\"\",\"zerolinecolor\":\"white\",\"gridwidth\":2},\"yaxis\":{\"backgroundcolor\":\"#E5ECF6\",\"gridcolor\":\"white\",\"linecolor\":\"white\",\"showbackground\":true,\"ticks\":\"\",\"zerolinecolor\":\"white\",\"gridwidth\":2},\"zaxis\":{\"backgroundcolor\":\"#E5ECF6\",\"gridcolor\":\"white\",\"linecolor\":\"white\",\"showbackground\":true,\"ticks\":\"\",\"zerolinecolor\":\"white\",\"gridwidth\":2}},\"shapedefaults\":{\"line\":{\"color\":\"#2a3f5f\"}},\"annotationdefaults\":{\"arrowcolor\":\"#2a3f5f\",\"arrowhead\":0,\"arrowwidth\":1},\"geo\":{\"bgcolor\":\"white\",\"landcolor\":\"#E5ECF6\",\"subunitcolor\":\"white\",\"showland\":true,\"showlakes\":true,\"lakecolor\":\"white\"},\"title\":{\"x\":0.05},\"mapbox\":{\"style\":\"light\"}}},\"xaxis\":{\"anchor\":\"y\",\"domain\":[0.0,1.0],\"title\":{\"text\":\"Price\"},\"dtick\":5000},\"yaxis\":{\"anchor\":\"x\",\"domain\":[0.0,1.0],\"title\":{\"text\":\"count\"}},\"legend\":{\"tracegroupgap\":0},\"margin\":{\"t\":60},\"barmode\":\"relative\",\"height\":600,\"width\":900,\"bargap\":0.2},                        {\"responsive\": true}                    ).then(function(){\n",
       "                            \n",
       "var gd = document.getElementById('2bd33dd2-fb53-4b54-8757-78231ed61c90');\n",
       "var x = new MutationObserver(function (mutations, observer) {{\n",
       "        var display = window.getComputedStyle(gd).display;\n",
       "        if (!display || display === 'none') {{\n",
       "            console.log([gd, 'removed!']);\n",
       "            Plotly.purge(gd);\n",
       "            observer.disconnect();\n",
       "        }}\n",
       "}});\n",
       "\n",
       "// Listen for the removal of the full notebook cells\n",
       "var notebookContainer = gd.closest('#notebook-container');\n",
       "if (notebookContainer) {{\n",
       "    x.observe(notebookContainer, {childList: true});\n",
       "}}\n",
       "\n",
       "// Listen for the clearing of the current output cell\n",
       "var outputEl = gd.closest('.output');\n",
       "if (outputEl) {{\n",
       "    x.observe(outputEl, {childList: true});\n",
       "}}\n",
       "\n",
       "                        })                };                });            </script>        </div>"
      ]
     },
     "metadata": {},
     "output_type": "display_data"
    }
   ],
   "source": [
    "import plotly.express as px\n",
    "fig=px.histogram(df, x=df['Price'],width=900, height=600)\n",
    "fig.update_layout(bargap=0.2,xaxis = dict(dtick=5000))\n"
   ]
  },
  {
   "cell_type": "code",
   "execution_count": 187,
   "id": "57dbb8e5",
   "metadata": {},
   "outputs": [
    {
     "data": {
      "application/vnd.plotly.v1+json": {
       "config": {
        "plotlyServerURL": "https://plot.ly"
       },
       "data": [
        {
         "alignmentgroup": "True",
         "bingroup": "x",
         "hovertemplate": "brand=%{x}<br>count=%{y}<extra></extra>",
         "legendgroup": "",
         "marker": {
          "color": "#636efa",
          "pattern": {
           "shape": ""
          }
         },
         "name": "",
         "offsetgroup": "",
         "orientation": "v",
         "showlegend": false,
         "type": "histogram",
         "x": [
          "Apple",
          "Apple",
          "Apple",
          "Apple",
          "Apple",
          "Apple",
          "Apple",
          "Apple",
          "Apple",
          "Apple",
          "Apple",
          "Apple",
          "Apple",
          "Apple",
          "Apple",
          "Apple",
          "Apple",
          "Apple",
          "Apple",
          "Apple",
          "Apple",
          "Apple",
          "Apple",
          "Apple",
          "Apple",
          "Apple",
          "Apple",
          "Apple",
          "Apple",
          "Apple",
          "Apple",
          "Apple",
          "Apple",
          "Apple",
          "Apple",
          "Apple",
          "Apple",
          "Apple",
          "Apple",
          "Apple",
          "Apple",
          "Apple",
          "Apple",
          "Apple",
          "Apple",
          "Apple",
          "Apple",
          "Apple",
          "Apple",
          "Apple",
          "Apple",
          "Apple",
          "Apple",
          "Apple",
          "Apple",
          "Apple",
          "Apple",
          "Apple",
          "Apple",
          "Apple",
          "Apple",
          "Apple",
          "Apple",
          "Apple",
          "Apple",
          "Apple",
          "Apple",
          "Apple",
          "Apple",
          "Apple",
          "Apple",
          "Apple",
          "Apple",
          "Apple",
          "Apple",
          "Apple",
          "Apple",
          "Apple",
          "Apple",
          "Apple",
          "Apple",
          "Apple",
          "Apple",
          "Apple",
          "Apple",
          "Apple",
          "Apple",
          "Apple",
          "Apple",
          "Apple",
          "Apple",
          "Apple",
          "Apple",
          "Apple",
          "Apple",
          "Apple",
          "Apple",
          "Apple",
          "Apple",
          "Apple",
          "Apple",
          "Apple",
          "Apple",
          "Apple",
          "Apple",
          "Apple",
          "Apple",
          "Apple",
          "Apple",
          "Apple",
          "Apple",
          "Apple",
          "Apple",
          "Apple",
          "Apple",
          "Apple",
          "Apple",
          "Apple",
          "Apple",
          "Apple",
          "Apple",
          "Apple",
          "Apple",
          "Apple",
          "Apple",
          "Apple",
          "Apple",
          "Apple",
          "Apple",
          "Apple",
          "Apple",
          "Apple",
          "Apple",
          "Apple",
          "Apple",
          "Apple",
          "Apple",
          "Apple",
          "Apple",
          "Apple",
          "Apple",
          "Apple",
          "Apple",
          "Apple",
          "Apple",
          "Apple",
          "Apple",
          "Apple",
          "Apple",
          "Apple",
          "Apple",
          "Apple",
          "Apple",
          "Apple",
          "Apple",
          "Apple",
          "Apple",
          "Apple",
          "Apple",
          "Apple",
          "Apple",
          "Apple",
          "Apple",
          "Apple",
          "Apple",
          "Apple",
          "Apple",
          "Apple",
          "Apple",
          "Apple",
          "Apple",
          "Apple",
          "Apple",
          "Apple",
          "Apple",
          "Apple",
          "Apple",
          "Apple",
          "Apple",
          "Apple",
          "Apple",
          "Apple",
          "Apple",
          "Apple",
          "Apple",
          "Apple",
          "Apple",
          "Apple",
          "Apple",
          "Apple",
          "Apple",
          "Apple",
          "Apple",
          "Apple",
          "Apple",
          "Apple",
          "Apple",
          "Apple",
          "Apple",
          "Apple",
          "Apple",
          "Apple",
          "Apple",
          "Apple",
          "Apple",
          "Apple",
          "Apple",
          "Apple",
          "Apple",
          "Apple",
          "Apple",
          "Apple",
          "Apple",
          "Apple",
          "Apple",
          "Apple",
          "Apple",
          "Apple",
          "Apple",
          "Apple",
          "Apple",
          "Apple",
          "Apple",
          "Apple",
          "Apple",
          "Apple",
          "Apple",
          "Apple",
          "Apple",
          "Apple",
          "Apple",
          "Apple",
          "Apple",
          "Apple",
          "Apple",
          "Apple",
          "Apple",
          "Apple",
          "Apple",
          "Apple",
          "Apple",
          "Apple",
          "Apple",
          "Apple",
          "Apple",
          "Apple",
          "Apple",
          "Apple",
          "Apple",
          "Apple",
          "Apple",
          "Apple",
          "Apple",
          "Apple",
          "Apple",
          "Apple",
          "Apple",
          "Apple",
          "Apple",
          "Apple",
          "Apple",
          "Apple",
          "Apple",
          "Apple",
          "Apple",
          "Apple",
          "Apple",
          "Apple",
          "Apple",
          "Apple",
          "Apple",
          "Apple",
          "Apple",
          "Apple",
          "Apple",
          "Apple",
          "Apple",
          "Apple",
          "Apple",
          "Apple",
          "Apple",
          "Apple",
          "Apple",
          "Apple",
          "Apple",
          "Apple",
          "Apple",
          "Apple",
          "Apple",
          "Apple",
          "Apple",
          "Apple",
          "Apple",
          "Apple",
          "Apple",
          "Apple",
          "Apple",
          "Apple",
          "Apple",
          "Apple",
          "Apple",
          "Apple",
          "Apple",
          "Apple",
          "Apple",
          "Apple",
          "Apple",
          "Apple",
          "Apple",
          "Apple",
          "Apple",
          "Apple",
          "Apple",
          "Apple",
          "Apple",
          "Apple",
          "Apple",
          "Apple",
          "Apple",
          "Apple",
          "Apple",
          "Apple",
          "Apple",
          "Apple",
          "Apple",
          "Apple",
          "Apple",
          "Apple",
          "Apple",
          "Apple",
          "Apple",
          "Apple",
          "Apple",
          "Apple",
          "Apple",
          "Apple",
          "Apple",
          "Apple",
          "Apple",
          "Apple",
          "Apple",
          "Apple",
          "Apple",
          "Apple",
          "Apple",
          "Apple",
          "Apple",
          "Apple",
          "Apple",
          "Apple",
          "Apple",
          "Apple",
          "Apple",
          "Apple",
          "Apple",
          "Apple",
          "Apple",
          "Apple",
          "Apple",
          "Apple",
          "Samsung",
          "Samsung",
          "Samsung",
          "Samsung",
          "Samsung",
          "Samsung",
          "Samsung",
          "Samsung",
          "Samsung",
          "Samsung",
          "Samsung",
          "Samsung",
          "Samsung",
          "Samsung",
          "Samsung",
          "Samsung",
          "Samsung",
          "Samsung",
          "Samsung",
          "Lava",
          "Samsung",
          "Samsung",
          "Samsung",
          "Samsung",
          "Samsung",
          "Samsung",
          "Samsung",
          "Samsung",
          "Samsung",
          "Samsung",
          "Samsung",
          "Samsung",
          "Samsung",
          "Samsung",
          "Samsung",
          "Samsung",
          "Samsung",
          "Samsung",
          "Samsung",
          "Lava",
          "Samsung",
          "Samsung",
          "Samsung",
          "Samsung",
          "Samsung",
          "Samsung",
          "Samsung",
          "Samsung",
          "Samsung",
          "Samsung",
          "Samsung",
          "Samsung",
          "Samsung",
          "Samsung",
          "Samsung",
          "Samsung",
          "Samsung",
          "Samsung",
          "Samsung",
          "Lava",
          "Samsung",
          "Samsung",
          "Samsung",
          "Samsung",
          "Samsung",
          "Samsung",
          "Samsung",
          "Samsung",
          "Samsung",
          "Samsung",
          "Samsung",
          "Samsung",
          "Samsung",
          "Samsung",
          "Samsung",
          "Samsung",
          "Samsung",
          "Samsung",
          "Samsung",
          "Lava",
          "Samsung",
          "Samsung",
          "Samsung",
          "Samsung",
          "Samsung",
          "Samsung",
          "Samsung",
          "Samsung",
          "Samsung",
          "Samsung",
          "Samsung",
          "Samsung",
          "Samsung",
          "Samsung",
          "Samsung",
          "Samsung",
          "Samsung",
          "Samsung",
          "Samsung",
          "Lava",
          "Samsung",
          "Samsung",
          "Samsung",
          "Samsung",
          "Samsung",
          "Samsung",
          "Samsung",
          "Samsung",
          "Samsung",
          "Samsung",
          "Samsung",
          "Samsung",
          "Samsung",
          "Samsung",
          "Samsung",
          "Samsung",
          "Samsung",
          "Samsung",
          "Samsung",
          "Lava",
          "Samsung",
          "Samsung",
          "Samsung",
          "Samsung",
          "Samsung",
          "Samsung",
          "Samsung",
          "Samsung",
          "Samsung",
          "Samsung",
          "Samsung",
          "Samsung",
          "Samsung",
          "Samsung",
          "Samsung",
          "Samsung",
          "Samsung",
          "Samsung",
          "Samsung",
          "Lava",
          "Samsung",
          "Samsung",
          "Samsung",
          "Samsung",
          "Samsung",
          "Samsung",
          "Samsung",
          "Samsung",
          "Samsung",
          "Samsung",
          "Samsung",
          "Samsung",
          "Samsung",
          "Samsung",
          "Samsung",
          "Samsung",
          "Samsung",
          "Samsung",
          "Samsung",
          "Lava",
          "Samsung",
          "Samsung",
          "Samsung",
          "Samsung",
          "Samsung",
          "Samsung",
          "Samsung",
          "Samsung",
          "Samsung",
          "Samsung",
          "Samsung",
          "Samsung",
          "Samsung",
          "Samsung",
          "Samsung",
          "Samsung",
          "Samsung",
          "Samsung",
          "Samsung",
          "Lava",
          "Samsung",
          "Samsung",
          "Samsung",
          "Samsung",
          "Samsung",
          "Samsung",
          "Samsung",
          "Samsung",
          "Samsung",
          "Samsung",
          "Samsung",
          "Samsung",
          "Samsung",
          "Samsung",
          "Samsung",
          "Samsung",
          "Samsung",
          "Samsung",
          "Samsung",
          "Lava",
          "Samsung",
          "Samsung",
          "Samsung",
          "Samsung",
          "Samsung",
          "Samsung",
          "Samsung",
          "Samsung",
          "Samsung",
          "Samsung",
          "Samsung",
          "Samsung",
          "Samsung",
          "Samsung",
          "Samsung",
          "Samsung",
          "Samsung",
          "Samsung",
          "Samsung",
          "Lava",
          "Samsung",
          "Samsung",
          "Samsung",
          "Samsung",
          "Samsung",
          "Samsung",
          "Samsung",
          "Samsung",
          "Samsung",
          "Samsung",
          "Samsung",
          "Samsung",
          "Samsung",
          "Samsung",
          "Samsung",
          "Samsung",
          "Samsung",
          "Samsung",
          "Samsung",
          "Lava",
          "Samsung",
          "Samsung",
          "Samsung",
          "Samsung",
          "Samsung",
          "Samsung",
          "Samsung",
          "Samsung",
          "Samsung",
          "Samsung",
          "Samsung",
          "Samsung",
          "Samsung",
          "Samsung",
          "Samsung",
          "Samsung",
          "Samsung",
          "Samsung",
          "Samsung",
          "Lava",
          "Samsung",
          "Samsung",
          "Samsung",
          "Samsung",
          "Samsung",
          "Samsung",
          "Samsung",
          "Samsung",
          "Samsung",
          "Samsung",
          "Samsung",
          "Samsung",
          "Samsung",
          "Samsung",
          "Samsung",
          "Samsung",
          "Samsung",
          "Samsung",
          "Samsung",
          "Lava",
          "Samsung",
          "Samsung",
          "Samsung",
          "Samsung",
          "Samsung",
          "Samsung",
          "Samsung",
          "Samsung",
          "Samsung",
          "Samsung",
          "Samsung",
          "Samsung",
          "Samsung",
          "Samsung",
          "Samsung",
          "Samsung",
          "Samsung",
          "Samsung",
          "Samsung",
          "Lava",
          "Samsung",
          "Samsung",
          "Samsung",
          "Samsung",
          "Samsung",
          "Samsung",
          "Samsung",
          "Samsung",
          "Samsung",
          "Samsung",
          "Samsung",
          "Samsung",
          "Samsung",
          "Samsung",
          "Samsung",
          "Samsung",
          "Samsung",
          "Samsung",
          "Samsung",
          "Lava",
          "Samsung",
          "Samsung",
          "Samsung",
          "Samsung",
          "Samsung",
          "Samsung",
          "Samsung",
          "Samsung",
          "Samsung",
          "Samsung",
          "Samsung",
          "Samsung",
          "Samsung",
          "Samsung",
          "Samsung",
          "Samsung",
          "Samsung",
          "Samsung",
          "Samsung",
          "Lava",
          "Samsung",
          "Samsung",
          "Samsung",
          "Samsung",
          "Samsung",
          "Samsung",
          "Samsung",
          "Samsung",
          "Samsung",
          "Samsung",
          "Samsung",
          "Samsung",
          "Samsung",
          "Samsung",
          "Samsung",
          "Samsung",
          "Samsung",
          "Samsung",
          "Samsung",
          "Lava",
          "Samsung",
          "Samsung",
          "Samsung",
          "Samsung",
          "Samsung",
          "Samsung",
          "Samsung",
          "Samsung",
          "Samsung",
          "Samsung",
          "Samsung",
          "Samsung",
          "Samsung",
          "Samsung",
          "Samsung",
          "Samsung",
          "Samsung",
          "Samsung",
          "Samsung",
          "Lava",
          "Samsung",
          "Samsung",
          "Samsung",
          "Samsung",
          "Samsung",
          "Samsung",
          "Samsung",
          "Samsung",
          "Samsung",
          "Samsung",
          "Samsung",
          "Samsung",
          "Samsung",
          "Samsung",
          "Samsung",
          "Samsung",
          "Samsung",
          "Samsung",
          "Samsung",
          "Lava",
          "Samsung",
          "Redmi",
          "Xiaomi",
          "Redmi",
          "Xiaomi",
          "Xiaomi",
          "Redmi",
          "(Renewed)",
          "(Renewed)",
          "MI",
          "(Renewed)",
          "Xiaomi",
          "Redmi",
          "Xiaomi",
          "Xiaomi",
          "Redmi",
          "Xiaomi",
          "Redmi",
          "Samsung",
          "Redmi",
          "Xiaomi",
          "Redmi",
          "Xiaomi",
          "Xiaomi",
          "Redmi",
          "(Renewed)",
          "(Renewed)",
          "MI",
          "(Renewed)",
          "Xiaomi",
          "Redmi",
          "Xiaomi",
          "Xiaomi",
          "Redmi",
          "Xiaomi",
          "Redmi",
          "Samsung",
          "Redmi",
          "Xiaomi",
          "Redmi",
          "Xiaomi",
          "Xiaomi",
          "Redmi",
          "(Renewed)",
          "(Renewed)",
          "MI",
          "(Renewed)",
          "Xiaomi",
          "Redmi",
          "Xiaomi",
          "Xiaomi",
          "Redmi",
          "Xiaomi",
          "Redmi",
          "Samsung",
          "Redmi",
          "Xiaomi",
          "Redmi",
          "Xiaomi",
          "Xiaomi",
          "Redmi",
          "(Renewed)",
          "(Renewed)",
          "MI",
          "(Renewed)",
          "Xiaomi",
          "Redmi",
          "Xiaomi",
          "Xiaomi",
          "Redmi",
          "Xiaomi",
          "Redmi",
          "Samsung",
          "Redmi",
          "Xiaomi",
          "Redmi",
          "Xiaomi",
          "Xiaomi",
          "Redmi",
          "(Renewed)",
          "(Renewed)",
          "MI",
          "(Renewed)",
          "Xiaomi",
          "Redmi",
          "Xiaomi",
          "Xiaomi",
          "Redmi",
          "Xiaomi",
          "Redmi",
          "Samsung",
          "Redmi",
          "Xiaomi",
          "Redmi",
          "Xiaomi",
          "Xiaomi",
          "Redmi",
          "(Renewed)",
          "(Renewed)",
          "MI",
          "(Renewed)",
          "Xiaomi",
          "Redmi",
          "Xiaomi",
          "Xiaomi",
          "Redmi",
          "Xiaomi",
          "Redmi",
          "Samsung",
          "Redmi",
          "Xiaomi",
          "Redmi",
          "Xiaomi",
          "Xiaomi",
          "Redmi",
          "(Renewed)",
          "(Renewed)",
          "MI",
          "(Renewed)",
          "Xiaomi",
          "Redmi",
          "Xiaomi",
          "Xiaomi",
          "Redmi",
          "Xiaomi",
          "Redmi",
          "Samsung",
          "Redmi",
          "Xiaomi",
          "Redmi",
          "Xiaomi",
          "Xiaomi",
          "Redmi",
          "(Renewed)",
          "(Renewed)",
          "MI",
          "(Renewed)",
          "Xiaomi",
          "Redmi",
          "Xiaomi",
          "Xiaomi",
          "Redmi",
          "Xiaomi",
          "Redmi",
          "Samsung",
          "Redmi",
          "Xiaomi",
          "Redmi",
          "Xiaomi",
          "Xiaomi",
          "Redmi",
          "(Renewed)",
          "(Renewed)",
          "MI",
          "(Renewed)",
          "Xiaomi",
          "Redmi",
          "Xiaomi",
          "Xiaomi",
          "Redmi",
          "Xiaomi",
          "Redmi",
          "Samsung",
          "Redmi",
          "Xiaomi",
          "Redmi",
          "Xiaomi",
          "Xiaomi",
          "Redmi",
          "(Renewed)",
          "(Renewed)",
          "MI",
          "(Renewed)",
          "Xiaomi",
          "Redmi",
          "Xiaomi",
          "Xiaomi",
          "Redmi",
          "Xiaomi",
          "Redmi",
          "Samsung",
          "Redmi",
          "Xiaomi",
          "Redmi",
          "Xiaomi",
          "Xiaomi",
          "Redmi",
          "(Renewed)",
          "(Renewed)",
          "MI",
          "(Renewed)",
          "Xiaomi",
          "Redmi",
          "Xiaomi",
          "Xiaomi",
          "Redmi",
          "Xiaomi",
          "Redmi",
          "Samsung",
          "Redmi",
          "Xiaomi",
          "Redmi",
          "Xiaomi",
          "Xiaomi",
          "Redmi",
          "(Renewed)",
          "(Renewed)",
          "MI",
          "(Renewed)",
          "Xiaomi",
          "Redmi",
          "Xiaomi",
          "Xiaomi",
          "Redmi",
          "Xiaomi",
          "Redmi",
          "Samsung",
          "Redmi",
          "Xiaomi",
          "Redmi",
          "Xiaomi",
          "Xiaomi",
          "Redmi",
          "(Renewed)",
          "(Renewed)",
          "MI",
          "(Renewed)",
          "Xiaomi",
          "Redmi",
          "Xiaomi",
          "Xiaomi",
          "Redmi",
          "Xiaomi",
          "Redmi",
          "Samsung",
          "Redmi",
          "Xiaomi",
          "Redmi",
          "Xiaomi",
          "Xiaomi",
          "Redmi",
          "(Renewed)",
          "(Renewed)",
          "MI",
          "(Renewed)",
          "Xiaomi",
          "Redmi",
          "Xiaomi",
          "Xiaomi",
          "Redmi",
          "Xiaomi",
          "Redmi",
          "Samsung",
          "Redmi",
          "Xiaomi",
          "Redmi",
          "Xiaomi",
          "Xiaomi",
          "Redmi",
          "(Renewed)",
          "(Renewed)",
          "MI",
          "(Renewed)",
          "Xiaomi",
          "Redmi",
          "Xiaomi",
          "Xiaomi",
          "Redmi",
          "Xiaomi",
          "Redmi",
          "Samsung",
          "Redmi",
          "Xiaomi",
          "Redmi",
          "Xiaomi",
          "Xiaomi",
          "Redmi",
          "(Renewed)",
          "(Renewed)",
          "MI",
          "(Renewed)",
          "Xiaomi",
          "Redmi",
          "Xiaomi",
          "Xiaomi",
          "Redmi",
          "Xiaomi",
          "Redmi",
          "Samsung",
          "Redmi",
          "Xiaomi",
          "Redmi",
          "Xiaomi",
          "Xiaomi",
          "Redmi",
          "(Renewed)",
          "(Renewed)",
          "MI",
          "(Renewed)",
          "Xiaomi",
          "Redmi",
          "Xiaomi",
          "Xiaomi",
          "Redmi",
          "Xiaomi",
          "Redmi",
          "Samsung",
          "Redmi",
          "Xiaomi",
          "Redmi",
          "Xiaomi",
          "Xiaomi",
          "Redmi",
          "(Renewed)",
          "(Renewed)",
          "MI",
          "(Renewed)",
          "Xiaomi",
          "Redmi",
          "Xiaomi",
          "Xiaomi",
          "Redmi",
          "Xiaomi",
          "Redmi",
          "Samsung",
          "Redmi",
          "Xiaomi",
          "Redmi",
          "Xiaomi",
          "Xiaomi",
          "Redmi",
          "(Renewed)",
          "(Renewed)",
          "MI",
          "(Renewed)",
          "Xiaomi",
          "Redmi",
          "Xiaomi",
          "Xiaomi",
          "Redmi",
          "Xiaomi",
          "Redmi",
          "Samsung",
          "Redmi",
          "Xiaomi",
          "Redmi",
          "Xiaomi",
          "Xiaomi",
          "Redmi",
          "(Renewed)",
          "(Renewed)",
          "MI",
          "(Renewed)",
          "Xiaomi",
          "Redmi",
          "Xiaomi",
          "Xiaomi",
          "Redmi",
          "Xiaomi",
          "Redmi",
          "Samsung",
          "Samsung",
          "OPPO",
          "OPPO",
          "OPPO",
          "OPPO",
          "OPPO",
          "OPPO",
          "OPPO",
          "OPPO",
          "Redmi",
          "Lava",
          "Oppo",
          "OPPO",
          "OPPO",
          "Oppo",
          "OPPO",
          "OPPO",
          "OPPO",
          "Samsung",
          "Samsung",
          "OPPO",
          "OPPO",
          "OPPO",
          "OPPO",
          "OPPO",
          "OPPO",
          "OPPO",
          "OPPO",
          "Redmi",
          "Lava",
          "Oppo",
          "OPPO",
          "OPPO",
          "Oppo",
          "OPPO",
          "OPPO",
          "OPPO",
          "Samsung",
          "Samsung",
          "OPPO",
          "OPPO",
          "OPPO",
          "OPPO",
          "OPPO",
          "OPPO",
          "OPPO",
          "OPPO",
          "Redmi",
          "Lava",
          "Oppo",
          "OPPO",
          "OPPO",
          "Oppo",
          "OPPO",
          "OPPO",
          "OPPO",
          "Samsung",
          "Samsung",
          "OPPO",
          "OPPO",
          "OPPO",
          "OPPO",
          "OPPO",
          "OPPO",
          "OPPO",
          "OPPO",
          "Redmi",
          "Lava",
          "Oppo",
          "OPPO",
          "OPPO",
          "Oppo",
          "OPPO",
          "OPPO",
          "OPPO",
          "Samsung",
          "Samsung",
          "OPPO",
          "OPPO",
          "OPPO",
          "OPPO",
          "OPPO",
          "OPPO",
          "OPPO",
          "OPPO",
          "Redmi",
          "Lava",
          "Oppo",
          "OPPO",
          "OPPO",
          "Oppo",
          "OPPO",
          "OPPO",
          "OPPO",
          "Samsung",
          "Samsung",
          "OPPO",
          "OPPO",
          "OPPO",
          "OPPO",
          "OPPO",
          "OPPO",
          "OPPO",
          "OPPO",
          "Redmi",
          "Lava",
          "Oppo",
          "OPPO",
          "OPPO",
          "Oppo",
          "OPPO",
          "OPPO",
          "OPPO",
          "Samsung",
          "Samsung",
          "OPPO",
          "OPPO",
          "OPPO",
          "OPPO",
          "OPPO",
          "OPPO",
          "OPPO",
          "OPPO",
          "Redmi",
          "Lava",
          "Oppo",
          "OPPO",
          "OPPO",
          "Oppo",
          "OPPO",
          "OPPO",
          "OPPO",
          "Samsung",
          "Samsung",
          "OPPO",
          "OPPO",
          "OPPO",
          "OPPO",
          "OPPO",
          "OPPO",
          "OPPO",
          "OPPO",
          "Redmi",
          "Lava",
          "Oppo",
          "OPPO",
          "OPPO",
          "Oppo",
          "OPPO",
          "OPPO",
          "OPPO",
          "Samsung",
          "Samsung",
          "OPPO",
          "OPPO",
          "OPPO",
          "OPPO",
          "OPPO",
          "OPPO",
          "OPPO",
          "OPPO",
          "Redmi",
          "Lava",
          "Oppo",
          "OPPO",
          "OPPO",
          "Oppo",
          "OPPO",
          "OPPO",
          "OPPO",
          "Samsung",
          "Samsung",
          "OPPO",
          "OPPO",
          "OPPO",
          "OPPO",
          "OPPO",
          "OPPO",
          "OPPO",
          "OPPO",
          "Redmi",
          "Lava",
          "Oppo",
          "OPPO",
          "OPPO",
          "Oppo",
          "OPPO",
          "OPPO",
          "OPPO",
          "Samsung",
          "Samsung",
          "OPPO",
          "OPPO",
          "OPPO",
          "OPPO",
          "OPPO",
          "OPPO",
          "OPPO",
          "OPPO",
          "Redmi",
          "Lava",
          "Oppo",
          "OPPO",
          "OPPO",
          "Oppo",
          "OPPO",
          "OPPO",
          "OPPO",
          "Samsung",
          "Samsung",
          "OPPO",
          "OPPO",
          "OPPO",
          "OPPO",
          "OPPO",
          "OPPO",
          "OPPO",
          "OPPO",
          "Redmi",
          "Lava",
          "Oppo",
          "OPPO",
          "OPPO",
          "Oppo",
          "OPPO",
          "OPPO",
          "OPPO",
          "Samsung",
          "Samsung",
          "OPPO",
          "OPPO",
          "OPPO",
          "OPPO",
          "OPPO",
          "OPPO",
          "OPPO",
          "OPPO",
          "Redmi",
          "Lava",
          "Oppo",
          "OPPO",
          "OPPO",
          "Oppo",
          "OPPO",
          "OPPO",
          "OPPO",
          "Samsung",
          "Samsung",
          "OPPO",
          "OPPO",
          "OPPO",
          "OPPO",
          "OPPO",
          "OPPO",
          "OPPO",
          "OPPO",
          "Redmi",
          "Lava",
          "Oppo",
          "OPPO",
          "OPPO",
          "Oppo",
          "OPPO",
          "OPPO",
          "OPPO",
          "Samsung",
          "Samsung",
          "OPPO",
          "OPPO",
          "OPPO",
          "OPPO",
          "OPPO",
          "OPPO",
          "OPPO",
          "OPPO",
          "Redmi",
          "Lava",
          "Oppo",
          "OPPO",
          "OPPO",
          "Oppo",
          "OPPO",
          "OPPO",
          "OPPO",
          "Samsung",
          "Samsung",
          "OPPO",
          "OPPO",
          "OPPO",
          "OPPO",
          "OPPO",
          "OPPO",
          "OPPO",
          "OPPO",
          "Redmi",
          "Lava",
          "Oppo",
          "OPPO",
          "OPPO",
          "Oppo",
          "OPPO",
          "OPPO",
          "OPPO",
          "Samsung",
          "Samsung",
          "OPPO",
          "OPPO",
          "OPPO",
          "OPPO",
          "OPPO",
          "OPPO",
          "OPPO",
          "OPPO",
          "Redmi",
          "Lava",
          "Oppo",
          "OPPO",
          "OPPO",
          "Oppo",
          "OPPO",
          "OPPO",
          "OPPO",
          "Samsung",
          "Samsung",
          "OPPO",
          "OPPO",
          "OPPO",
          "OPPO",
          "OPPO",
          "OPPO",
          "OPPO",
          "OPPO",
          "Redmi",
          "Lava",
          "Oppo",
          "OPPO",
          "OPPO",
          "Oppo",
          "OPPO",
          "OPPO",
          "OPPO",
          "Samsung",
          "Samsung",
          "OPPO",
          "OPPO",
          "OPPO",
          "OPPO",
          "OPPO",
          "OPPO",
          "OPPO",
          "OPPO",
          "Redmi",
          "Lava",
          "Oppo",
          "OPPO",
          "OPPO",
          "Oppo",
          "OPPO",
          "OPPO",
          "OPPO",
          "Samsung",
          "Samsung",
          "OPPO",
          "OPPO",
          "OPPO",
          "OPPO",
          "OPPO",
          "OPPO",
          "OPPO",
          "OPPO",
          "Redmi",
          "Lava",
          "Oppo",
          "OPPO",
          "OPPO",
          "Oppo",
          "OPPO",
          "OPPO",
          "OPPO",
          "vivo",
          "vivo",
          "Vivo",
          "vivo",
          "Vivo",
          "vivo",
          "(Renewed)",
          "Vivo",
          "vivo",
          "vivo",
          "IKALL",
          "Lava",
          "Vivo",
          "Vivo",
          "vivo",
          "Vivo",
          "vivo",
          "vivo",
          "IKALL",
          "vivo",
          "vivo",
          "Vivo",
          "vivo",
          "Vivo",
          "vivo",
          "(Renewed)",
          "Vivo",
          "vivo",
          "vivo",
          "IKALL",
          "IKALL",
          "Vivo",
          "Vivo",
          "vivo",
          "Vivo",
          "vivo",
          "vivo",
          "vivo",
          "vivo",
          "Vivo",
          "vivo",
          "Vivo",
          "vivo",
          "(Renewed)",
          "Vivo",
          "vivo",
          "vivo",
          "IKALL",
          "IKALL",
          "Vivo",
          "Vivo",
          "vivo",
          "Vivo",
          "vivo",
          "vivo",
          "vivo",
          "vivo",
          "Vivo",
          "vivo",
          "Vivo",
          "vivo",
          "(Renewed)",
          "Vivo",
          "vivo",
          "vivo",
          "IKALL",
          "IKALL",
          "Vivo",
          "Vivo",
          "vivo",
          "Vivo",
          "vivo",
          "vivo",
          "vivo",
          "vivo",
          "Vivo",
          "vivo",
          "Vivo",
          "vivo",
          "(Renewed)",
          "Vivo",
          "vivo",
          "vivo",
          "IKALL",
          "IKALL",
          "Vivo",
          "Vivo",
          "vivo",
          "Vivo",
          "vivo",
          "vivo",
          "vivo",
          "vivo",
          "Vivo",
          "vivo",
          "Vivo",
          "vivo",
          "(Renewed)",
          "Vivo",
          "vivo",
          "vivo",
          "IKALL",
          "IKALL",
          "Vivo",
          "Vivo",
          "vivo",
          "Vivo",
          "vivo",
          "vivo",
          "vivo",
          "vivo",
          "Vivo",
          "vivo",
          "Vivo",
          "vivo",
          "(Renewed)",
          "Vivo",
          "vivo",
          "vivo",
          "IKALL",
          "IKALL",
          "Vivo",
          "Vivo",
          "vivo",
          "Vivo",
          "vivo",
          "vivo",
          "vivo",
          "vivo",
          "Vivo",
          "vivo",
          "Vivo",
          "vivo",
          "(Renewed)",
          "Vivo",
          "vivo",
          "vivo",
          "IKALL",
          "IKALL",
          "Vivo",
          "Vivo",
          "vivo",
          "Vivo",
          "vivo",
          "vivo",
          "vivo",
          "vivo",
          "Vivo",
          "vivo",
          "Vivo",
          "vivo",
          "(Renewed)",
          "Vivo",
          "vivo",
          "vivo",
          "IKALL",
          "IKALL",
          "Vivo",
          "Vivo",
          "vivo",
          "Vivo",
          "vivo",
          "vivo",
          "vivo",
          "vivo",
          "Vivo",
          "vivo",
          "Vivo",
          "vivo",
          "(Renewed)",
          "Vivo",
          "vivo",
          "vivo",
          "IKALL",
          "IKALL",
          "Vivo",
          "Vivo",
          "vivo",
          "Vivo",
          "vivo",
          "vivo",
          "vivo",
          "vivo",
          "Vivo",
          "vivo",
          "Vivo",
          "vivo",
          "(Renewed)",
          "Vivo",
          "vivo",
          "vivo",
          "IKALL",
          "IKALL",
          "Vivo",
          "Vivo",
          "vivo",
          "Vivo",
          "vivo",
          "vivo",
          "vivo",
          "vivo",
          "Vivo",
          "vivo",
          "Vivo",
          "vivo",
          "(Renewed)",
          "Vivo",
          "vivo",
          "vivo",
          "IKALL",
          "IKALL",
          "Vivo",
          "Vivo",
          "vivo",
          "Vivo",
          "vivo",
          "vivo",
          "vivo",
          "vivo",
          "Vivo",
          "vivo",
          "Vivo",
          "vivo",
          "(Renewed)",
          "Vivo",
          "vivo",
          "vivo",
          "IKALL",
          "IKALL",
          "Vivo",
          "Vivo",
          "vivo",
          "Vivo",
          "vivo",
          "vivo",
          "vivo",
          "vivo",
          "Vivo",
          "vivo",
          "Vivo",
          "vivo",
          "(Renewed)",
          "Vivo",
          "vivo",
          "vivo",
          "IKALL",
          "IKALL",
          "Vivo",
          "Vivo",
          "vivo",
          "Vivo",
          "vivo",
          "vivo",
          "vivo",
          "vivo",
          "Vivo",
          "vivo",
          "Vivo",
          "vivo",
          "(Renewed)",
          "Vivo",
          "vivo",
          "vivo",
          "IKALL",
          "IKALL",
          "Vivo",
          "Vivo",
          "vivo",
          "Vivo",
          "vivo",
          "vivo",
          "vivo",
          "vivo",
          "Vivo",
          "vivo",
          "Vivo",
          "vivo",
          "(Renewed)",
          "Vivo",
          "vivo",
          "vivo",
          "IKALL",
          "IKALL",
          "Vivo",
          "Vivo",
          "vivo",
          "Vivo",
          "vivo",
          "vivo",
          "vivo",
          "vivo",
          "Vivo",
          "vivo",
          "Vivo",
          "vivo",
          "(Renewed)",
          "Vivo",
          "vivo",
          "vivo",
          "IKALL",
          "IKALL",
          "Vivo",
          "Vivo",
          "vivo",
          "Vivo",
          "vivo",
          "vivo",
          "vivo",
          "vivo",
          "Vivo",
          "vivo",
          "Vivo",
          "vivo",
          "(Renewed)",
          "Vivo",
          "vivo",
          "vivo",
          "IKALL",
          "IKALL",
          "Vivo",
          "Vivo",
          "vivo",
          "Vivo",
          "vivo",
          "vivo",
          "vivo",
          "vivo",
          "Vivo",
          "vivo",
          "Vivo",
          "vivo",
          "(Renewed)",
          "Vivo",
          "vivo",
          "vivo",
          "IKALL",
          "IKALL",
          "Vivo",
          "Vivo",
          "vivo",
          "Vivo",
          "vivo",
          "vivo",
          "vivo",
          "vivo",
          "Vivo",
          "vivo",
          "Vivo",
          "vivo",
          "(Renewed)",
          "Vivo",
          "vivo",
          "vivo",
          "IKALL",
          "IKALL",
          "Vivo",
          "Vivo",
          "vivo",
          "Vivo",
          "vivo",
          "vivo"
         ],
         "xaxis": "x",
         "yaxis": "y"
        }
       ],
       "layout": {
        "bargap": 0.2,
        "barmode": "relative",
        "height": 600,
        "legend": {
         "tracegroupgap": 0
        },
        "margin": {
         "t": 60
        },
        "template": {
         "data": {
          "bar": [
           {
            "error_x": {
             "color": "#2a3f5f"
            },
            "error_y": {
             "color": "#2a3f5f"
            },
            "marker": {
             "line": {
              "color": "#E5ECF6",
              "width": 0.5
             },
             "pattern": {
              "fillmode": "overlay",
              "size": 10,
              "solidity": 0.2
             }
            },
            "type": "bar"
           }
          ],
          "barpolar": [
           {
            "marker": {
             "line": {
              "color": "#E5ECF6",
              "width": 0.5
             },
             "pattern": {
              "fillmode": "overlay",
              "size": 10,
              "solidity": 0.2
             }
            },
            "type": "barpolar"
           }
          ],
          "carpet": [
           {
            "aaxis": {
             "endlinecolor": "#2a3f5f",
             "gridcolor": "white",
             "linecolor": "white",
             "minorgridcolor": "white",
             "startlinecolor": "#2a3f5f"
            },
            "baxis": {
             "endlinecolor": "#2a3f5f",
             "gridcolor": "white",
             "linecolor": "white",
             "minorgridcolor": "white",
             "startlinecolor": "#2a3f5f"
            },
            "type": "carpet"
           }
          ],
          "choropleth": [
           {
            "colorbar": {
             "outlinewidth": 0,
             "ticks": ""
            },
            "type": "choropleth"
           }
          ],
          "contour": [
           {
            "colorbar": {
             "outlinewidth": 0,
             "ticks": ""
            },
            "colorscale": [
             [
              0,
              "#0d0887"
             ],
             [
              0.1111111111111111,
              "#46039f"
             ],
             [
              0.2222222222222222,
              "#7201a8"
             ],
             [
              0.3333333333333333,
              "#9c179e"
             ],
             [
              0.4444444444444444,
              "#bd3786"
             ],
             [
              0.5555555555555556,
              "#d8576b"
             ],
             [
              0.6666666666666666,
              "#ed7953"
             ],
             [
              0.7777777777777778,
              "#fb9f3a"
             ],
             [
              0.8888888888888888,
              "#fdca26"
             ],
             [
              1,
              "#f0f921"
             ]
            ],
            "type": "contour"
           }
          ],
          "contourcarpet": [
           {
            "colorbar": {
             "outlinewidth": 0,
             "ticks": ""
            },
            "type": "contourcarpet"
           }
          ],
          "heatmap": [
           {
            "colorbar": {
             "outlinewidth": 0,
             "ticks": ""
            },
            "colorscale": [
             [
              0,
              "#0d0887"
             ],
             [
              0.1111111111111111,
              "#46039f"
             ],
             [
              0.2222222222222222,
              "#7201a8"
             ],
             [
              0.3333333333333333,
              "#9c179e"
             ],
             [
              0.4444444444444444,
              "#bd3786"
             ],
             [
              0.5555555555555556,
              "#d8576b"
             ],
             [
              0.6666666666666666,
              "#ed7953"
             ],
             [
              0.7777777777777778,
              "#fb9f3a"
             ],
             [
              0.8888888888888888,
              "#fdca26"
             ],
             [
              1,
              "#f0f921"
             ]
            ],
            "type": "heatmap"
           }
          ],
          "heatmapgl": [
           {
            "colorbar": {
             "outlinewidth": 0,
             "ticks": ""
            },
            "colorscale": [
             [
              0,
              "#0d0887"
             ],
             [
              0.1111111111111111,
              "#46039f"
             ],
             [
              0.2222222222222222,
              "#7201a8"
             ],
             [
              0.3333333333333333,
              "#9c179e"
             ],
             [
              0.4444444444444444,
              "#bd3786"
             ],
             [
              0.5555555555555556,
              "#d8576b"
             ],
             [
              0.6666666666666666,
              "#ed7953"
             ],
             [
              0.7777777777777778,
              "#fb9f3a"
             ],
             [
              0.8888888888888888,
              "#fdca26"
             ],
             [
              1,
              "#f0f921"
             ]
            ],
            "type": "heatmapgl"
           }
          ],
          "histogram": [
           {
            "marker": {
             "pattern": {
              "fillmode": "overlay",
              "size": 10,
              "solidity": 0.2
             }
            },
            "type": "histogram"
           }
          ],
          "histogram2d": [
           {
            "colorbar": {
             "outlinewidth": 0,
             "ticks": ""
            },
            "colorscale": [
             [
              0,
              "#0d0887"
             ],
             [
              0.1111111111111111,
              "#46039f"
             ],
             [
              0.2222222222222222,
              "#7201a8"
             ],
             [
              0.3333333333333333,
              "#9c179e"
             ],
             [
              0.4444444444444444,
              "#bd3786"
             ],
             [
              0.5555555555555556,
              "#d8576b"
             ],
             [
              0.6666666666666666,
              "#ed7953"
             ],
             [
              0.7777777777777778,
              "#fb9f3a"
             ],
             [
              0.8888888888888888,
              "#fdca26"
             ],
             [
              1,
              "#f0f921"
             ]
            ],
            "type": "histogram2d"
           }
          ],
          "histogram2dcontour": [
           {
            "colorbar": {
             "outlinewidth": 0,
             "ticks": ""
            },
            "colorscale": [
             [
              0,
              "#0d0887"
             ],
             [
              0.1111111111111111,
              "#46039f"
             ],
             [
              0.2222222222222222,
              "#7201a8"
             ],
             [
              0.3333333333333333,
              "#9c179e"
             ],
             [
              0.4444444444444444,
              "#bd3786"
             ],
             [
              0.5555555555555556,
              "#d8576b"
             ],
             [
              0.6666666666666666,
              "#ed7953"
             ],
             [
              0.7777777777777778,
              "#fb9f3a"
             ],
             [
              0.8888888888888888,
              "#fdca26"
             ],
             [
              1,
              "#f0f921"
             ]
            ],
            "type": "histogram2dcontour"
           }
          ],
          "mesh3d": [
           {
            "colorbar": {
             "outlinewidth": 0,
             "ticks": ""
            },
            "type": "mesh3d"
           }
          ],
          "parcoords": [
           {
            "line": {
             "colorbar": {
              "outlinewidth": 0,
              "ticks": ""
             }
            },
            "type": "parcoords"
           }
          ],
          "pie": [
           {
            "automargin": true,
            "type": "pie"
           }
          ],
          "scatter": [
           {
            "fillpattern": {
             "fillmode": "overlay",
             "size": 10,
             "solidity": 0.2
            },
            "type": "scatter"
           }
          ],
          "scatter3d": [
           {
            "line": {
             "colorbar": {
              "outlinewidth": 0,
              "ticks": ""
             }
            },
            "marker": {
             "colorbar": {
              "outlinewidth": 0,
              "ticks": ""
             }
            },
            "type": "scatter3d"
           }
          ],
          "scattercarpet": [
           {
            "marker": {
             "colorbar": {
              "outlinewidth": 0,
              "ticks": ""
             }
            },
            "type": "scattercarpet"
           }
          ],
          "scattergeo": [
           {
            "marker": {
             "colorbar": {
              "outlinewidth": 0,
              "ticks": ""
             }
            },
            "type": "scattergeo"
           }
          ],
          "scattergl": [
           {
            "marker": {
             "colorbar": {
              "outlinewidth": 0,
              "ticks": ""
             }
            },
            "type": "scattergl"
           }
          ],
          "scattermapbox": [
           {
            "marker": {
             "colorbar": {
              "outlinewidth": 0,
              "ticks": ""
             }
            },
            "type": "scattermapbox"
           }
          ],
          "scatterpolar": [
           {
            "marker": {
             "colorbar": {
              "outlinewidth": 0,
              "ticks": ""
             }
            },
            "type": "scatterpolar"
           }
          ],
          "scatterpolargl": [
           {
            "marker": {
             "colorbar": {
              "outlinewidth": 0,
              "ticks": ""
             }
            },
            "type": "scatterpolargl"
           }
          ],
          "scatterternary": [
           {
            "marker": {
             "colorbar": {
              "outlinewidth": 0,
              "ticks": ""
             }
            },
            "type": "scatterternary"
           }
          ],
          "surface": [
           {
            "colorbar": {
             "outlinewidth": 0,
             "ticks": ""
            },
            "colorscale": [
             [
              0,
              "#0d0887"
             ],
             [
              0.1111111111111111,
              "#46039f"
             ],
             [
              0.2222222222222222,
              "#7201a8"
             ],
             [
              0.3333333333333333,
              "#9c179e"
             ],
             [
              0.4444444444444444,
              "#bd3786"
             ],
             [
              0.5555555555555556,
              "#d8576b"
             ],
             [
              0.6666666666666666,
              "#ed7953"
             ],
             [
              0.7777777777777778,
              "#fb9f3a"
             ],
             [
              0.8888888888888888,
              "#fdca26"
             ],
             [
              1,
              "#f0f921"
             ]
            ],
            "type": "surface"
           }
          ],
          "table": [
           {
            "cells": {
             "fill": {
              "color": "#EBF0F8"
             },
             "line": {
              "color": "white"
             }
            },
            "header": {
             "fill": {
              "color": "#C8D4E3"
             },
             "line": {
              "color": "white"
             }
            },
            "type": "table"
           }
          ]
         },
         "layout": {
          "annotationdefaults": {
           "arrowcolor": "#2a3f5f",
           "arrowhead": 0,
           "arrowwidth": 1
          },
          "autotypenumbers": "strict",
          "coloraxis": {
           "colorbar": {
            "outlinewidth": 0,
            "ticks": ""
           }
          },
          "colorscale": {
           "diverging": [
            [
             0,
             "#8e0152"
            ],
            [
             0.1,
             "#c51b7d"
            ],
            [
             0.2,
             "#de77ae"
            ],
            [
             0.3,
             "#f1b6da"
            ],
            [
             0.4,
             "#fde0ef"
            ],
            [
             0.5,
             "#f7f7f7"
            ],
            [
             0.6,
             "#e6f5d0"
            ],
            [
             0.7,
             "#b8e186"
            ],
            [
             0.8,
             "#7fbc41"
            ],
            [
             0.9,
             "#4d9221"
            ],
            [
             1,
             "#276419"
            ]
           ],
           "sequential": [
            [
             0,
             "#0d0887"
            ],
            [
             0.1111111111111111,
             "#46039f"
            ],
            [
             0.2222222222222222,
             "#7201a8"
            ],
            [
             0.3333333333333333,
             "#9c179e"
            ],
            [
             0.4444444444444444,
             "#bd3786"
            ],
            [
             0.5555555555555556,
             "#d8576b"
            ],
            [
             0.6666666666666666,
             "#ed7953"
            ],
            [
             0.7777777777777778,
             "#fb9f3a"
            ],
            [
             0.8888888888888888,
             "#fdca26"
            ],
            [
             1,
             "#f0f921"
            ]
           ],
           "sequentialminus": [
            [
             0,
             "#0d0887"
            ],
            [
             0.1111111111111111,
             "#46039f"
            ],
            [
             0.2222222222222222,
             "#7201a8"
            ],
            [
             0.3333333333333333,
             "#9c179e"
            ],
            [
             0.4444444444444444,
             "#bd3786"
            ],
            [
             0.5555555555555556,
             "#d8576b"
            ],
            [
             0.6666666666666666,
             "#ed7953"
            ],
            [
             0.7777777777777778,
             "#fb9f3a"
            ],
            [
             0.8888888888888888,
             "#fdca26"
            ],
            [
             1,
             "#f0f921"
            ]
           ]
          },
          "colorway": [
           "#636efa",
           "#EF553B",
           "#00cc96",
           "#ab63fa",
           "#FFA15A",
           "#19d3f3",
           "#FF6692",
           "#B6E880",
           "#FF97FF",
           "#FECB52"
          ],
          "font": {
           "color": "#2a3f5f"
          },
          "geo": {
           "bgcolor": "white",
           "lakecolor": "white",
           "landcolor": "#E5ECF6",
           "showlakes": true,
           "showland": true,
           "subunitcolor": "white"
          },
          "hoverlabel": {
           "align": "left"
          },
          "hovermode": "closest",
          "mapbox": {
           "style": "light"
          },
          "paper_bgcolor": "white",
          "plot_bgcolor": "#E5ECF6",
          "polar": {
           "angularaxis": {
            "gridcolor": "white",
            "linecolor": "white",
            "ticks": ""
           },
           "bgcolor": "#E5ECF6",
           "radialaxis": {
            "gridcolor": "white",
            "linecolor": "white",
            "ticks": ""
           }
          },
          "scene": {
           "xaxis": {
            "backgroundcolor": "#E5ECF6",
            "gridcolor": "white",
            "gridwidth": 2,
            "linecolor": "white",
            "showbackground": true,
            "ticks": "",
            "zerolinecolor": "white"
           },
           "yaxis": {
            "backgroundcolor": "#E5ECF6",
            "gridcolor": "white",
            "gridwidth": 2,
            "linecolor": "white",
            "showbackground": true,
            "ticks": "",
            "zerolinecolor": "white"
           },
           "zaxis": {
            "backgroundcolor": "#E5ECF6",
            "gridcolor": "white",
            "gridwidth": 2,
            "linecolor": "white",
            "showbackground": true,
            "ticks": "",
            "zerolinecolor": "white"
           }
          },
          "shapedefaults": {
           "line": {
            "color": "#2a3f5f"
           }
          },
          "ternary": {
           "aaxis": {
            "gridcolor": "white",
            "linecolor": "white",
            "ticks": ""
           },
           "baxis": {
            "gridcolor": "white",
            "linecolor": "white",
            "ticks": ""
           },
           "bgcolor": "#E5ECF6",
           "caxis": {
            "gridcolor": "white",
            "linecolor": "white",
            "ticks": ""
           }
          },
          "title": {
           "x": 0.05
          },
          "xaxis": {
           "automargin": true,
           "gridcolor": "white",
           "linecolor": "white",
           "ticks": "",
           "title": {
            "standoff": 15
           },
           "zerolinecolor": "white",
           "zerolinewidth": 2
          },
          "yaxis": {
           "automargin": true,
           "gridcolor": "white",
           "linecolor": "white",
           "ticks": "",
           "title": {
            "standoff": 15
           },
           "zerolinecolor": "white",
           "zerolinewidth": 2
          }
         }
        },
        "width": 900,
        "xaxis": {
         "anchor": "y",
         "domain": [
          0,
          1
         ],
         "title": {
          "text": "brand"
         }
        },
        "yaxis": {
         "anchor": "x",
         "domain": [
          0,
          1
         ],
         "title": {
          "text": "count"
         }
        }
       }
      },
      "text/html": [
       "<div>                            <div id=\"74084e1a-d175-464a-815e-66e0398e4234\" class=\"plotly-graph-div\" style=\"height:600px; width:900px;\"></div>            <script type=\"text/javascript\">                require([\"plotly\"], function(Plotly) {                    window.PLOTLYENV=window.PLOTLYENV || {};                                    if (document.getElementById(\"74084e1a-d175-464a-815e-66e0398e4234\")) {                    Plotly.newPlot(                        \"74084e1a-d175-464a-815e-66e0398e4234\",                        [{\"alignmentgroup\":\"True\",\"bingroup\":\"x\",\"hovertemplate\":\"brand=%{x}<br>count=%{y}<extra></extra>\",\"legendgroup\":\"\",\"marker\":{\"color\":\"#636efa\",\"pattern\":{\"shape\":\"\"}},\"name\":\"\",\"offsetgroup\":\"\",\"orientation\":\"v\",\"showlegend\":false,\"x\":[\"Apple\",\"Apple\",\"Apple\",\"Apple\",\"Apple\",\"Apple\",\"Apple\",\"Apple\",\"Apple\",\"Apple\",\"Apple\",\"Apple\",\"Apple\",\"Apple\",\"Apple\",\"Apple\",\"Apple\",\"Apple\",\"Apple\",\"Apple\",\"Apple\",\"Apple\",\"Apple\",\"Apple\",\"Apple\",\"Apple\",\"Apple\",\"Apple\",\"Apple\",\"Apple\",\"Apple\",\"Apple\",\"Apple\",\"Apple\",\"Apple\",\"Apple\",\"Apple\",\"Apple\",\"Apple\",\"Apple\",\"Apple\",\"Apple\",\"Apple\",\"Apple\",\"Apple\",\"Apple\",\"Apple\",\"Apple\",\"Apple\",\"Apple\",\"Apple\",\"Apple\",\"Apple\",\"Apple\",\"Apple\",\"Apple\",\"Apple\",\"Apple\",\"Apple\",\"Apple\",\"Apple\",\"Apple\",\"Apple\",\"Apple\",\"Apple\",\"Apple\",\"Apple\",\"Apple\",\"Apple\",\"Apple\",\"Apple\",\"Apple\",\"Apple\",\"Apple\",\"Apple\",\"Apple\",\"Apple\",\"Apple\",\"Apple\",\"Apple\",\"Apple\",\"Apple\",\"Apple\",\"Apple\",\"Apple\",\"Apple\",\"Apple\",\"Apple\",\"Apple\",\"Apple\",\"Apple\",\"Apple\",\"Apple\",\"Apple\",\"Apple\",\"Apple\",\"Apple\",\"Apple\",\"Apple\",\"Apple\",\"Apple\",\"Apple\",\"Apple\",\"Apple\",\"Apple\",\"Apple\",\"Apple\",\"Apple\",\"Apple\",\"Apple\",\"Apple\",\"Apple\",\"Apple\",\"Apple\",\"Apple\",\"Apple\",\"Apple\",\"Apple\",\"Apple\",\"Apple\",\"Apple\",\"Apple\",\"Apple\",\"Apple\",\"Apple\",\"Apple\",\"Apple\",\"Apple\",\"Apple\",\"Apple\",\"Apple\",\"Apple\",\"Apple\",\"Apple\",\"Apple\",\"Apple\",\"Apple\",\"Apple\",\"Apple\",\"Apple\",\"Apple\",\"Apple\",\"Apple\",\"Apple\",\"Apple\",\"Apple\",\"Apple\",\"Apple\",\"Apple\",\"Apple\",\"Apple\",\"Apple\",\"Apple\",\"Apple\",\"Apple\",\"Apple\",\"Apple\",\"Apple\",\"Apple\",\"Apple\",\"Apple\",\"Apple\",\"Apple\",\"Apple\",\"Apple\",\"Apple\",\"Apple\",\"Apple\",\"Apple\",\"Apple\",\"Apple\",\"Apple\",\"Apple\",\"Apple\",\"Apple\",\"Apple\",\"Apple\",\"Apple\",\"Apple\",\"Apple\",\"Apple\",\"Apple\",\"Apple\",\"Apple\",\"Apple\",\"Apple\",\"Apple\",\"Apple\",\"Apple\",\"Apple\",\"Apple\",\"Apple\",\"Apple\",\"Apple\",\"Apple\",\"Apple\",\"Apple\",\"Apple\",\"Apple\",\"Apple\",\"Apple\",\"Apple\",\"Apple\",\"Apple\",\"Apple\",\"Apple\",\"Apple\",\"Apple\",\"Apple\",\"Apple\",\"Apple\",\"Apple\",\"Apple\",\"Apple\",\"Apple\",\"Apple\",\"Apple\",\"Apple\",\"Apple\",\"Apple\",\"Apple\",\"Apple\",\"Apple\",\"Apple\",\"Apple\",\"Apple\",\"Apple\",\"Apple\",\"Apple\",\"Apple\",\"Apple\",\"Apple\",\"Apple\",\"Apple\",\"Apple\",\"Apple\",\"Apple\",\"Apple\",\"Apple\",\"Apple\",\"Apple\",\"Apple\",\"Apple\",\"Apple\",\"Apple\",\"Apple\",\"Apple\",\"Apple\",\"Apple\",\"Apple\",\"Apple\",\"Apple\",\"Apple\",\"Apple\",\"Apple\",\"Apple\",\"Apple\",\"Apple\",\"Apple\",\"Apple\",\"Apple\",\"Apple\",\"Apple\",\"Apple\",\"Apple\",\"Apple\",\"Apple\",\"Apple\",\"Apple\",\"Apple\",\"Apple\",\"Apple\",\"Apple\",\"Apple\",\"Apple\",\"Apple\",\"Apple\",\"Apple\",\"Apple\",\"Apple\",\"Apple\",\"Apple\",\"Apple\",\"Apple\",\"Apple\",\"Apple\",\"Apple\",\"Apple\",\"Apple\",\"Apple\",\"Apple\",\"Apple\",\"Apple\",\"Apple\",\"Apple\",\"Apple\",\"Apple\",\"Apple\",\"Apple\",\"Apple\",\"Apple\",\"Apple\",\"Apple\",\"Apple\",\"Apple\",\"Apple\",\"Apple\",\"Apple\",\"Apple\",\"Apple\",\"Apple\",\"Apple\",\"Apple\",\"Apple\",\"Apple\",\"Apple\",\"Apple\",\"Apple\",\"Apple\",\"Apple\",\"Apple\",\"Apple\",\"Apple\",\"Apple\",\"Apple\",\"Apple\",\"Apple\",\"Apple\",\"Apple\",\"Apple\",\"Apple\",\"Apple\",\"Apple\",\"Apple\",\"Apple\",\"Apple\",\"Apple\",\"Apple\",\"Apple\",\"Apple\",\"Apple\",\"Apple\",\"Apple\",\"Apple\",\"Apple\",\"Apple\",\"Apple\",\"Apple\",\"Apple\",\"Apple\",\"Apple\",\"Apple\",\"Apple\",\"Apple\",\"Apple\",\"Apple\",\"Apple\",\"Apple\",\"Apple\",\"Apple\",\"Samsung\",\"Samsung\",\"Samsung\",\"Samsung\",\"Samsung\",\"Samsung\",\"Samsung\",\"Samsung\",\"Samsung\",\"Samsung\",\"Samsung\",\"Samsung\",\"Samsung\",\"Samsung\",\"Samsung\",\"Samsung\",\"Samsung\",\"Samsung\",\"Samsung\",\"Lava\",\"Samsung\",\"Samsung\",\"Samsung\",\"Samsung\",\"Samsung\",\"Samsung\",\"Samsung\",\"Samsung\",\"Samsung\",\"Samsung\",\"Samsung\",\"Samsung\",\"Samsung\",\"Samsung\",\"Samsung\",\"Samsung\",\"Samsung\",\"Samsung\",\"Samsung\",\"Lava\",\"Samsung\",\"Samsung\",\"Samsung\",\"Samsung\",\"Samsung\",\"Samsung\",\"Samsung\",\"Samsung\",\"Samsung\",\"Samsung\",\"Samsung\",\"Samsung\",\"Samsung\",\"Samsung\",\"Samsung\",\"Samsung\",\"Samsung\",\"Samsung\",\"Samsung\",\"Lava\",\"Samsung\",\"Samsung\",\"Samsung\",\"Samsung\",\"Samsung\",\"Samsung\",\"Samsung\",\"Samsung\",\"Samsung\",\"Samsung\",\"Samsung\",\"Samsung\",\"Samsung\",\"Samsung\",\"Samsung\",\"Samsung\",\"Samsung\",\"Samsung\",\"Samsung\",\"Lava\",\"Samsung\",\"Samsung\",\"Samsung\",\"Samsung\",\"Samsung\",\"Samsung\",\"Samsung\",\"Samsung\",\"Samsung\",\"Samsung\",\"Samsung\",\"Samsung\",\"Samsung\",\"Samsung\",\"Samsung\",\"Samsung\",\"Samsung\",\"Samsung\",\"Samsung\",\"Lava\",\"Samsung\",\"Samsung\",\"Samsung\",\"Samsung\",\"Samsung\",\"Samsung\",\"Samsung\",\"Samsung\",\"Samsung\",\"Samsung\",\"Samsung\",\"Samsung\",\"Samsung\",\"Samsung\",\"Samsung\",\"Samsung\",\"Samsung\",\"Samsung\",\"Samsung\",\"Lava\",\"Samsung\",\"Samsung\",\"Samsung\",\"Samsung\",\"Samsung\",\"Samsung\",\"Samsung\",\"Samsung\",\"Samsung\",\"Samsung\",\"Samsung\",\"Samsung\",\"Samsung\",\"Samsung\",\"Samsung\",\"Samsung\",\"Samsung\",\"Samsung\",\"Samsung\",\"Lava\",\"Samsung\",\"Samsung\",\"Samsung\",\"Samsung\",\"Samsung\",\"Samsung\",\"Samsung\",\"Samsung\",\"Samsung\",\"Samsung\",\"Samsung\",\"Samsung\",\"Samsung\",\"Samsung\",\"Samsung\",\"Samsung\",\"Samsung\",\"Samsung\",\"Samsung\",\"Lava\",\"Samsung\",\"Samsung\",\"Samsung\",\"Samsung\",\"Samsung\",\"Samsung\",\"Samsung\",\"Samsung\",\"Samsung\",\"Samsung\",\"Samsung\",\"Samsung\",\"Samsung\",\"Samsung\",\"Samsung\",\"Samsung\",\"Samsung\",\"Samsung\",\"Samsung\",\"Lava\",\"Samsung\",\"Samsung\",\"Samsung\",\"Samsung\",\"Samsung\",\"Samsung\",\"Samsung\",\"Samsung\",\"Samsung\",\"Samsung\",\"Samsung\",\"Samsung\",\"Samsung\",\"Samsung\",\"Samsung\",\"Samsung\",\"Samsung\",\"Samsung\",\"Samsung\",\"Lava\",\"Samsung\",\"Samsung\",\"Samsung\",\"Samsung\",\"Samsung\",\"Samsung\",\"Samsung\",\"Samsung\",\"Samsung\",\"Samsung\",\"Samsung\",\"Samsung\",\"Samsung\",\"Samsung\",\"Samsung\",\"Samsung\",\"Samsung\",\"Samsung\",\"Samsung\",\"Lava\",\"Samsung\",\"Samsung\",\"Samsung\",\"Samsung\",\"Samsung\",\"Samsung\",\"Samsung\",\"Samsung\",\"Samsung\",\"Samsung\",\"Samsung\",\"Samsung\",\"Samsung\",\"Samsung\",\"Samsung\",\"Samsung\",\"Samsung\",\"Samsung\",\"Samsung\",\"Lava\",\"Samsung\",\"Samsung\",\"Samsung\",\"Samsung\",\"Samsung\",\"Samsung\",\"Samsung\",\"Samsung\",\"Samsung\",\"Samsung\",\"Samsung\",\"Samsung\",\"Samsung\",\"Samsung\",\"Samsung\",\"Samsung\",\"Samsung\",\"Samsung\",\"Samsung\",\"Lava\",\"Samsung\",\"Samsung\",\"Samsung\",\"Samsung\",\"Samsung\",\"Samsung\",\"Samsung\",\"Samsung\",\"Samsung\",\"Samsung\",\"Samsung\",\"Samsung\",\"Samsung\",\"Samsung\",\"Samsung\",\"Samsung\",\"Samsung\",\"Samsung\",\"Samsung\",\"Lava\",\"Samsung\",\"Samsung\",\"Samsung\",\"Samsung\",\"Samsung\",\"Samsung\",\"Samsung\",\"Samsung\",\"Samsung\",\"Samsung\",\"Samsung\",\"Samsung\",\"Samsung\",\"Samsung\",\"Samsung\",\"Samsung\",\"Samsung\",\"Samsung\",\"Samsung\",\"Lava\",\"Samsung\",\"Samsung\",\"Samsung\",\"Samsung\",\"Samsung\",\"Samsung\",\"Samsung\",\"Samsung\",\"Samsung\",\"Samsung\",\"Samsung\",\"Samsung\",\"Samsung\",\"Samsung\",\"Samsung\",\"Samsung\",\"Samsung\",\"Samsung\",\"Samsung\",\"Lava\",\"Samsung\",\"Samsung\",\"Samsung\",\"Samsung\",\"Samsung\",\"Samsung\",\"Samsung\",\"Samsung\",\"Samsung\",\"Samsung\",\"Samsung\",\"Samsung\",\"Samsung\",\"Samsung\",\"Samsung\",\"Samsung\",\"Samsung\",\"Samsung\",\"Samsung\",\"Lava\",\"Samsung\",\"Samsung\",\"Samsung\",\"Samsung\",\"Samsung\",\"Samsung\",\"Samsung\",\"Samsung\",\"Samsung\",\"Samsung\",\"Samsung\",\"Samsung\",\"Samsung\",\"Samsung\",\"Samsung\",\"Samsung\",\"Samsung\",\"Samsung\",\"Samsung\",\"Lava\",\"Samsung\",\"Samsung\",\"Samsung\",\"Samsung\",\"Samsung\",\"Samsung\",\"Samsung\",\"Samsung\",\"Samsung\",\"Samsung\",\"Samsung\",\"Samsung\",\"Samsung\",\"Samsung\",\"Samsung\",\"Samsung\",\"Samsung\",\"Samsung\",\"Samsung\",\"Lava\",\"Samsung\",\"Samsung\",\"Samsung\",\"Samsung\",\"Samsung\",\"Samsung\",\"Samsung\",\"Samsung\",\"Samsung\",\"Samsung\",\"Samsung\",\"Samsung\",\"Samsung\",\"Samsung\",\"Samsung\",\"Samsung\",\"Samsung\",\"Samsung\",\"Samsung\",\"Lava\",\"Samsung\",\"Redmi\",\"Xiaomi\",\"Redmi\",\"Xiaomi\",\"Xiaomi\",\"Redmi\",\"(Renewed)\",\"(Renewed)\",\"MI\",\"(Renewed)\",\"Xiaomi\",\"Redmi\",\"Xiaomi\",\"Xiaomi\",\"Redmi\",\"Xiaomi\",\"Redmi\",\"Samsung\",\"Redmi\",\"Xiaomi\",\"Redmi\",\"Xiaomi\",\"Xiaomi\",\"Redmi\",\"(Renewed)\",\"(Renewed)\",\"MI\",\"(Renewed)\",\"Xiaomi\",\"Redmi\",\"Xiaomi\",\"Xiaomi\",\"Redmi\",\"Xiaomi\",\"Redmi\",\"Samsung\",\"Redmi\",\"Xiaomi\",\"Redmi\",\"Xiaomi\",\"Xiaomi\",\"Redmi\",\"(Renewed)\",\"(Renewed)\",\"MI\",\"(Renewed)\",\"Xiaomi\",\"Redmi\",\"Xiaomi\",\"Xiaomi\",\"Redmi\",\"Xiaomi\",\"Redmi\",\"Samsung\",\"Redmi\",\"Xiaomi\",\"Redmi\",\"Xiaomi\",\"Xiaomi\",\"Redmi\",\"(Renewed)\",\"(Renewed)\",\"MI\",\"(Renewed)\",\"Xiaomi\",\"Redmi\",\"Xiaomi\",\"Xiaomi\",\"Redmi\",\"Xiaomi\",\"Redmi\",\"Samsung\",\"Redmi\",\"Xiaomi\",\"Redmi\",\"Xiaomi\",\"Xiaomi\",\"Redmi\",\"(Renewed)\",\"(Renewed)\",\"MI\",\"(Renewed)\",\"Xiaomi\",\"Redmi\",\"Xiaomi\",\"Xiaomi\",\"Redmi\",\"Xiaomi\",\"Redmi\",\"Samsung\",\"Redmi\",\"Xiaomi\",\"Redmi\",\"Xiaomi\",\"Xiaomi\",\"Redmi\",\"(Renewed)\",\"(Renewed)\",\"MI\",\"(Renewed)\",\"Xiaomi\",\"Redmi\",\"Xiaomi\",\"Xiaomi\",\"Redmi\",\"Xiaomi\",\"Redmi\",\"Samsung\",\"Redmi\",\"Xiaomi\",\"Redmi\",\"Xiaomi\",\"Xiaomi\",\"Redmi\",\"(Renewed)\",\"(Renewed)\",\"MI\",\"(Renewed)\",\"Xiaomi\",\"Redmi\",\"Xiaomi\",\"Xiaomi\",\"Redmi\",\"Xiaomi\",\"Redmi\",\"Samsung\",\"Redmi\",\"Xiaomi\",\"Redmi\",\"Xiaomi\",\"Xiaomi\",\"Redmi\",\"(Renewed)\",\"(Renewed)\",\"MI\",\"(Renewed)\",\"Xiaomi\",\"Redmi\",\"Xiaomi\",\"Xiaomi\",\"Redmi\",\"Xiaomi\",\"Redmi\",\"Samsung\",\"Redmi\",\"Xiaomi\",\"Redmi\",\"Xiaomi\",\"Xiaomi\",\"Redmi\",\"(Renewed)\",\"(Renewed)\",\"MI\",\"(Renewed)\",\"Xiaomi\",\"Redmi\",\"Xiaomi\",\"Xiaomi\",\"Redmi\",\"Xiaomi\",\"Redmi\",\"Samsung\",\"Redmi\",\"Xiaomi\",\"Redmi\",\"Xiaomi\",\"Xiaomi\",\"Redmi\",\"(Renewed)\",\"(Renewed)\",\"MI\",\"(Renewed)\",\"Xiaomi\",\"Redmi\",\"Xiaomi\",\"Xiaomi\",\"Redmi\",\"Xiaomi\",\"Redmi\",\"Samsung\",\"Redmi\",\"Xiaomi\",\"Redmi\",\"Xiaomi\",\"Xiaomi\",\"Redmi\",\"(Renewed)\",\"(Renewed)\",\"MI\",\"(Renewed)\",\"Xiaomi\",\"Redmi\",\"Xiaomi\",\"Xiaomi\",\"Redmi\",\"Xiaomi\",\"Redmi\",\"Samsung\",\"Redmi\",\"Xiaomi\",\"Redmi\",\"Xiaomi\",\"Xiaomi\",\"Redmi\",\"(Renewed)\",\"(Renewed)\",\"MI\",\"(Renewed)\",\"Xiaomi\",\"Redmi\",\"Xiaomi\",\"Xiaomi\",\"Redmi\",\"Xiaomi\",\"Redmi\",\"Samsung\",\"Redmi\",\"Xiaomi\",\"Redmi\",\"Xiaomi\",\"Xiaomi\",\"Redmi\",\"(Renewed)\",\"(Renewed)\",\"MI\",\"(Renewed)\",\"Xiaomi\",\"Redmi\",\"Xiaomi\",\"Xiaomi\",\"Redmi\",\"Xiaomi\",\"Redmi\",\"Samsung\",\"Redmi\",\"Xiaomi\",\"Redmi\",\"Xiaomi\",\"Xiaomi\",\"Redmi\",\"(Renewed)\",\"(Renewed)\",\"MI\",\"(Renewed)\",\"Xiaomi\",\"Redmi\",\"Xiaomi\",\"Xiaomi\",\"Redmi\",\"Xiaomi\",\"Redmi\",\"Samsung\",\"Redmi\",\"Xiaomi\",\"Redmi\",\"Xiaomi\",\"Xiaomi\",\"Redmi\",\"(Renewed)\",\"(Renewed)\",\"MI\",\"(Renewed)\",\"Xiaomi\",\"Redmi\",\"Xiaomi\",\"Xiaomi\",\"Redmi\",\"Xiaomi\",\"Redmi\",\"Samsung\",\"Redmi\",\"Xiaomi\",\"Redmi\",\"Xiaomi\",\"Xiaomi\",\"Redmi\",\"(Renewed)\",\"(Renewed)\",\"MI\",\"(Renewed)\",\"Xiaomi\",\"Redmi\",\"Xiaomi\",\"Xiaomi\",\"Redmi\",\"Xiaomi\",\"Redmi\",\"Samsung\",\"Redmi\",\"Xiaomi\",\"Redmi\",\"Xiaomi\",\"Xiaomi\",\"Redmi\",\"(Renewed)\",\"(Renewed)\",\"MI\",\"(Renewed)\",\"Xiaomi\",\"Redmi\",\"Xiaomi\",\"Xiaomi\",\"Redmi\",\"Xiaomi\",\"Redmi\",\"Samsung\",\"Redmi\",\"Xiaomi\",\"Redmi\",\"Xiaomi\",\"Xiaomi\",\"Redmi\",\"(Renewed)\",\"(Renewed)\",\"MI\",\"(Renewed)\",\"Xiaomi\",\"Redmi\",\"Xiaomi\",\"Xiaomi\",\"Redmi\",\"Xiaomi\",\"Redmi\",\"Samsung\",\"Redmi\",\"Xiaomi\",\"Redmi\",\"Xiaomi\",\"Xiaomi\",\"Redmi\",\"(Renewed)\",\"(Renewed)\",\"MI\",\"(Renewed)\",\"Xiaomi\",\"Redmi\",\"Xiaomi\",\"Xiaomi\",\"Redmi\",\"Xiaomi\",\"Redmi\",\"Samsung\",\"Redmi\",\"Xiaomi\",\"Redmi\",\"Xiaomi\",\"Xiaomi\",\"Redmi\",\"(Renewed)\",\"(Renewed)\",\"MI\",\"(Renewed)\",\"Xiaomi\",\"Redmi\",\"Xiaomi\",\"Xiaomi\",\"Redmi\",\"Xiaomi\",\"Redmi\",\"Samsung\",\"Samsung\",\"OPPO\",\"OPPO\",\"OPPO\",\"OPPO\",\"OPPO\",\"OPPO\",\"OPPO\",\"OPPO\",\"Redmi\",\"Lava\",\"Oppo\",\"OPPO\",\"OPPO\",\"Oppo\",\"OPPO\",\"OPPO\",\"OPPO\",\"Samsung\",\"Samsung\",\"OPPO\",\"OPPO\",\"OPPO\",\"OPPO\",\"OPPO\",\"OPPO\",\"OPPO\",\"OPPO\",\"Redmi\",\"Lava\",\"Oppo\",\"OPPO\",\"OPPO\",\"Oppo\",\"OPPO\",\"OPPO\",\"OPPO\",\"Samsung\",\"Samsung\",\"OPPO\",\"OPPO\",\"OPPO\",\"OPPO\",\"OPPO\",\"OPPO\",\"OPPO\",\"OPPO\",\"Redmi\",\"Lava\",\"Oppo\",\"OPPO\",\"OPPO\",\"Oppo\",\"OPPO\",\"OPPO\",\"OPPO\",\"Samsung\",\"Samsung\",\"OPPO\",\"OPPO\",\"OPPO\",\"OPPO\",\"OPPO\",\"OPPO\",\"OPPO\",\"OPPO\",\"Redmi\",\"Lava\",\"Oppo\",\"OPPO\",\"OPPO\",\"Oppo\",\"OPPO\",\"OPPO\",\"OPPO\",\"Samsung\",\"Samsung\",\"OPPO\",\"OPPO\",\"OPPO\",\"OPPO\",\"OPPO\",\"OPPO\",\"OPPO\",\"OPPO\",\"Redmi\",\"Lava\",\"Oppo\",\"OPPO\",\"OPPO\",\"Oppo\",\"OPPO\",\"OPPO\",\"OPPO\",\"Samsung\",\"Samsung\",\"OPPO\",\"OPPO\",\"OPPO\",\"OPPO\",\"OPPO\",\"OPPO\",\"OPPO\",\"OPPO\",\"Redmi\",\"Lava\",\"Oppo\",\"OPPO\",\"OPPO\",\"Oppo\",\"OPPO\",\"OPPO\",\"OPPO\",\"Samsung\",\"Samsung\",\"OPPO\",\"OPPO\",\"OPPO\",\"OPPO\",\"OPPO\",\"OPPO\",\"OPPO\",\"OPPO\",\"Redmi\",\"Lava\",\"Oppo\",\"OPPO\",\"OPPO\",\"Oppo\",\"OPPO\",\"OPPO\",\"OPPO\",\"Samsung\",\"Samsung\",\"OPPO\",\"OPPO\",\"OPPO\",\"OPPO\",\"OPPO\",\"OPPO\",\"OPPO\",\"OPPO\",\"Redmi\",\"Lava\",\"Oppo\",\"OPPO\",\"OPPO\",\"Oppo\",\"OPPO\",\"OPPO\",\"OPPO\",\"Samsung\",\"Samsung\",\"OPPO\",\"OPPO\",\"OPPO\",\"OPPO\",\"OPPO\",\"OPPO\",\"OPPO\",\"OPPO\",\"Redmi\",\"Lava\",\"Oppo\",\"OPPO\",\"OPPO\",\"Oppo\",\"OPPO\",\"OPPO\",\"OPPO\",\"Samsung\",\"Samsung\",\"OPPO\",\"OPPO\",\"OPPO\",\"OPPO\",\"OPPO\",\"OPPO\",\"OPPO\",\"OPPO\",\"Redmi\",\"Lava\",\"Oppo\",\"OPPO\",\"OPPO\",\"Oppo\",\"OPPO\",\"OPPO\",\"OPPO\",\"Samsung\",\"Samsung\",\"OPPO\",\"OPPO\",\"OPPO\",\"OPPO\",\"OPPO\",\"OPPO\",\"OPPO\",\"OPPO\",\"Redmi\",\"Lava\",\"Oppo\",\"OPPO\",\"OPPO\",\"Oppo\",\"OPPO\",\"OPPO\",\"OPPO\",\"Samsung\",\"Samsung\",\"OPPO\",\"OPPO\",\"OPPO\",\"OPPO\",\"OPPO\",\"OPPO\",\"OPPO\",\"OPPO\",\"Redmi\",\"Lava\",\"Oppo\",\"OPPO\",\"OPPO\",\"Oppo\",\"OPPO\",\"OPPO\",\"OPPO\",\"Samsung\",\"Samsung\",\"OPPO\",\"OPPO\",\"OPPO\",\"OPPO\",\"OPPO\",\"OPPO\",\"OPPO\",\"OPPO\",\"Redmi\",\"Lava\",\"Oppo\",\"OPPO\",\"OPPO\",\"Oppo\",\"OPPO\",\"OPPO\",\"OPPO\",\"Samsung\",\"Samsung\",\"OPPO\",\"OPPO\",\"OPPO\",\"OPPO\",\"OPPO\",\"OPPO\",\"OPPO\",\"OPPO\",\"Redmi\",\"Lava\",\"Oppo\",\"OPPO\",\"OPPO\",\"Oppo\",\"OPPO\",\"OPPO\",\"OPPO\",\"Samsung\",\"Samsung\",\"OPPO\",\"OPPO\",\"OPPO\",\"OPPO\",\"OPPO\",\"OPPO\",\"OPPO\",\"OPPO\",\"Redmi\",\"Lava\",\"Oppo\",\"OPPO\",\"OPPO\",\"Oppo\",\"OPPO\",\"OPPO\",\"OPPO\",\"Samsung\",\"Samsung\",\"OPPO\",\"OPPO\",\"OPPO\",\"OPPO\",\"OPPO\",\"OPPO\",\"OPPO\",\"OPPO\",\"Redmi\",\"Lava\",\"Oppo\",\"OPPO\",\"OPPO\",\"Oppo\",\"OPPO\",\"OPPO\",\"OPPO\",\"Samsung\",\"Samsung\",\"OPPO\",\"OPPO\",\"OPPO\",\"OPPO\",\"OPPO\",\"OPPO\",\"OPPO\",\"OPPO\",\"Redmi\",\"Lava\",\"Oppo\",\"OPPO\",\"OPPO\",\"Oppo\",\"OPPO\",\"OPPO\",\"OPPO\",\"Samsung\",\"Samsung\",\"OPPO\",\"OPPO\",\"OPPO\",\"OPPO\",\"OPPO\",\"OPPO\",\"OPPO\",\"OPPO\",\"Redmi\",\"Lava\",\"Oppo\",\"OPPO\",\"OPPO\",\"Oppo\",\"OPPO\",\"OPPO\",\"OPPO\",\"Samsung\",\"Samsung\",\"OPPO\",\"OPPO\",\"OPPO\",\"OPPO\",\"OPPO\",\"OPPO\",\"OPPO\",\"OPPO\",\"Redmi\",\"Lava\",\"Oppo\",\"OPPO\",\"OPPO\",\"Oppo\",\"OPPO\",\"OPPO\",\"OPPO\",\"Samsung\",\"Samsung\",\"OPPO\",\"OPPO\",\"OPPO\",\"OPPO\",\"OPPO\",\"OPPO\",\"OPPO\",\"OPPO\",\"Redmi\",\"Lava\",\"Oppo\",\"OPPO\",\"OPPO\",\"Oppo\",\"OPPO\",\"OPPO\",\"OPPO\",\"vivo\",\"vivo\",\"Vivo\",\"vivo\",\"Vivo\",\"vivo\",\"(Renewed)\",\"Vivo\",\"vivo\",\"vivo\",\"IKALL\",\"Lava\",\"Vivo\",\"Vivo\",\"vivo\",\"Vivo\",\"vivo\",\"vivo\",\"IKALL\",\"vivo\",\"vivo\",\"Vivo\",\"vivo\",\"Vivo\",\"vivo\",\"(Renewed)\",\"Vivo\",\"vivo\",\"vivo\",\"IKALL\",\"IKALL\",\"Vivo\",\"Vivo\",\"vivo\",\"Vivo\",\"vivo\",\"vivo\",\"vivo\",\"vivo\",\"Vivo\",\"vivo\",\"Vivo\",\"vivo\",\"(Renewed)\",\"Vivo\",\"vivo\",\"vivo\",\"IKALL\",\"IKALL\",\"Vivo\",\"Vivo\",\"vivo\",\"Vivo\",\"vivo\",\"vivo\",\"vivo\",\"vivo\",\"Vivo\",\"vivo\",\"Vivo\",\"vivo\",\"(Renewed)\",\"Vivo\",\"vivo\",\"vivo\",\"IKALL\",\"IKALL\",\"Vivo\",\"Vivo\",\"vivo\",\"Vivo\",\"vivo\",\"vivo\",\"vivo\",\"vivo\",\"Vivo\",\"vivo\",\"Vivo\",\"vivo\",\"(Renewed)\",\"Vivo\",\"vivo\",\"vivo\",\"IKALL\",\"IKALL\",\"Vivo\",\"Vivo\",\"vivo\",\"Vivo\",\"vivo\",\"vivo\",\"vivo\",\"vivo\",\"Vivo\",\"vivo\",\"Vivo\",\"vivo\",\"(Renewed)\",\"Vivo\",\"vivo\",\"vivo\",\"IKALL\",\"IKALL\",\"Vivo\",\"Vivo\",\"vivo\",\"Vivo\",\"vivo\",\"vivo\",\"vivo\",\"vivo\",\"Vivo\",\"vivo\",\"Vivo\",\"vivo\",\"(Renewed)\",\"Vivo\",\"vivo\",\"vivo\",\"IKALL\",\"IKALL\",\"Vivo\",\"Vivo\",\"vivo\",\"Vivo\",\"vivo\",\"vivo\",\"vivo\",\"vivo\",\"Vivo\",\"vivo\",\"Vivo\",\"vivo\",\"(Renewed)\",\"Vivo\",\"vivo\",\"vivo\",\"IKALL\",\"IKALL\",\"Vivo\",\"Vivo\",\"vivo\",\"Vivo\",\"vivo\",\"vivo\",\"vivo\",\"vivo\",\"Vivo\",\"vivo\",\"Vivo\",\"vivo\",\"(Renewed)\",\"Vivo\",\"vivo\",\"vivo\",\"IKALL\",\"IKALL\",\"Vivo\",\"Vivo\",\"vivo\",\"Vivo\",\"vivo\",\"vivo\",\"vivo\",\"vivo\",\"Vivo\",\"vivo\",\"Vivo\",\"vivo\",\"(Renewed)\",\"Vivo\",\"vivo\",\"vivo\",\"IKALL\",\"IKALL\",\"Vivo\",\"Vivo\",\"vivo\",\"Vivo\",\"vivo\",\"vivo\",\"vivo\",\"vivo\",\"Vivo\",\"vivo\",\"Vivo\",\"vivo\",\"(Renewed)\",\"Vivo\",\"vivo\",\"vivo\",\"IKALL\",\"IKALL\",\"Vivo\",\"Vivo\",\"vivo\",\"Vivo\",\"vivo\",\"vivo\",\"vivo\",\"vivo\",\"Vivo\",\"vivo\",\"Vivo\",\"vivo\",\"(Renewed)\",\"Vivo\",\"vivo\",\"vivo\",\"IKALL\",\"IKALL\",\"Vivo\",\"Vivo\",\"vivo\",\"Vivo\",\"vivo\",\"vivo\",\"vivo\",\"vivo\",\"Vivo\",\"vivo\",\"Vivo\",\"vivo\",\"(Renewed)\",\"Vivo\",\"vivo\",\"vivo\",\"IKALL\",\"IKALL\",\"Vivo\",\"Vivo\",\"vivo\",\"Vivo\",\"vivo\",\"vivo\",\"vivo\",\"vivo\",\"Vivo\",\"vivo\",\"Vivo\",\"vivo\",\"(Renewed)\",\"Vivo\",\"vivo\",\"vivo\",\"IKALL\",\"IKALL\",\"Vivo\",\"Vivo\",\"vivo\",\"Vivo\",\"vivo\",\"vivo\",\"vivo\",\"vivo\",\"Vivo\",\"vivo\",\"Vivo\",\"vivo\",\"(Renewed)\",\"Vivo\",\"vivo\",\"vivo\",\"IKALL\",\"IKALL\",\"Vivo\",\"Vivo\",\"vivo\",\"Vivo\",\"vivo\",\"vivo\",\"vivo\",\"vivo\",\"Vivo\",\"vivo\",\"Vivo\",\"vivo\",\"(Renewed)\",\"Vivo\",\"vivo\",\"vivo\",\"IKALL\",\"IKALL\",\"Vivo\",\"Vivo\",\"vivo\",\"Vivo\",\"vivo\",\"vivo\",\"vivo\",\"vivo\",\"Vivo\",\"vivo\",\"Vivo\",\"vivo\",\"(Renewed)\",\"Vivo\",\"vivo\",\"vivo\",\"IKALL\",\"IKALL\",\"Vivo\",\"Vivo\",\"vivo\",\"Vivo\",\"vivo\",\"vivo\",\"vivo\",\"vivo\",\"Vivo\",\"vivo\",\"Vivo\",\"vivo\",\"(Renewed)\",\"Vivo\",\"vivo\",\"vivo\",\"IKALL\",\"IKALL\",\"Vivo\",\"Vivo\",\"vivo\",\"Vivo\",\"vivo\",\"vivo\",\"vivo\",\"vivo\",\"Vivo\",\"vivo\",\"Vivo\",\"vivo\",\"(Renewed)\",\"Vivo\",\"vivo\",\"vivo\",\"IKALL\",\"IKALL\",\"Vivo\",\"Vivo\",\"vivo\",\"Vivo\",\"vivo\",\"vivo\",\"vivo\",\"vivo\",\"Vivo\",\"vivo\",\"Vivo\",\"vivo\",\"(Renewed)\",\"Vivo\",\"vivo\",\"vivo\",\"IKALL\",\"IKALL\",\"Vivo\",\"Vivo\",\"vivo\",\"Vivo\",\"vivo\",\"vivo\"],\"xaxis\":\"x\",\"yaxis\":\"y\",\"type\":\"histogram\"}],                        {\"template\":{\"data\":{\"histogram2dcontour\":[{\"type\":\"histogram2dcontour\",\"colorbar\":{\"outlinewidth\":0,\"ticks\":\"\"},\"colorscale\":[[0.0,\"#0d0887\"],[0.1111111111111111,\"#46039f\"],[0.2222222222222222,\"#7201a8\"],[0.3333333333333333,\"#9c179e\"],[0.4444444444444444,\"#bd3786\"],[0.5555555555555556,\"#d8576b\"],[0.6666666666666666,\"#ed7953\"],[0.7777777777777778,\"#fb9f3a\"],[0.8888888888888888,\"#fdca26\"],[1.0,\"#f0f921\"]]}],\"choropleth\":[{\"type\":\"choropleth\",\"colorbar\":{\"outlinewidth\":0,\"ticks\":\"\"}}],\"histogram2d\":[{\"type\":\"histogram2d\",\"colorbar\":{\"outlinewidth\":0,\"ticks\":\"\"},\"colorscale\":[[0.0,\"#0d0887\"],[0.1111111111111111,\"#46039f\"],[0.2222222222222222,\"#7201a8\"],[0.3333333333333333,\"#9c179e\"],[0.4444444444444444,\"#bd3786\"],[0.5555555555555556,\"#d8576b\"],[0.6666666666666666,\"#ed7953\"],[0.7777777777777778,\"#fb9f3a\"],[0.8888888888888888,\"#fdca26\"],[1.0,\"#f0f921\"]]}],\"heatmap\":[{\"type\":\"heatmap\",\"colorbar\":{\"outlinewidth\":0,\"ticks\":\"\"},\"colorscale\":[[0.0,\"#0d0887\"],[0.1111111111111111,\"#46039f\"],[0.2222222222222222,\"#7201a8\"],[0.3333333333333333,\"#9c179e\"],[0.4444444444444444,\"#bd3786\"],[0.5555555555555556,\"#d8576b\"],[0.6666666666666666,\"#ed7953\"],[0.7777777777777778,\"#fb9f3a\"],[0.8888888888888888,\"#fdca26\"],[1.0,\"#f0f921\"]]}],\"heatmapgl\":[{\"type\":\"heatmapgl\",\"colorbar\":{\"outlinewidth\":0,\"ticks\":\"\"},\"colorscale\":[[0.0,\"#0d0887\"],[0.1111111111111111,\"#46039f\"],[0.2222222222222222,\"#7201a8\"],[0.3333333333333333,\"#9c179e\"],[0.4444444444444444,\"#bd3786\"],[0.5555555555555556,\"#d8576b\"],[0.6666666666666666,\"#ed7953\"],[0.7777777777777778,\"#fb9f3a\"],[0.8888888888888888,\"#fdca26\"],[1.0,\"#f0f921\"]]}],\"contourcarpet\":[{\"type\":\"contourcarpet\",\"colorbar\":{\"outlinewidth\":0,\"ticks\":\"\"}}],\"contour\":[{\"type\":\"contour\",\"colorbar\":{\"outlinewidth\":0,\"ticks\":\"\"},\"colorscale\":[[0.0,\"#0d0887\"],[0.1111111111111111,\"#46039f\"],[0.2222222222222222,\"#7201a8\"],[0.3333333333333333,\"#9c179e\"],[0.4444444444444444,\"#bd3786\"],[0.5555555555555556,\"#d8576b\"],[0.6666666666666666,\"#ed7953\"],[0.7777777777777778,\"#fb9f3a\"],[0.8888888888888888,\"#fdca26\"],[1.0,\"#f0f921\"]]}],\"surface\":[{\"type\":\"surface\",\"colorbar\":{\"outlinewidth\":0,\"ticks\":\"\"},\"colorscale\":[[0.0,\"#0d0887\"],[0.1111111111111111,\"#46039f\"],[0.2222222222222222,\"#7201a8\"],[0.3333333333333333,\"#9c179e\"],[0.4444444444444444,\"#bd3786\"],[0.5555555555555556,\"#d8576b\"],[0.6666666666666666,\"#ed7953\"],[0.7777777777777778,\"#fb9f3a\"],[0.8888888888888888,\"#fdca26\"],[1.0,\"#f0f921\"]]}],\"mesh3d\":[{\"type\":\"mesh3d\",\"colorbar\":{\"outlinewidth\":0,\"ticks\":\"\"}}],\"scatter\":[{\"fillpattern\":{\"fillmode\":\"overlay\",\"size\":10,\"solidity\":0.2},\"type\":\"scatter\"}],\"parcoords\":[{\"type\":\"parcoords\",\"line\":{\"colorbar\":{\"outlinewidth\":0,\"ticks\":\"\"}}}],\"scatterpolargl\":[{\"type\":\"scatterpolargl\",\"marker\":{\"colorbar\":{\"outlinewidth\":0,\"ticks\":\"\"}}}],\"bar\":[{\"error_x\":{\"color\":\"#2a3f5f\"},\"error_y\":{\"color\":\"#2a3f5f\"},\"marker\":{\"line\":{\"color\":\"#E5ECF6\",\"width\":0.5},\"pattern\":{\"fillmode\":\"overlay\",\"size\":10,\"solidity\":0.2}},\"type\":\"bar\"}],\"scattergeo\":[{\"type\":\"scattergeo\",\"marker\":{\"colorbar\":{\"outlinewidth\":0,\"ticks\":\"\"}}}],\"scatterpolar\":[{\"type\":\"scatterpolar\",\"marker\":{\"colorbar\":{\"outlinewidth\":0,\"ticks\":\"\"}}}],\"histogram\":[{\"marker\":{\"pattern\":{\"fillmode\":\"overlay\",\"size\":10,\"solidity\":0.2}},\"type\":\"histogram\"}],\"scattergl\":[{\"type\":\"scattergl\",\"marker\":{\"colorbar\":{\"outlinewidth\":0,\"ticks\":\"\"}}}],\"scatter3d\":[{\"type\":\"scatter3d\",\"line\":{\"colorbar\":{\"outlinewidth\":0,\"ticks\":\"\"}},\"marker\":{\"colorbar\":{\"outlinewidth\":0,\"ticks\":\"\"}}}],\"scattermapbox\":[{\"type\":\"scattermapbox\",\"marker\":{\"colorbar\":{\"outlinewidth\":0,\"ticks\":\"\"}}}],\"scatterternary\":[{\"type\":\"scatterternary\",\"marker\":{\"colorbar\":{\"outlinewidth\":0,\"ticks\":\"\"}}}],\"scattercarpet\":[{\"type\":\"scattercarpet\",\"marker\":{\"colorbar\":{\"outlinewidth\":0,\"ticks\":\"\"}}}],\"carpet\":[{\"aaxis\":{\"endlinecolor\":\"#2a3f5f\",\"gridcolor\":\"white\",\"linecolor\":\"white\",\"minorgridcolor\":\"white\",\"startlinecolor\":\"#2a3f5f\"},\"baxis\":{\"endlinecolor\":\"#2a3f5f\",\"gridcolor\":\"white\",\"linecolor\":\"white\",\"minorgridcolor\":\"white\",\"startlinecolor\":\"#2a3f5f\"},\"type\":\"carpet\"}],\"table\":[{\"cells\":{\"fill\":{\"color\":\"#EBF0F8\"},\"line\":{\"color\":\"white\"}},\"header\":{\"fill\":{\"color\":\"#C8D4E3\"},\"line\":{\"color\":\"white\"}},\"type\":\"table\"}],\"barpolar\":[{\"marker\":{\"line\":{\"color\":\"#E5ECF6\",\"width\":0.5},\"pattern\":{\"fillmode\":\"overlay\",\"size\":10,\"solidity\":0.2}},\"type\":\"barpolar\"}],\"pie\":[{\"automargin\":true,\"type\":\"pie\"}]},\"layout\":{\"autotypenumbers\":\"strict\",\"colorway\":[\"#636efa\",\"#EF553B\",\"#00cc96\",\"#ab63fa\",\"#FFA15A\",\"#19d3f3\",\"#FF6692\",\"#B6E880\",\"#FF97FF\",\"#FECB52\"],\"font\":{\"color\":\"#2a3f5f\"},\"hovermode\":\"closest\",\"hoverlabel\":{\"align\":\"left\"},\"paper_bgcolor\":\"white\",\"plot_bgcolor\":\"#E5ECF6\",\"polar\":{\"bgcolor\":\"#E5ECF6\",\"angularaxis\":{\"gridcolor\":\"white\",\"linecolor\":\"white\",\"ticks\":\"\"},\"radialaxis\":{\"gridcolor\":\"white\",\"linecolor\":\"white\",\"ticks\":\"\"}},\"ternary\":{\"bgcolor\":\"#E5ECF6\",\"aaxis\":{\"gridcolor\":\"white\",\"linecolor\":\"white\",\"ticks\":\"\"},\"baxis\":{\"gridcolor\":\"white\",\"linecolor\":\"white\",\"ticks\":\"\"},\"caxis\":{\"gridcolor\":\"white\",\"linecolor\":\"white\",\"ticks\":\"\"}},\"coloraxis\":{\"colorbar\":{\"outlinewidth\":0,\"ticks\":\"\"}},\"colorscale\":{\"sequential\":[[0.0,\"#0d0887\"],[0.1111111111111111,\"#46039f\"],[0.2222222222222222,\"#7201a8\"],[0.3333333333333333,\"#9c179e\"],[0.4444444444444444,\"#bd3786\"],[0.5555555555555556,\"#d8576b\"],[0.6666666666666666,\"#ed7953\"],[0.7777777777777778,\"#fb9f3a\"],[0.8888888888888888,\"#fdca26\"],[1.0,\"#f0f921\"]],\"sequentialminus\":[[0.0,\"#0d0887\"],[0.1111111111111111,\"#46039f\"],[0.2222222222222222,\"#7201a8\"],[0.3333333333333333,\"#9c179e\"],[0.4444444444444444,\"#bd3786\"],[0.5555555555555556,\"#d8576b\"],[0.6666666666666666,\"#ed7953\"],[0.7777777777777778,\"#fb9f3a\"],[0.8888888888888888,\"#fdca26\"],[1.0,\"#f0f921\"]],\"diverging\":[[0,\"#8e0152\"],[0.1,\"#c51b7d\"],[0.2,\"#de77ae\"],[0.3,\"#f1b6da\"],[0.4,\"#fde0ef\"],[0.5,\"#f7f7f7\"],[0.6,\"#e6f5d0\"],[0.7,\"#b8e186\"],[0.8,\"#7fbc41\"],[0.9,\"#4d9221\"],[1,\"#276419\"]]},\"xaxis\":{\"gridcolor\":\"white\",\"linecolor\":\"white\",\"ticks\":\"\",\"title\":{\"standoff\":15},\"zerolinecolor\":\"white\",\"automargin\":true,\"zerolinewidth\":2},\"yaxis\":{\"gridcolor\":\"white\",\"linecolor\":\"white\",\"ticks\":\"\",\"title\":{\"standoff\":15},\"zerolinecolor\":\"white\",\"automargin\":true,\"zerolinewidth\":2},\"scene\":{\"xaxis\":{\"backgroundcolor\":\"#E5ECF6\",\"gridcolor\":\"white\",\"linecolor\":\"white\",\"showbackground\":true,\"ticks\":\"\",\"zerolinecolor\":\"white\",\"gridwidth\":2},\"yaxis\":{\"backgroundcolor\":\"#E5ECF6\",\"gridcolor\":\"white\",\"linecolor\":\"white\",\"showbackground\":true,\"ticks\":\"\",\"zerolinecolor\":\"white\",\"gridwidth\":2},\"zaxis\":{\"backgroundcolor\":\"#E5ECF6\",\"gridcolor\":\"white\",\"linecolor\":\"white\",\"showbackground\":true,\"ticks\":\"\",\"zerolinecolor\":\"white\",\"gridwidth\":2}},\"shapedefaults\":{\"line\":{\"color\":\"#2a3f5f\"}},\"annotationdefaults\":{\"arrowcolor\":\"#2a3f5f\",\"arrowhead\":0,\"arrowwidth\":1},\"geo\":{\"bgcolor\":\"white\",\"landcolor\":\"#E5ECF6\",\"subunitcolor\":\"white\",\"showland\":true,\"showlakes\":true,\"lakecolor\":\"white\"},\"title\":{\"x\":0.05},\"mapbox\":{\"style\":\"light\"}}},\"xaxis\":{\"anchor\":\"y\",\"domain\":[0.0,1.0],\"title\":{\"text\":\"brand\"}},\"yaxis\":{\"anchor\":\"x\",\"domain\":[0.0,1.0],\"title\":{\"text\":\"count\"}},\"legend\":{\"tracegroupgap\":0},\"margin\":{\"t\":60},\"barmode\":\"relative\",\"height\":600,\"width\":900,\"bargap\":0.2},                        {\"responsive\": true}                    ).then(function(){\n",
       "                            \n",
       "var gd = document.getElementById('74084e1a-d175-464a-815e-66e0398e4234');\n",
       "var x = new MutationObserver(function (mutations, observer) {{\n",
       "        var display = window.getComputedStyle(gd).display;\n",
       "        if (!display || display === 'none') {{\n",
       "            console.log([gd, 'removed!']);\n",
       "            Plotly.purge(gd);\n",
       "            observer.disconnect();\n",
       "        }}\n",
       "}});\n",
       "\n",
       "// Listen for the removal of the full notebook cells\n",
       "var notebookContainer = gd.closest('#notebook-container');\n",
       "if (notebookContainer) {{\n",
       "    x.observe(notebookContainer, {childList: true});\n",
       "}}\n",
       "\n",
       "// Listen for the clearing of the current output cell\n",
       "var outputEl = gd.closest('.output');\n",
       "if (outputEl) {{\n",
       "    x.observe(outputEl, {childList: true});\n",
       "}}\n",
       "\n",
       "                        })                };                });            </script>        </div>"
      ]
     },
     "metadata": {},
     "output_type": "display_data"
    }
   ],
   "source": [
    "import plotly.express as px\n",
    "fig=px.histogram(df, x=df['brand'],width=900, height=600)\n",
    "fig.update_layout(bargap=0.2)"
   ]
  },
  {
   "cell_type": "code",
   "execution_count": 171,
   "id": "4f42a0bc",
   "metadata": {},
   "outputs": [],
   "source": [
    "brand_and_product=df['product name'].str.split(\" \")"
   ]
  },
  {
   "cell_type": "code",
   "execution_count": 188,
   "id": "3c03a1fe",
   "metadata": {},
   "outputs": [
    {
     "name": "stderr",
     "output_type": "stream",
     "text": [
      "C:\\Users\\5-16\\AppData\\Local\\Temp\\ipykernel_8616\\2429916271.py:1: SettingWithCopyWarning:\n",
      "\n",
      "\n",
      "A value is trying to be set on a copy of a slice from a DataFrame.\n",
      "Try using .loc[row_indexer,col_indexer] = value instead\n",
      "\n",
      "See the caveats in the documentation: https://pandas.pydata.org/pandas-docs/stable/user_guide/indexing.html#returning-a-view-versus-a-copy\n",
      "\n"
     ]
    }
   ],
   "source": [
    "df['series']=brand_and_product.str.get(1)"
   ]
  },
  {
   "cell_type": "code",
   "execution_count": 185,
   "id": "2eb19a73",
   "metadata": {},
   "outputs": [
    {
     "name": "stderr",
     "output_type": "stream",
     "text": [
      "C:\\Users\\5-16\\AppData\\Local\\Temp\\ipykernel_8616\\2788275012.py:1: SettingWithCopyWarning:\n",
      "\n",
      "\n",
      "A value is trying to be set on a copy of a slice from a DataFrame.\n",
      "Try using .loc[row_indexer,col_indexer] = value instead\n",
      "\n",
      "See the caveats in the documentation: https://pandas.pydata.org/pandas-docs/stable/user_guide/indexing.html#returning-a-view-versus-a-copy\n",
      "\n"
     ]
    }
   ],
   "source": [
    "df['brand']=df['brand'].str.replace('SAMSUNG','Samsung')"
   ]
  },
  {
   "cell_type": "code",
   "execution_count": 189,
   "id": "535c6d83",
   "metadata": {
    "scrolled": true
   },
   "outputs": [
    {
     "data": {
      "text/plain": [
       "Galaxy    440\n",
       "iPhone    360\n",
       "Y22        80\n",
       "10         80\n",
       "F21s       60\n",
       "A54        60\n",
       "11         60\n",
       "Blaze      41\n",
       "11T        40\n",
       "A15s       40\n",
       "V23e       40\n",
       "Y16        40\n",
       "Note       40\n",
       "A74        40\n",
       "12         40\n",
       "Mi         40\n",
       "Y35        40\n",
       "V23        20\n",
       "Y21        20\n",
       "Z20        20\n",
       "Y15s       20\n",
       "Y75        20\n",
       "Vivo       20\n",
       "Y33s       20\n",
       "K10        20\n",
       "Reno8      20\n",
       "Xiaomi     20\n",
       "A77        20\n",
       "F21        20\n",
       "A31        20\n",
       "9          20\n",
       "10T        20\n",
       "Z9         20\n",
       "Name: series, dtype: int64"
      ]
     },
     "execution_count": 189,
     "metadata": {},
     "output_type": "execute_result"
    }
   ],
   "source": [
    "df['series'].value_counts()"
   ]
  },
  {
   "cell_type": "code",
   "execution_count": 194,
   "id": "ee4f0a5e",
   "metadata": {
    "scrolled": true
   },
   "outputs": [
    {
     "data": {
      "application/vnd.plotly.v1+json": {
       "config": {
        "plotlyServerURL": "https://plot.ly"
       },
       "data": [
        {
         "domain": {
          "x": [
           0,
           1
          ],
          "y": [
           0,
           1
          ]
         },
         "hovertemplate": "label=%{label}<br>value=%{value}<extra></extra>",
         "labels": [
          "Samsung",
          "Apple",
          "OPPO",
          "vivo",
          "Redmi",
          "Xiaomi",
          "Vivo",
          "(Renewed)",
          "Lava",
          "Oppo",
          "IKALL",
          "MI"
         ],
         "legendgroup": "",
         "name": "",
         "showlegend": true,
         "type": "pie",
         "values": [
          440,
          360,
          260,
          180,
          140,
          140,
          120,
          80,
          41,
          40,
          40,
          20
         ]
        }
       ],
       "layout": {
        "legend": {
         "tracegroupgap": 0
        },
        "margin": {
         "t": 60
        },
        "template": {
         "data": {
          "bar": [
           {
            "error_x": {
             "color": "#2a3f5f"
            },
            "error_y": {
             "color": "#2a3f5f"
            },
            "marker": {
             "line": {
              "color": "#E5ECF6",
              "width": 0.5
             },
             "pattern": {
              "fillmode": "overlay",
              "size": 10,
              "solidity": 0.2
             }
            },
            "type": "bar"
           }
          ],
          "barpolar": [
           {
            "marker": {
             "line": {
              "color": "#E5ECF6",
              "width": 0.5
             },
             "pattern": {
              "fillmode": "overlay",
              "size": 10,
              "solidity": 0.2
             }
            },
            "type": "barpolar"
           }
          ],
          "carpet": [
           {
            "aaxis": {
             "endlinecolor": "#2a3f5f",
             "gridcolor": "white",
             "linecolor": "white",
             "minorgridcolor": "white",
             "startlinecolor": "#2a3f5f"
            },
            "baxis": {
             "endlinecolor": "#2a3f5f",
             "gridcolor": "white",
             "linecolor": "white",
             "minorgridcolor": "white",
             "startlinecolor": "#2a3f5f"
            },
            "type": "carpet"
           }
          ],
          "choropleth": [
           {
            "colorbar": {
             "outlinewidth": 0,
             "ticks": ""
            },
            "type": "choropleth"
           }
          ],
          "contour": [
           {
            "colorbar": {
             "outlinewidth": 0,
             "ticks": ""
            },
            "colorscale": [
             [
              0,
              "#0d0887"
             ],
             [
              0.1111111111111111,
              "#46039f"
             ],
             [
              0.2222222222222222,
              "#7201a8"
             ],
             [
              0.3333333333333333,
              "#9c179e"
             ],
             [
              0.4444444444444444,
              "#bd3786"
             ],
             [
              0.5555555555555556,
              "#d8576b"
             ],
             [
              0.6666666666666666,
              "#ed7953"
             ],
             [
              0.7777777777777778,
              "#fb9f3a"
             ],
             [
              0.8888888888888888,
              "#fdca26"
             ],
             [
              1,
              "#f0f921"
             ]
            ],
            "type": "contour"
           }
          ],
          "contourcarpet": [
           {
            "colorbar": {
             "outlinewidth": 0,
             "ticks": ""
            },
            "type": "contourcarpet"
           }
          ],
          "heatmap": [
           {
            "colorbar": {
             "outlinewidth": 0,
             "ticks": ""
            },
            "colorscale": [
             [
              0,
              "#0d0887"
             ],
             [
              0.1111111111111111,
              "#46039f"
             ],
             [
              0.2222222222222222,
              "#7201a8"
             ],
             [
              0.3333333333333333,
              "#9c179e"
             ],
             [
              0.4444444444444444,
              "#bd3786"
             ],
             [
              0.5555555555555556,
              "#d8576b"
             ],
             [
              0.6666666666666666,
              "#ed7953"
             ],
             [
              0.7777777777777778,
              "#fb9f3a"
             ],
             [
              0.8888888888888888,
              "#fdca26"
             ],
             [
              1,
              "#f0f921"
             ]
            ],
            "type": "heatmap"
           }
          ],
          "heatmapgl": [
           {
            "colorbar": {
             "outlinewidth": 0,
             "ticks": ""
            },
            "colorscale": [
             [
              0,
              "#0d0887"
             ],
             [
              0.1111111111111111,
              "#46039f"
             ],
             [
              0.2222222222222222,
              "#7201a8"
             ],
             [
              0.3333333333333333,
              "#9c179e"
             ],
             [
              0.4444444444444444,
              "#bd3786"
             ],
             [
              0.5555555555555556,
              "#d8576b"
             ],
             [
              0.6666666666666666,
              "#ed7953"
             ],
             [
              0.7777777777777778,
              "#fb9f3a"
             ],
             [
              0.8888888888888888,
              "#fdca26"
             ],
             [
              1,
              "#f0f921"
             ]
            ],
            "type": "heatmapgl"
           }
          ],
          "histogram": [
           {
            "marker": {
             "pattern": {
              "fillmode": "overlay",
              "size": 10,
              "solidity": 0.2
             }
            },
            "type": "histogram"
           }
          ],
          "histogram2d": [
           {
            "colorbar": {
             "outlinewidth": 0,
             "ticks": ""
            },
            "colorscale": [
             [
              0,
              "#0d0887"
             ],
             [
              0.1111111111111111,
              "#46039f"
             ],
             [
              0.2222222222222222,
              "#7201a8"
             ],
             [
              0.3333333333333333,
              "#9c179e"
             ],
             [
              0.4444444444444444,
              "#bd3786"
             ],
             [
              0.5555555555555556,
              "#d8576b"
             ],
             [
              0.6666666666666666,
              "#ed7953"
             ],
             [
              0.7777777777777778,
              "#fb9f3a"
             ],
             [
              0.8888888888888888,
              "#fdca26"
             ],
             [
              1,
              "#f0f921"
             ]
            ],
            "type": "histogram2d"
           }
          ],
          "histogram2dcontour": [
           {
            "colorbar": {
             "outlinewidth": 0,
             "ticks": ""
            },
            "colorscale": [
             [
              0,
              "#0d0887"
             ],
             [
              0.1111111111111111,
              "#46039f"
             ],
             [
              0.2222222222222222,
              "#7201a8"
             ],
             [
              0.3333333333333333,
              "#9c179e"
             ],
             [
              0.4444444444444444,
              "#bd3786"
             ],
             [
              0.5555555555555556,
              "#d8576b"
             ],
             [
              0.6666666666666666,
              "#ed7953"
             ],
             [
              0.7777777777777778,
              "#fb9f3a"
             ],
             [
              0.8888888888888888,
              "#fdca26"
             ],
             [
              1,
              "#f0f921"
             ]
            ],
            "type": "histogram2dcontour"
           }
          ],
          "mesh3d": [
           {
            "colorbar": {
             "outlinewidth": 0,
             "ticks": ""
            },
            "type": "mesh3d"
           }
          ],
          "parcoords": [
           {
            "line": {
             "colorbar": {
              "outlinewidth": 0,
              "ticks": ""
             }
            },
            "type": "parcoords"
           }
          ],
          "pie": [
           {
            "automargin": true,
            "type": "pie"
           }
          ],
          "scatter": [
           {
            "fillpattern": {
             "fillmode": "overlay",
             "size": 10,
             "solidity": 0.2
            },
            "type": "scatter"
           }
          ],
          "scatter3d": [
           {
            "line": {
             "colorbar": {
              "outlinewidth": 0,
              "ticks": ""
             }
            },
            "marker": {
             "colorbar": {
              "outlinewidth": 0,
              "ticks": ""
             }
            },
            "type": "scatter3d"
           }
          ],
          "scattercarpet": [
           {
            "marker": {
             "colorbar": {
              "outlinewidth": 0,
              "ticks": ""
             }
            },
            "type": "scattercarpet"
           }
          ],
          "scattergeo": [
           {
            "marker": {
             "colorbar": {
              "outlinewidth": 0,
              "ticks": ""
             }
            },
            "type": "scattergeo"
           }
          ],
          "scattergl": [
           {
            "marker": {
             "colorbar": {
              "outlinewidth": 0,
              "ticks": ""
             }
            },
            "type": "scattergl"
           }
          ],
          "scattermapbox": [
           {
            "marker": {
             "colorbar": {
              "outlinewidth": 0,
              "ticks": ""
             }
            },
            "type": "scattermapbox"
           }
          ],
          "scatterpolar": [
           {
            "marker": {
             "colorbar": {
              "outlinewidth": 0,
              "ticks": ""
             }
            },
            "type": "scatterpolar"
           }
          ],
          "scatterpolargl": [
           {
            "marker": {
             "colorbar": {
              "outlinewidth": 0,
              "ticks": ""
             }
            },
            "type": "scatterpolargl"
           }
          ],
          "scatterternary": [
           {
            "marker": {
             "colorbar": {
              "outlinewidth": 0,
              "ticks": ""
             }
            },
            "type": "scatterternary"
           }
          ],
          "surface": [
           {
            "colorbar": {
             "outlinewidth": 0,
             "ticks": ""
            },
            "colorscale": [
             [
              0,
              "#0d0887"
             ],
             [
              0.1111111111111111,
              "#46039f"
             ],
             [
              0.2222222222222222,
              "#7201a8"
             ],
             [
              0.3333333333333333,
              "#9c179e"
             ],
             [
              0.4444444444444444,
              "#bd3786"
             ],
             [
              0.5555555555555556,
              "#d8576b"
             ],
             [
              0.6666666666666666,
              "#ed7953"
             ],
             [
              0.7777777777777778,
              "#fb9f3a"
             ],
             [
              0.8888888888888888,
              "#fdca26"
             ],
             [
              1,
              "#f0f921"
             ]
            ],
            "type": "surface"
           }
          ],
          "table": [
           {
            "cells": {
             "fill": {
              "color": "#EBF0F8"
             },
             "line": {
              "color": "white"
             }
            },
            "header": {
             "fill": {
              "color": "#C8D4E3"
             },
             "line": {
              "color": "white"
             }
            },
            "type": "table"
           }
          ]
         },
         "layout": {
          "annotationdefaults": {
           "arrowcolor": "#2a3f5f",
           "arrowhead": 0,
           "arrowwidth": 1
          },
          "autotypenumbers": "strict",
          "coloraxis": {
           "colorbar": {
            "outlinewidth": 0,
            "ticks": ""
           }
          },
          "colorscale": {
           "diverging": [
            [
             0,
             "#8e0152"
            ],
            [
             0.1,
             "#c51b7d"
            ],
            [
             0.2,
             "#de77ae"
            ],
            [
             0.3,
             "#f1b6da"
            ],
            [
             0.4,
             "#fde0ef"
            ],
            [
             0.5,
             "#f7f7f7"
            ],
            [
             0.6,
             "#e6f5d0"
            ],
            [
             0.7,
             "#b8e186"
            ],
            [
             0.8,
             "#7fbc41"
            ],
            [
             0.9,
             "#4d9221"
            ],
            [
             1,
             "#276419"
            ]
           ],
           "sequential": [
            [
             0,
             "#0d0887"
            ],
            [
             0.1111111111111111,
             "#46039f"
            ],
            [
             0.2222222222222222,
             "#7201a8"
            ],
            [
             0.3333333333333333,
             "#9c179e"
            ],
            [
             0.4444444444444444,
             "#bd3786"
            ],
            [
             0.5555555555555556,
             "#d8576b"
            ],
            [
             0.6666666666666666,
             "#ed7953"
            ],
            [
             0.7777777777777778,
             "#fb9f3a"
            ],
            [
             0.8888888888888888,
             "#fdca26"
            ],
            [
             1,
             "#f0f921"
            ]
           ],
           "sequentialminus": [
            [
             0,
             "#0d0887"
            ],
            [
             0.1111111111111111,
             "#46039f"
            ],
            [
             0.2222222222222222,
             "#7201a8"
            ],
            [
             0.3333333333333333,
             "#9c179e"
            ],
            [
             0.4444444444444444,
             "#bd3786"
            ],
            [
             0.5555555555555556,
             "#d8576b"
            ],
            [
             0.6666666666666666,
             "#ed7953"
            ],
            [
             0.7777777777777778,
             "#fb9f3a"
            ],
            [
             0.8888888888888888,
             "#fdca26"
            ],
            [
             1,
             "#f0f921"
            ]
           ]
          },
          "colorway": [
           "#636efa",
           "#EF553B",
           "#00cc96",
           "#ab63fa",
           "#FFA15A",
           "#19d3f3",
           "#FF6692",
           "#B6E880",
           "#FF97FF",
           "#FECB52"
          ],
          "font": {
           "color": "#2a3f5f"
          },
          "geo": {
           "bgcolor": "white",
           "lakecolor": "white",
           "landcolor": "#E5ECF6",
           "showlakes": true,
           "showland": true,
           "subunitcolor": "white"
          },
          "hoverlabel": {
           "align": "left"
          },
          "hovermode": "closest",
          "mapbox": {
           "style": "light"
          },
          "paper_bgcolor": "white",
          "plot_bgcolor": "#E5ECF6",
          "polar": {
           "angularaxis": {
            "gridcolor": "white",
            "linecolor": "white",
            "ticks": ""
           },
           "bgcolor": "#E5ECF6",
           "radialaxis": {
            "gridcolor": "white",
            "linecolor": "white",
            "ticks": ""
           }
          },
          "scene": {
           "xaxis": {
            "backgroundcolor": "#E5ECF6",
            "gridcolor": "white",
            "gridwidth": 2,
            "linecolor": "white",
            "showbackground": true,
            "ticks": "",
            "zerolinecolor": "white"
           },
           "yaxis": {
            "backgroundcolor": "#E5ECF6",
            "gridcolor": "white",
            "gridwidth": 2,
            "linecolor": "white",
            "showbackground": true,
            "ticks": "",
            "zerolinecolor": "white"
           },
           "zaxis": {
            "backgroundcolor": "#E5ECF6",
            "gridcolor": "white",
            "gridwidth": 2,
            "linecolor": "white",
            "showbackground": true,
            "ticks": "",
            "zerolinecolor": "white"
           }
          },
          "shapedefaults": {
           "line": {
            "color": "#2a3f5f"
           }
          },
          "ternary": {
           "aaxis": {
            "gridcolor": "white",
            "linecolor": "white",
            "ticks": ""
           },
           "baxis": {
            "gridcolor": "white",
            "linecolor": "white",
            "ticks": ""
           },
           "bgcolor": "#E5ECF6",
           "caxis": {
            "gridcolor": "white",
            "linecolor": "white",
            "ticks": ""
           }
          },
          "title": {
           "x": 0.05
          },
          "xaxis": {
           "automargin": true,
           "gridcolor": "white",
           "linecolor": "white",
           "ticks": "",
           "title": {
            "standoff": 15
           },
           "zerolinecolor": "white",
           "zerolinewidth": 2
          },
          "yaxis": {
           "automargin": true,
           "gridcolor": "white",
           "linecolor": "white",
           "ticks": "",
           "title": {
            "standoff": 15
           },
           "zerolinecolor": "white",
           "zerolinewidth": 2
          }
         }
        }
       }
      },
      "text/html": [
       "<div>                            <div id=\"d000934e-ca90-48f5-9927-6b0935ea3cbd\" class=\"plotly-graph-div\" style=\"height:525px; width:100%;\"></div>            <script type=\"text/javascript\">                require([\"plotly\"], function(Plotly) {                    window.PLOTLYENV=window.PLOTLYENV || {};                                    if (document.getElementById(\"d000934e-ca90-48f5-9927-6b0935ea3cbd\")) {                    Plotly.newPlot(                        \"d000934e-ca90-48f5-9927-6b0935ea3cbd\",                        [{\"domain\":{\"x\":[0.0,1.0],\"y\":[0.0,1.0]},\"hovertemplate\":\"label=%{label}<br>value=%{value}<extra></extra>\",\"labels\":[\"Samsung\",\"Apple\",\"OPPO\",\"vivo\",\"Redmi\",\"Xiaomi\",\"Vivo\",\"(Renewed)\",\"Lava\",\"Oppo\",\"IKALL\",\"MI\"],\"legendgroup\":\"\",\"name\":\"\",\"showlegend\":true,\"values\":[440,360,260,180,140,140,120,80,41,40,40,20],\"type\":\"pie\"}],                        {\"template\":{\"data\":{\"histogram2dcontour\":[{\"type\":\"histogram2dcontour\",\"colorbar\":{\"outlinewidth\":0,\"ticks\":\"\"},\"colorscale\":[[0.0,\"#0d0887\"],[0.1111111111111111,\"#46039f\"],[0.2222222222222222,\"#7201a8\"],[0.3333333333333333,\"#9c179e\"],[0.4444444444444444,\"#bd3786\"],[0.5555555555555556,\"#d8576b\"],[0.6666666666666666,\"#ed7953\"],[0.7777777777777778,\"#fb9f3a\"],[0.8888888888888888,\"#fdca26\"],[1.0,\"#f0f921\"]]}],\"choropleth\":[{\"type\":\"choropleth\",\"colorbar\":{\"outlinewidth\":0,\"ticks\":\"\"}}],\"histogram2d\":[{\"type\":\"histogram2d\",\"colorbar\":{\"outlinewidth\":0,\"ticks\":\"\"},\"colorscale\":[[0.0,\"#0d0887\"],[0.1111111111111111,\"#46039f\"],[0.2222222222222222,\"#7201a8\"],[0.3333333333333333,\"#9c179e\"],[0.4444444444444444,\"#bd3786\"],[0.5555555555555556,\"#d8576b\"],[0.6666666666666666,\"#ed7953\"],[0.7777777777777778,\"#fb9f3a\"],[0.8888888888888888,\"#fdca26\"],[1.0,\"#f0f921\"]]}],\"heatmap\":[{\"type\":\"heatmap\",\"colorbar\":{\"outlinewidth\":0,\"ticks\":\"\"},\"colorscale\":[[0.0,\"#0d0887\"],[0.1111111111111111,\"#46039f\"],[0.2222222222222222,\"#7201a8\"],[0.3333333333333333,\"#9c179e\"],[0.4444444444444444,\"#bd3786\"],[0.5555555555555556,\"#d8576b\"],[0.6666666666666666,\"#ed7953\"],[0.7777777777777778,\"#fb9f3a\"],[0.8888888888888888,\"#fdca26\"],[1.0,\"#f0f921\"]]}],\"heatmapgl\":[{\"type\":\"heatmapgl\",\"colorbar\":{\"outlinewidth\":0,\"ticks\":\"\"},\"colorscale\":[[0.0,\"#0d0887\"],[0.1111111111111111,\"#46039f\"],[0.2222222222222222,\"#7201a8\"],[0.3333333333333333,\"#9c179e\"],[0.4444444444444444,\"#bd3786\"],[0.5555555555555556,\"#d8576b\"],[0.6666666666666666,\"#ed7953\"],[0.7777777777777778,\"#fb9f3a\"],[0.8888888888888888,\"#fdca26\"],[1.0,\"#f0f921\"]]}],\"contourcarpet\":[{\"type\":\"contourcarpet\",\"colorbar\":{\"outlinewidth\":0,\"ticks\":\"\"}}],\"contour\":[{\"type\":\"contour\",\"colorbar\":{\"outlinewidth\":0,\"ticks\":\"\"},\"colorscale\":[[0.0,\"#0d0887\"],[0.1111111111111111,\"#46039f\"],[0.2222222222222222,\"#7201a8\"],[0.3333333333333333,\"#9c179e\"],[0.4444444444444444,\"#bd3786\"],[0.5555555555555556,\"#d8576b\"],[0.6666666666666666,\"#ed7953\"],[0.7777777777777778,\"#fb9f3a\"],[0.8888888888888888,\"#fdca26\"],[1.0,\"#f0f921\"]]}],\"surface\":[{\"type\":\"surface\",\"colorbar\":{\"outlinewidth\":0,\"ticks\":\"\"},\"colorscale\":[[0.0,\"#0d0887\"],[0.1111111111111111,\"#46039f\"],[0.2222222222222222,\"#7201a8\"],[0.3333333333333333,\"#9c179e\"],[0.4444444444444444,\"#bd3786\"],[0.5555555555555556,\"#d8576b\"],[0.6666666666666666,\"#ed7953\"],[0.7777777777777778,\"#fb9f3a\"],[0.8888888888888888,\"#fdca26\"],[1.0,\"#f0f921\"]]}],\"mesh3d\":[{\"type\":\"mesh3d\",\"colorbar\":{\"outlinewidth\":0,\"ticks\":\"\"}}],\"scatter\":[{\"fillpattern\":{\"fillmode\":\"overlay\",\"size\":10,\"solidity\":0.2},\"type\":\"scatter\"}],\"parcoords\":[{\"type\":\"parcoords\",\"line\":{\"colorbar\":{\"outlinewidth\":0,\"ticks\":\"\"}}}],\"scatterpolargl\":[{\"type\":\"scatterpolargl\",\"marker\":{\"colorbar\":{\"outlinewidth\":0,\"ticks\":\"\"}}}],\"bar\":[{\"error_x\":{\"color\":\"#2a3f5f\"},\"error_y\":{\"color\":\"#2a3f5f\"},\"marker\":{\"line\":{\"color\":\"#E5ECF6\",\"width\":0.5},\"pattern\":{\"fillmode\":\"overlay\",\"size\":10,\"solidity\":0.2}},\"type\":\"bar\"}],\"scattergeo\":[{\"type\":\"scattergeo\",\"marker\":{\"colorbar\":{\"outlinewidth\":0,\"ticks\":\"\"}}}],\"scatterpolar\":[{\"type\":\"scatterpolar\",\"marker\":{\"colorbar\":{\"outlinewidth\":0,\"ticks\":\"\"}}}],\"histogram\":[{\"marker\":{\"pattern\":{\"fillmode\":\"overlay\",\"size\":10,\"solidity\":0.2}},\"type\":\"histogram\"}],\"scattergl\":[{\"type\":\"scattergl\",\"marker\":{\"colorbar\":{\"outlinewidth\":0,\"ticks\":\"\"}}}],\"scatter3d\":[{\"type\":\"scatter3d\",\"line\":{\"colorbar\":{\"outlinewidth\":0,\"ticks\":\"\"}},\"marker\":{\"colorbar\":{\"outlinewidth\":0,\"ticks\":\"\"}}}],\"scattermapbox\":[{\"type\":\"scattermapbox\",\"marker\":{\"colorbar\":{\"outlinewidth\":0,\"ticks\":\"\"}}}],\"scatterternary\":[{\"type\":\"scatterternary\",\"marker\":{\"colorbar\":{\"outlinewidth\":0,\"ticks\":\"\"}}}],\"scattercarpet\":[{\"type\":\"scattercarpet\",\"marker\":{\"colorbar\":{\"outlinewidth\":0,\"ticks\":\"\"}}}],\"carpet\":[{\"aaxis\":{\"endlinecolor\":\"#2a3f5f\",\"gridcolor\":\"white\",\"linecolor\":\"white\",\"minorgridcolor\":\"white\",\"startlinecolor\":\"#2a3f5f\"},\"baxis\":{\"endlinecolor\":\"#2a3f5f\",\"gridcolor\":\"white\",\"linecolor\":\"white\",\"minorgridcolor\":\"white\",\"startlinecolor\":\"#2a3f5f\"},\"type\":\"carpet\"}],\"table\":[{\"cells\":{\"fill\":{\"color\":\"#EBF0F8\"},\"line\":{\"color\":\"white\"}},\"header\":{\"fill\":{\"color\":\"#C8D4E3\"},\"line\":{\"color\":\"white\"}},\"type\":\"table\"}],\"barpolar\":[{\"marker\":{\"line\":{\"color\":\"#E5ECF6\",\"width\":0.5},\"pattern\":{\"fillmode\":\"overlay\",\"size\":10,\"solidity\":0.2}},\"type\":\"barpolar\"}],\"pie\":[{\"automargin\":true,\"type\":\"pie\"}]},\"layout\":{\"autotypenumbers\":\"strict\",\"colorway\":[\"#636efa\",\"#EF553B\",\"#00cc96\",\"#ab63fa\",\"#FFA15A\",\"#19d3f3\",\"#FF6692\",\"#B6E880\",\"#FF97FF\",\"#FECB52\"],\"font\":{\"color\":\"#2a3f5f\"},\"hovermode\":\"closest\",\"hoverlabel\":{\"align\":\"left\"},\"paper_bgcolor\":\"white\",\"plot_bgcolor\":\"#E5ECF6\",\"polar\":{\"bgcolor\":\"#E5ECF6\",\"angularaxis\":{\"gridcolor\":\"white\",\"linecolor\":\"white\",\"ticks\":\"\"},\"radialaxis\":{\"gridcolor\":\"white\",\"linecolor\":\"white\",\"ticks\":\"\"}},\"ternary\":{\"bgcolor\":\"#E5ECF6\",\"aaxis\":{\"gridcolor\":\"white\",\"linecolor\":\"white\",\"ticks\":\"\"},\"baxis\":{\"gridcolor\":\"white\",\"linecolor\":\"white\",\"ticks\":\"\"},\"caxis\":{\"gridcolor\":\"white\",\"linecolor\":\"white\",\"ticks\":\"\"}},\"coloraxis\":{\"colorbar\":{\"outlinewidth\":0,\"ticks\":\"\"}},\"colorscale\":{\"sequential\":[[0.0,\"#0d0887\"],[0.1111111111111111,\"#46039f\"],[0.2222222222222222,\"#7201a8\"],[0.3333333333333333,\"#9c179e\"],[0.4444444444444444,\"#bd3786\"],[0.5555555555555556,\"#d8576b\"],[0.6666666666666666,\"#ed7953\"],[0.7777777777777778,\"#fb9f3a\"],[0.8888888888888888,\"#fdca26\"],[1.0,\"#f0f921\"]],\"sequentialminus\":[[0.0,\"#0d0887\"],[0.1111111111111111,\"#46039f\"],[0.2222222222222222,\"#7201a8\"],[0.3333333333333333,\"#9c179e\"],[0.4444444444444444,\"#bd3786\"],[0.5555555555555556,\"#d8576b\"],[0.6666666666666666,\"#ed7953\"],[0.7777777777777778,\"#fb9f3a\"],[0.8888888888888888,\"#fdca26\"],[1.0,\"#f0f921\"]],\"diverging\":[[0,\"#8e0152\"],[0.1,\"#c51b7d\"],[0.2,\"#de77ae\"],[0.3,\"#f1b6da\"],[0.4,\"#fde0ef\"],[0.5,\"#f7f7f7\"],[0.6,\"#e6f5d0\"],[0.7,\"#b8e186\"],[0.8,\"#7fbc41\"],[0.9,\"#4d9221\"],[1,\"#276419\"]]},\"xaxis\":{\"gridcolor\":\"white\",\"linecolor\":\"white\",\"ticks\":\"\",\"title\":{\"standoff\":15},\"zerolinecolor\":\"white\",\"automargin\":true,\"zerolinewidth\":2},\"yaxis\":{\"gridcolor\":\"white\",\"linecolor\":\"white\",\"ticks\":\"\",\"title\":{\"standoff\":15},\"zerolinecolor\":\"white\",\"automargin\":true,\"zerolinewidth\":2},\"scene\":{\"xaxis\":{\"backgroundcolor\":\"#E5ECF6\",\"gridcolor\":\"white\",\"linecolor\":\"white\",\"showbackground\":true,\"ticks\":\"\",\"zerolinecolor\":\"white\",\"gridwidth\":2},\"yaxis\":{\"backgroundcolor\":\"#E5ECF6\",\"gridcolor\":\"white\",\"linecolor\":\"white\",\"showbackground\":true,\"ticks\":\"\",\"zerolinecolor\":\"white\",\"gridwidth\":2},\"zaxis\":{\"backgroundcolor\":\"#E5ECF6\",\"gridcolor\":\"white\",\"linecolor\":\"white\",\"showbackground\":true,\"ticks\":\"\",\"zerolinecolor\":\"white\",\"gridwidth\":2}},\"shapedefaults\":{\"line\":{\"color\":\"#2a3f5f\"}},\"annotationdefaults\":{\"arrowcolor\":\"#2a3f5f\",\"arrowhead\":0,\"arrowwidth\":1},\"geo\":{\"bgcolor\":\"white\",\"landcolor\":\"#E5ECF6\",\"subunitcolor\":\"white\",\"showland\":true,\"showlakes\":true,\"lakecolor\":\"white\"},\"title\":{\"x\":0.05},\"mapbox\":{\"style\":\"light\"}}},\"legend\":{\"tracegroupgap\":0},\"margin\":{\"t\":60}},                        {\"responsive\": true}                    ).then(function(){\n",
       "                            \n",
       "var gd = document.getElementById('d000934e-ca90-48f5-9927-6b0935ea3cbd');\n",
       "var x = new MutationObserver(function (mutations, observer) {{\n",
       "        var display = window.getComputedStyle(gd).display;\n",
       "        if (!display || display === 'none') {{\n",
       "            console.log([gd, 'removed!']);\n",
       "            Plotly.purge(gd);\n",
       "            observer.disconnect();\n",
       "        }}\n",
       "}});\n",
       "\n",
       "// Listen for the removal of the full notebook cells\n",
       "var notebookContainer = gd.closest('#notebook-container');\n",
       "if (notebookContainer) {{\n",
       "    x.observe(notebookContainer, {childList: true});\n",
       "}}\n",
       "\n",
       "// Listen for the clearing of the current output cell\n",
       "var outputEl = gd.closest('.output');\n",
       "if (outputEl) {{\n",
       "    x.observe(outputEl, {childList: true});\n",
       "}}\n",
       "\n",
       "                        })                };                });            </script>        </div>"
      ]
     },
     "metadata": {},
     "output_type": "display_data"
    }
   ],
   "source": [
    "fig = px.pie(df,names=df['brand'].value_counts().index,values=df['brand'].value_counts())\n",
    "fig.show()"
   ]
  },
  {
   "cell_type": "code",
   "execution_count": 201,
   "id": "e9b318c8",
   "metadata": {},
   "outputs": [],
   "source": [
    "df_max1=df.loc[df['Price']==df['Price'].max(),]"
   ]
  },
  {
   "cell_type": "code",
   "execution_count": 208,
   "id": "9aa83252",
   "metadata": {
    "scrolled": true
   },
   "outputs": [
    {
     "data": {
      "text/plain": [
       "Samsung      440\n",
       "Apple        360\n",
       "OPPO         260\n",
       "vivo         180\n",
       "Redmi        140\n",
       "Xiaomi       140\n",
       "Vivo         120\n",
       "(Renewed)     80\n",
       "Lava          41\n",
       "Oppo          40\n",
       "IKALL         40\n",
       "MI            20\n",
       "Name: brand, dtype: int64"
      ]
     },
     "execution_count": 208,
     "metadata": {},
     "output_type": "execute_result"
    }
   ],
   "source": [
    "df['brand'].value_counts()"
   ]
  },
  {
   "cell_type": "code",
   "execution_count": null,
   "id": "4ef52dea",
   "metadata": {},
   "outputs": [],
   "source": []
  }
 ],
 "metadata": {
  "kernelspec": {
   "display_name": "Python 3 (ipykernel)",
   "language": "python",
   "name": "python3"
  },
  "language_info": {
   "codemirror_mode": {
    "name": "ipython",
    "version": 3
   },
   "file_extension": ".py",
   "mimetype": "text/x-python",
   "name": "python",
   "nbconvert_exporter": "python",
   "pygments_lexer": "ipython3",
   "version": "3.8.13"
  }
 },
 "nbformat": 4,
 "nbformat_minor": 5
}
